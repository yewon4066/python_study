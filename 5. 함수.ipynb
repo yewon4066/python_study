{
 "cells": [
  {
   "cell_type": "code",
   "execution_count": 20,
   "id": "126131c4-88c2-4bc6-b3ab-6e5fce5b4009",
   "metadata": {},
   "outputs": [],
   "source": [
    "# 함수는 def 함수명( 함수 안에서 사용할 변수들 ): define\n",
    "\n",
    "def add (a,b):  # def 함수를 정의할 때 사용 \n",
    "    return a + b  # return 함수의 실행 결과를 반환\n",
    "\n",
    "def sub (a,b):  # 띄어쓰기 주의\n",
    "    return a-b\n",
    "\n",
    "def mul (a,b):\n",
    "    return a*b\n",
    "    \n",
    "def div (a,b):\n",
    "    if b==0:\n",
    "        return \" b = 0 \"\n",
    "    return a/b"
   ]
  },
  {
   "cell_type": "code",
   "execution_count": 21,
   "id": "f4d33138-a1a6-4e98-93f6-040864900449",
   "metadata": {},
   "outputs": [
    {
     "data": {
      "text/plain": [
       "3"
      ]
     },
     "execution_count": 21,
     "metadata": {},
     "output_type": "execute_result"
    }
   ],
   "source": [
    "add(1,2)"
   ]
  },
  {
   "cell_type": "code",
   "execution_count": 22,
   "id": "51ee1ef7-e81a-420e-82fe-70b3c4b5feb2",
   "metadata": {},
   "outputs": [
    {
     "data": {
      "text/plain": [
       "3"
      ]
     },
     "execution_count": 22,
     "metadata": {},
     "output_type": "execute_result"
    }
   ],
   "source": [
    "c=1\n",
    "d=2\n",
    "add(c,d)"
   ]
  },
  {
   "cell_type": "code",
   "execution_count": 23,
   "id": "2568e52b-1bc2-4c6f-ab19-a830cdf673c7",
   "metadata": {},
   "outputs": [
    {
     "data": {
      "text/plain": [
       "-1"
      ]
     },
     "execution_count": 23,
     "metadata": {},
     "output_type": "execute_result"
    }
   ],
   "source": [
    "sub (c,d)"
   ]
  },
  {
   "cell_type": "code",
   "execution_count": 24,
   "id": "592b8334-bfc7-46e9-bc5a-a656e7d17eed",
   "metadata": {},
   "outputs": [
    {
     "data": {
      "text/plain": [
       "' b = 0 '"
      ]
     },
     "execution_count": 24,
     "metadata": {},
     "output_type": "execute_result"
    }
   ],
   "source": [
    "c = 1\n",
    "d = 0\n",
    "div (c,d)"
   ]
  },
  {
   "cell_type": "code",
   "execution_count": 31,
   "id": "75a85f1f-1702-4673-9ce2-99eb0b9b11c9",
   "metadata": {},
   "outputs": [],
   "source": [
    "def user_avg(a,b,c):\n",
    "    avg = (a+b+c)/d\n",
    "    return avg"
   ]
  },
  {
   "cell_type": "code",
   "execution_count": 32,
   "id": "ad1d46f3-251a-42b5-9978-aae70887636f",
   "metadata": {},
   "outputs": [
    {
     "data": {
      "text/plain": [
       "0.6"
      ]
     },
     "execution_count": 32,
     "metadata": {},
     "output_type": "execute_result"
    }
   ],
   "source": [
    "result = user_avg(1,2,3)\n",
    "result"
   ]
  },
  {
   "cell_type": "code",
   "execution_count": 33,
   "id": "c4ef4b31-22fb-4cbc-ab46-3c5fc90ed912",
   "metadata": {},
   "outputs": [
    {
     "data": {
      "text/plain": [
       "0.6"
      ]
     },
     "execution_count": 33,
     "metadata": {},
     "output_type": "execute_result"
    }
   ],
   "source": [
    "d=10                  # 전역 변수다\n",
    "user_avg(1,2,3)"
   ]
  },
  {
   "cell_type": "code",
   "execution_count": 37,
   "id": "0abf0d7b-bc46-43cc-91bf-359fea49931d",
   "metadata": {},
   "outputs": [],
   "source": [
    "def user_avg(a,b,c):\n",
    "    global avg2        # global은 지역 변수를 전역변수화\n",
    "    avg2 = (a+b+c)/d\n"
   ]
  },
  {
   "cell_type": "code",
   "execution_count": 38,
   "id": "bac4626f-9795-4683-983f-cc057416ff31",
   "metadata": {},
   "outputs": [],
   "source": [
    "user_avg(1,2,3)"
   ]
  },
  {
   "cell_type": "code",
   "execution_count": 39,
   "id": "42396c81-c15c-4aad-b0d9-011bb12b6b8b",
   "metadata": {},
   "outputs": [
    {
     "name": "stdout",
     "output_type": "stream",
     "text": [
      "0.6\n"
     ]
    }
   ],
   "source": [
    "print(avg2)"
   ]
  },
  {
   "cell_type": "code",
   "execution_count": 40,
   "id": "5517a8aa-1429-4bdf-9869-1daf3d74b57e",
   "metadata": {},
   "outputs": [],
   "source": [
    "# 변수값의 교환(swap)"
   ]
  },
  {
   "cell_type": "code",
   "execution_count": 48,
   "id": "83646fcc-76a5-4cad-b9fb-3100b1ba5a6e",
   "metadata": {},
   "outputs": [
    {
     "name": "stdout",
     "output_type": "stream",
     "text": [
      "swap 전 na 값 :  10 20\n",
      "swap 후 na 값 :  20 20\n",
      "20\n"
     ]
    }
   ],
   "source": [
    "na=10\n",
    "nb=20\n",
    "\n",
    "print(\"swap 전 na 값 : \", na, nb )\n",
    "na=nb\n",
    "print(\"swap 후 na 값 : \", na,nb )\n",
    "print(nb)"
   ]
  },
  {
   "cell_type": "code",
   "execution_count": 55,
   "id": "7cd6279c-1e79-4cd0-b83d-d76643114bc5",
   "metadata": {},
   "outputs": [
    {
     "name": "stdout",
     "output_type": "stream",
     "text": [
      "swap 전 na 값 :  10 20\n",
      "swap 후 na 값 :  20 10\n"
     ]
    }
   ],
   "source": [
    "na=10\n",
    "nb=20\n",
    "\n",
    "print(\"swap 전 na 값 : \", na,nb )\n",
    "\n",
    "temp = na     # na를 temp로 피신\n",
    "na=nb\n",
    "nb=temp\n",
    "\n",
    "print(\"swap 후 na 값 : \", na,nb )"
   ]
  },
  {
   "cell_type": "code",
   "execution_count": 83,
   "id": "7d276c62-3a4b-42bf-b708-5cac79f102d1",
   "metadata": {},
   "outputs": [
    {
     "name": "stdout",
     "output_type": "stream",
     "text": [
      "swap 전 na 값 :  10 20\n",
      "swap 후 na 값 :  20 10\n"
     ]
    }
   ],
   "source": [
    "def swapa ():\n",
    "    global na, nb\n",
    "    temp = na\n",
    "    na=nb\n",
    "    nb=temp\n",
    "\n",
    "na = 10\n",
    "nb = 20\n",
    "\n",
    "print(\"swap 전 na 값 : \", na,nb )\n",
    "swapa()\n",
    "print(\"swap 후 na 값 : \", na,nb )    "
   ]
  },
  {
   "cell_type": "code",
   "execution_count": 63,
   "id": "0e996c14-c200-45e7-a1fd-bff3f878b44d",
   "metadata": {},
   "outputs": [
    {
     "name": "stdout",
     "output_type": "stream",
     "text": [
      "swap 전 na 값 :  10 20\n",
      "swap 후 na 값 :  20 10\n"
     ]
    }
   ],
   "source": [
    "def swapa (pa, pb):\n",
    "    temp = pa\n",
    "    pa=pb\n",
    "    pb=temp\n",
    "    return pa, pb\n",
    "na = 10\n",
    "nb = 20\n",
    "\n",
    "print(\"swap 전 na 값 : \", na,nb )\n",
    "na,nb = swapa(na, nb)\n",
    "print(\"swap 후 na 값 : \", na,nb )    "
   ]
  },
  {
   "cell_type": "code",
   "execution_count": 64,
   "id": "a78a35b7-6b83-434d-83ff-55613eea8482",
   "metadata": {},
   "outputs": [],
   "source": [
    "def persona(width, height):\n",
    "    print(\" 함수 디폴트 값 없음, width = \", width, \" height = \", height)\n",
    "\n",
    "def personb(width=60, height=180):\n",
    "    print(\" 함수 디폴트 값 없음, width = \", width, \" height = \", height)"
   ]
  },
  {
   "cell_type": "code",
   "execution_count": 65,
   "id": "10a71dbf-8818-4bb6-9599-5aff2d14f6a8",
   "metadata": {},
   "outputs": [
    {
     "name": "stdout",
     "output_type": "stream",
     "text": [
      " 함수 디폴트 값 없음, width =  10  height =  20\n"
     ]
    }
   ],
   "source": [
    "persona(10,20)"
   ]
  },
  {
   "cell_type": "code",
   "execution_count": 66,
   "id": "d5c7b854-472a-4e23-bb1f-750980eb394f",
   "metadata": {},
   "outputs": [
    {
     "name": "stdout",
     "output_type": "stream",
     "text": [
      " 함수 디폴트 값 없음, width =  60  height =  180\n"
     ]
    }
   ],
   "source": [
    "personb()"
   ]
  },
  {
   "cell_type": "code",
   "execution_count": 71,
   "id": "d66714b0-468b-4bfe-afc7-7dbf36debde6",
   "metadata": {},
   "outputs": [
    {
     "name": "stdout",
     "output_type": "stream",
     "text": [
      " 함수 디폴트 값 없음, width =  50  height =  180\n"
     ]
    }
   ],
   "source": [
    "personb(50) # 앞의 값은 생략 불가"
   ]
  },
  {
   "cell_type": "code",
   "execution_count": 70,
   "id": "e98092d1-f836-4b73-a034-998a031cb8e3",
   "metadata": {},
   "outputs": [
    {
     "name": "stdout",
     "output_type": "stream",
     "text": [
      " 함수 디폴트 값 없음, width =  50  height =  190\n"
     ]
    }
   ],
   "source": [
    "personb(50,190)"
   ]
  },
  {
   "cell_type": "code",
   "execution_count": 73,
   "id": "585143fe-35a8-4845-baca-431496555cd5",
   "metadata": {},
   "outputs": [
    {
     "ename": "SyntaxError",
     "evalue": "invalid syntax (3157656774.py, line 1)",
     "output_type": "error",
     "traceback": [
      "\u001b[1;36m  Cell \u001b[1;32mIn[73], line 1\u001b[1;36m\u001b[0m\n\u001b[1;33m    personb(,190)  # 파라미터는 순서대로 사용할 수 있음.\u001b[0m\n\u001b[1;37m            ^\u001b[0m\n\u001b[1;31mSyntaxError\u001b[0m\u001b[1;31m:\u001b[0m invalid syntax\n"
     ]
    }
   ],
   "source": [
    "personb(,190)  # 파라미터는 순서대로 사용할 수 있음."
   ]
  },
  {
   "cell_type": "code",
   "execution_count": 75,
   "id": "3fd067f2-ec39-4dbd-96a7-2684ef9b72b2",
   "metadata": {},
   "outputs": [
    {
     "name": "stdout",
     "output_type": "stream",
     "text": [
      "[0]\n"
     ]
    }
   ],
   "source": [
    "def fget(nums=[0]):\n",
    "    return nums\n",
    "\n",
    "result1 = fget()\n",
    "print(result1)"
   ]
  },
  {
   "cell_type": "code",
   "execution_count": 77,
   "id": "bddff742-b9b1-4f82-ac94-08e097287b74",
   "metadata": {},
   "outputs": [
    {
     "name": "stdout",
     "output_type": "stream",
     "text": [
      "[1, 2, 3, 4, 5]\n"
     ]
    }
   ],
   "source": [
    "result2 = fget([1,2,3,4,5])\n",
    "print(result2)"
   ]
  },
  {
   "cell_type": "code",
   "execution_count": 84,
   "id": "af121626-a3b0-4cf2-8983-9ccb40ca9129",
   "metadata": {},
   "outputs": [],
   "source": [
    "def fgets(nums=[0]):\n",
    "    for n in nums:\n",
    "        print(n)"
   ]
  },
  {
   "cell_type": "code",
   "execution_count": 79,
   "id": "85965158-88ec-45a0-8429-31b99f784e62",
   "metadata": {},
   "outputs": [
    {
     "name": "stdout",
     "output_type": "stream",
     "text": [
      "0\n"
     ]
    }
   ],
   "source": [
    "fgets()"
   ]
  },
  {
   "cell_type": "code",
   "execution_count": 80,
   "id": "86f3cb42-a37d-40ec-a54e-cfc216e6cda0",
   "metadata": {},
   "outputs": [
    {
     "name": "stdout",
     "output_type": "stream",
     "text": [
      "1\n",
      "2\n",
      "3\n",
      "4\n",
      "5\n"
     ]
    }
   ],
   "source": [
    "fgets([1,2,3,4,5])"
   ]
  },
  {
   "cell_type": "code",
   "execution_count": null,
   "id": "a862d0fe-c5a3-4e30-8a0e-2343f3ea5675",
   "metadata": {},
   "outputs": [],
   "source": []
  }
 ],
 "metadata": {
  "kernelspec": {
   "display_name": "Python 3 (ipykernel)",
   "language": "python",
   "name": "python3"
  },
  "language_info": {
   "codemirror_mode": {
    "name": "ipython",
    "version": 3
   },
   "file_extension": ".py",
   "mimetype": "text/x-python",
   "name": "python",
   "nbconvert_exporter": "python",
   "pygments_lexer": "ipython3",
   "version": "3.12.8"
  }
 },
 "nbformat": 4,
 "nbformat_minor": 5
}
