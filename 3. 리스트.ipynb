{
 "cells": [
  {
   "cell_type": "code",
   "execution_count": 15,
   "id": "25addf5d-a5b7-4199-abcd-8ff00c9e3938",
   "metadata": {},
   "outputs": [
    {
     "data": {
      "text/plain": [
       "'C:\\\\Users\\\\ITBANK NR 306_3'"
      ]
     },
     "execution_count": 15,
     "metadata": {},
     "output_type": "execute_result"
    }
   ],
   "source": [
    "# 프로그램의 위치 찾기\n",
    "\n",
    "import os\n",
    "os.getcwd()     # get current work directory"
   ]
  },
  {
   "cell_type": "code",
   "execution_count": 3,
   "id": "fd4b149e-5f46-4f2f-b738-60273d4a1505",
   "metadata": {},
   "outputs": [
    {
     "data": {
      "text/plain": [
       "['삼성전자 ', 'SK하이닉스', '네이버']"
      ]
     },
     "execution_count": 3,
     "metadata": {},
     "output_type": "execute_result"
    }
   ],
   "source": [
    "company_list = ['삼성전자 ','SK하이닉스','네이버']\n",
    "company_list"
   ]
  },
  {
   "cell_type": "code",
   "execution_count": 4,
   "id": "ea9b2218-9498-4b54-a40f-c9c89d3e864a",
   "metadata": {},
   "outputs": [
    {
     "name": "stdout",
     "output_type": "stream",
     "text": [
      "['삼성전자 ', 'SK하이닉스', '네이버']\n"
     ]
    }
   ],
   "source": [
    "print(company_list)"
   ]
  },
  {
   "cell_type": "code",
   "execution_count": 5,
   "id": "eb92e869-f0cd-401f-94e5-a08742f7c55b",
   "metadata": {},
   "outputs": [
    {
     "data": {
      "text/plain": [
       "list"
      ]
     },
     "execution_count": 5,
     "metadata": {},
     "output_type": "execute_result"
    }
   ],
   "source": [
    "type (company_list)"
   ]
  },
  {
   "cell_type": "code",
   "execution_count": 6,
   "id": "bde8ae1f-01fe-46fe-a889-e766e80c5745",
   "metadata": {},
   "outputs": [
    {
     "data": {
      "text/plain": [
       "'삼성전자 '"
      ]
     },
     "execution_count": 6,
     "metadata": {},
     "output_type": "execute_result"
    }
   ],
   "source": [
    "company_list[0]"
   ]
  },
  {
   "cell_type": "code",
   "execution_count": 7,
   "id": "4f0524f5-b4a0-4ea0-aefe-3d1de48df000",
   "metadata": {},
   "outputs": [
    {
     "data": {
      "text/plain": [
       "'SK하이닉스'"
      ]
     },
     "execution_count": 7,
     "metadata": {},
     "output_type": "execute_result"
    }
   ],
   "source": [
    "company_list[1]"
   ]
  },
  {
   "cell_type": "code",
   "execution_count": 8,
   "id": "cad31e33-8b42-41d7-9a86-a73e07236eb4",
   "metadata": {},
   "outputs": [
    {
     "data": {
      "text/plain": [
       "'SK하이닉스'"
      ]
     },
     "execution_count": 8,
     "metadata": {},
     "output_type": "execute_result"
    }
   ],
   "source": [
    "company_list[0]\n",
    "company_list[1]"
   ]
  },
  {
   "cell_type": "code",
   "execution_count": 9,
   "id": "466274aa-2106-4669-8392-00d43eaa4715",
   "metadata": {},
   "outputs": [
    {
     "name": "stdout",
     "output_type": "stream",
     "text": [
      "삼성전자 \n",
      "SK하이닉스\n",
      "네이버\n"
     ]
    }
   ],
   "source": [
    "print(company_list[0])\n",
    "print(company_list[1])\n",
    "print(company_list[-1])"
   ]
  },
  {
   "cell_type": "code",
   "execution_count": 11,
   "id": "a2057349-aef7-444c-86ee-4d036c004d94",
   "metadata": {},
   "outputs": [
    {
     "data": {
      "text/plain": [
       "['애플', '구글', '테슬라']"
      ]
     },
     "execution_count": 11,
     "metadata": {},
     "output_type": "execute_result"
    }
   ],
   "source": [
    "company_list[0] = '애플'\n",
    "company_list[1] = '구글'\n",
    "company_list[2] = '테슬라'\n",
    "company_list"
   ]
  },
  {
   "cell_type": "code",
   "execution_count": 12,
   "id": "327f7560-2bb6-4da2-b3e3-962801202d65",
   "metadata": {},
   "outputs": [
    {
     "data": {
      "text/plain": [
       "['애플', '구글', '테슬라', '마이크로소프트']"
      ]
     },
     "execution_count": 12,
     "metadata": {},
     "output_type": "execute_result"
    }
   ],
   "source": [
    "company_list.append('마이크로소프트')\n",
    "company_list"
   ]
  },
  {
   "cell_type": "code",
   "execution_count": 13,
   "id": "17d1827f-d021-42d8-82a9-1343ed40cafd",
   "metadata": {},
   "outputs": [
    {
     "data": {
      "text/plain": [
       "['구글', '테슬라', '마이크로소프트']"
      ]
     },
     "execution_count": 13,
     "metadata": {},
     "output_type": "execute_result"
    }
   ],
   "source": [
    "del company_list[0]  # 리스트의 0번쨰 요소를 삭제\n",
    "company_list"
   ]
  },
  {
   "cell_type": "code",
   "execution_count": 14,
   "id": "f89c9cb6-9242-47c7-b6ac-0895caf87171",
   "metadata": {},
   "outputs": [
    {
     "data": {
      "text/plain": [
       "3"
      ]
     },
     "execution_count": 14,
     "metadata": {},
     "output_type": "execute_result"
    }
   ],
   "source": [
    "len(company_list)  # 리스트 요소의 개수"
   ]
  },
  {
   "cell_type": "code",
   "execution_count": 16,
   "id": "b57cdea8-2453-46fc-91dc-09a9278d3a99",
   "metadata": {},
   "outputs": [
    {
     "data": {
      "text/plain": [
       "[1, 2, 3, 4, 5, 6, 7, 8, 9]"
      ]
     },
     "execution_count": 16,
     "metadata": {},
     "output_type": "execute_result"
    }
   ],
   "source": [
    "num_list = [1,2,3,4,5,6,7,8,9]\n",
    "num_list"
   ]
  },
  {
   "cell_type": "code",
   "execution_count": 17,
   "id": "0c37f6af-ff6d-4611-9bbd-df8a8bc2d7d0",
   "metadata": {},
   "outputs": [
    {
     "data": {
      "text/plain": [
       "1"
      ]
     },
     "execution_count": 17,
     "metadata": {},
     "output_type": "execute_result"
    }
   ],
   "source": [
    "num_list[0]"
   ]
  },
  {
   "cell_type": "code",
   "execution_count": 18,
   "id": "7c26fb83-9c41-46b0-b183-183ba88499c9",
   "metadata": {},
   "outputs": [
    {
     "data": {
      "text/plain": [
       "[1, 2, 3, 4]"
      ]
     },
     "execution_count": 18,
     "metadata": {},
     "output_type": "execute_result"
    }
   ],
   "source": [
    "num_list[0:4]"
   ]
  },
  {
   "cell_type": "code",
   "execution_count": 19,
   "id": "7f3782c3-1a4a-47b6-8fd3-978b9ef73027",
   "metadata": {},
   "outputs": [
    {
     "data": {
      "text/plain": [
       "[3, 4, 5]"
      ]
     },
     "execution_count": 19,
     "metadata": {},
     "output_type": "execute_result"
    }
   ],
   "source": [
    "num_list [2:5]"
   ]
  },
  {
   "cell_type": "code",
   "execution_count": 20,
   "id": "62dddbd4-05e3-4466-add9-07bef3d6bcff",
   "metadata": {},
   "outputs": [
    {
     "data": {
      "text/plain": [
       "[6, 7, 8, 9]"
      ]
     },
     "execution_count": 20,
     "metadata": {},
     "output_type": "execute_result"
    }
   ],
   "source": [
    "num_list[5:]  # 증가치 생략"
   ]
  },
  {
   "cell_type": "code",
   "execution_count": 22,
   "id": "70b9e24b-38b7-4f93-be0a-3bb99086260e",
   "metadata": {},
   "outputs": [
    {
     "data": {
      "text/plain": [
       "[1, 4, 7]"
      ]
     },
     "execution_count": 22,
     "metadata": {},
     "output_type": "execute_result"
    }
   ],
   "source": [
    "num_list[ : :3]  # 초기:목표-1:증가치 (초기가 생략)"
   ]
  },
  {
   "cell_type": "code",
   "execution_count": 24,
   "id": "0bc78aaf-7a8d-4ea1-97da-bab547b3ede9",
   "metadata": {},
   "outputs": [
    {
     "data": {
      "text/plain": [
       "[9, 6, 3]"
      ]
     },
     "execution_count": 24,
     "metadata": {},
     "output_type": "execute_result"
    }
   ],
   "source": [
    "num_list[ : :-3]  # 그냥 해봄"
   ]
  },
  {
   "cell_type": "code",
   "execution_count": 27,
   "id": "e68a9d79-4a1f-416e-aa2f-3a9c9b458dd4",
   "metadata": {},
   "outputs": [
    {
     "name": "stdout",
     "output_type": "stream",
     "text": [
      "대검을(를) 확인했습니다\n",
      "창닫기\n",
      "포션을(를) 확인했습니다\n",
      "창닫기\n",
      "마법서을(를) 확인했습니다\n",
      "창닫기\n"
     ]
    }
   ],
   "source": [
    "inventory = ['대검', '포션', '마법서']\n",
    "\n",
    "for item in inventory:\n",
    "    print(item + '을(를) 확인했습니다')\n",
    "    print('창닫기')"
   ]
  },
  {
   "cell_type": "code",
   "execution_count": 42,
   "id": "23f2384f-3473-44e2-8598-8066de50e3f1",
   "metadata": {},
   "outputs": [],
   "source": [
    "game_map = [    # 리스트 [  리스트 [], [], []]\n",
    "    ['대검','포션',None],\n",
    "    [None,'보물상자','포션'],\n",
    "    ['몬스터','열쇠']\n",
    "]"
   ]
  },
  {
   "cell_type": "code",
   "execution_count": 37,
   "id": "5a63276a-0651-442f-879b-dbf18549eb0a",
   "metadata": {},
   "outputs": [
    {
     "name": "stdout",
     "output_type": "stream",
     "text": [
      "['대검', '포션', None]\n",
      "item  대검\n",
      "item  포션\n",
      "item  None\n",
      "[None, '보물상자', '포션']\n",
      "item  None\n",
      "item  보물상자\n",
      "item  포션\n",
      "['몬스터', None, '열쇠']\n",
      "item  몬스터\n",
      "item  None\n",
      "item  열쇠\n"
     ]
    }
   ],
   "source": [
    "for game in game_map:\n",
    "    print(game)\n",
    "    for item in game:\n",
    "        print('item ', item)"
   ]
  },
  {
   "cell_type": "code",
   "execution_count": 38,
   "id": "b87737cc-f6b7-4cc8-89c0-935c6edd5079",
   "metadata": {},
   "outputs": [
    {
     "data": {
      "text/plain": [
       "str"
      ]
     },
     "execution_count": 38,
     "metadata": {},
     "output_type": "execute_result"
    }
   ],
   "source": [
    "type(game_map[0][0])"
   ]
  },
  {
   "cell_type": "code",
   "execution_count": 40,
   "id": "ce08d70b-3af9-4d88-962b-5ffb21a3a74f",
   "metadata": {},
   "outputs": [
    {
     "data": {
      "text/plain": [
       "'대검'"
      ]
     },
     "execution_count": 40,
     "metadata": {},
     "output_type": "execute_result"
    }
   ],
   "source": [
    "game_map[0][0]"
   ]
  },
  {
   "cell_type": "code",
   "execution_count": 44,
   "id": "600b973e-a166-4285-9fb3-d840c70f728d",
   "metadata": {},
   "outputs": [
    {
     "ename": "IndexError",
     "evalue": "list index out of range",
     "output_type": "error",
     "traceback": [
      "\u001b[1;31m---------------------------------------------------------------------------\u001b[0m",
      "\u001b[1;31mIndexError\u001b[0m                                Traceback (most recent call last)",
      "Cell \u001b[1;32mIn[44], line 1\u001b[0m\n\u001b[1;32m----> 1\u001b[0m game_map[\u001b[38;5;241m2\u001b[39m][\u001b[38;5;241m2\u001b[39m]\n",
      "\u001b[1;31mIndexError\u001b[0m: list index out of range"
     ]
    }
   ],
   "source": [
    "game_map[2][2]   # 주의해서 사용할 것"
   ]
  },
  {
   "cell_type": "code",
   "execution_count": 45,
   "id": "3ac9a9df-f536-44b9-8e2e-e334a02fecbc",
   "metadata": {},
   "outputs": [
    {
     "name": "stdout",
     "output_type": "stream",
     "text": [
      "최고 점수 :  200\n"
     ]
    }
   ],
   "source": [
    "# 최고 점수 찾기\n",
    "scores = [120,150,180,200,170]\n",
    "max_score = 0\n",
    "for score in scores:\n",
    "    if score > max_score:\n",
    "        max_score = score\n",
    "print('최고 점수 : ', max_score)"
   ]
  },
  {
   "cell_type": "code",
   "execution_count": 77,
   "id": "7b302faf-c953-4c36-b8e1-139e011dd308",
   "metadata": {},
   "outputs": [],
   "source": [
    "def user_max(scores,max_score=0):\n",
    "    for score in score:\n",
    "        if score > max_score:\n",
    "            max_score = score\n",
    "    return max_score"
   ]
  },
  {
   "cell_type": "code",
   "execution_count": 78,
   "id": "3a527333-ef10-410f-ab64-45d5bcb36afb",
   "metadata": {},
   "outputs": [
    {
     "ename": "UnboundLocalError",
     "evalue": "cannot access local variable 'score' where it is not associated with a value",
     "output_type": "error",
     "traceback": [
      "\u001b[1;31m---------------------------------------------------------------------------\u001b[0m",
      "\u001b[1;31mUnboundLocalError\u001b[0m                         Traceback (most recent call last)",
      "Cell \u001b[1;32mIn[78], line 2\u001b[0m\n\u001b[0;32m      1\u001b[0m scores \u001b[38;5;241m=\u001b[39m [\u001b[38;5;241m120\u001b[39m,\u001b[38;5;241m150\u001b[39m,\u001b[38;5;241m180\u001b[39m,\u001b[38;5;241m200\u001b[39m,\u001b[38;5;241m170\u001b[39m]\n\u001b[1;32m----> 2\u001b[0m user_max(scores)\n",
      "Cell \u001b[1;32mIn[77], line 2\u001b[0m, in \u001b[0;36muser_max\u001b[1;34m(scores, max_score)\u001b[0m\n\u001b[0;32m      1\u001b[0m \u001b[38;5;28;01mdef\u001b[39;00m \u001b[38;5;21muser_max\u001b[39m(scores,max_score\u001b[38;5;241m=\u001b[39m\u001b[38;5;241m0\u001b[39m):\n\u001b[1;32m----> 2\u001b[0m     \u001b[38;5;28;01mfor\u001b[39;00m score \u001b[38;5;129;01min\u001b[39;00m score:\n\u001b[0;32m      3\u001b[0m         \u001b[38;5;28;01mif\u001b[39;00m score \u001b[38;5;241m>\u001b[39m max_score:\n\u001b[0;32m      4\u001b[0m             max_score \u001b[38;5;241m=\u001b[39m score\n",
      "\u001b[1;31mUnboundLocalError\u001b[0m: cannot access local variable 'score' where it is not associated with a value"
     ]
    }
   ],
   "source": [
    "scores = [120,150,180,200,170]\n",
    "user_max(scores)"
   ]
  },
  {
   "cell_type": "code",
   "execution_count": 46,
   "id": "4ed215dc-db61-46c0-b0fe-4a91e65d39cd",
   "metadata": {},
   "outputs": [
    {
     "data": {
      "text/plain": [
       "200"
      ]
     },
     "execution_count": 46,
     "metadata": {},
     "output_type": "execute_result"
    }
   ],
   "source": [
    "max(scores)"
   ]
  },
  {
   "cell_type": "code",
   "execution_count": null,
   "id": "3fa786b3-e474-4df7-89d2-aa73e5be6336",
   "metadata": {},
   "outputs": [],
   "source": []
  },
  {
   "cell_type": "code",
   "execution_count": 47,
   "id": "d9a7695f-c640-4050-a91d-29fd7fbdca69",
   "metadata": {},
   "outputs": [
    {
     "data": {
      "text/plain": [
       "120"
      ]
     },
     "execution_count": 47,
     "metadata": {},
     "output_type": "execute_result"
    }
   ],
   "source": [
    "min(scores)"
   ]
  },
  {
   "cell_type": "code",
   "execution_count": 68,
   "id": "ccff0046-ab02-4fb7-9030-afd00676c18f",
   "metadata": {},
   "outputs": [
    {
     "name": "stdout",
     "output_type": "stream",
     "text": [
      "17\n"
     ]
    }
   ],
   "source": [
    "#실습문제 : 합계 구하기\n",
    "\n",
    "rooms = [\n",
    "    [3,1,2],\n",
    "    [2,0,1],\n",
    "    [1,3,4]\n",
    "]\n",
    "\n",
    "total = 0\n",
    "\n",
    "for room in rooms:\n",
    "    total = total + sum(room)\n",
    "\n",
    "print(total)"
   ]
  },
  {
   "cell_type": "code",
   "execution_count": null,
   "id": "a1e86481-560d-4108-81bb-0cc2cfaf57ac",
   "metadata": {},
   "outputs": [],
   "source": [
    "total = 0\n",
    "\n",
    "for room in rooms:\n",
    "    for "
   ]
  },
  {
   "cell_type": "code",
   "execution_count": 56,
   "id": "beeab55a-46b2-4763-ab1d-d3330b553bfe",
   "metadata": {},
   "outputs": [
    {
     "data": {
      "text/plain": [
       "3"
      ]
     },
     "execution_count": 56,
     "metadata": {},
     "output_type": "execute_result"
    }
   ],
   "source": [
    "rooms[0][0]"
   ]
  },
  {
   "cell_type": "code",
   "execution_count": 64,
   "id": "9345bbfb-3bc9-49a5-96c3-5c31b54443a6",
   "metadata": {},
   "outputs": [
    {
     "data": {
      "text/plain": [
       "4"
      ]
     },
     "execution_count": 64,
     "metadata": {},
     "output_type": "execute_result"
    }
   ],
   "source": [
    "rooms[0][0]+rooms[0][1]"
   ]
  },
  {
   "cell_type": "code",
   "execution_count": 66,
   "id": "76645c01-1470-4a9a-98da-c6c53d1cf7ec",
   "metadata": {},
   "outputs": [
    {
     "data": {
      "text/plain": [
       "3"
      ]
     },
     "execution_count": 66,
     "metadata": {},
     "output_type": "execute_result"
    }
   ],
   "source": [
    "a=0\n",
    "b=0\n",
    "rooms[a][b]"
   ]
  },
  {
   "cell_type": "code",
   "execution_count": 63,
   "id": "532e406c-d239-43d7-bebe-a3d83a55abc4",
   "metadata": {},
   "outputs": [
    {
     "name": "stdout",
     "output_type": "stream",
     "text": [
      "3\n",
      "1\n",
      "2\n",
      "2\n",
      "0\n",
      "1\n",
      "1\n",
      "3\n",
      "4\n"
     ]
    }
   ],
   "source": [
    "gkq=0\n",
    "gk=0\n",
    "for gkq in rooms:\n",
    "    for gk in gkq:\n",
    "        if gk < 5:\n",
    "            print(gk)\n",
    "        \n",
    "    \n",
    "\n"
   ]
  }
 ],
 "metadata": {
  "kernelspec": {
   "display_name": "Python 3 (ipykernel)",
   "language": "python",
   "name": "python3"
  },
  "language_info": {
   "codemirror_mode": {
    "name": "ipython",
    "version": 3
   },
   "file_extension": ".py",
   "mimetype": "text/x-python",
   "name": "python",
   "nbconvert_exporter": "python",
   "pygments_lexer": "ipython3",
   "version": "3.12.8"
  }
 },
 "nbformat": 4,
 "nbformat_minor": 5
}
