{
 "cells": [
  {
   "cell_type": "markdown",
   "id": "0d15a680-3af4-48e9-b862-2dc961814f5a",
   "metadata": {},
   "source": [
    "# 1. 조건문 예제"
   ]
  },
  {
   "cell_type": "markdown",
   "id": "67f695fa-d9ed-40c1-a7dd-c1205c89d591",
   "metadata": {},
   "source": [
    "## 1.1: 짝수와 홀수 판별하기"
   ]
  },
  {
   "cell_type": "code",
   "execution_count": 20,
   "id": "982c1a40-c003-484c-b88a-9f3f70e89e3d",
   "metadata": {},
   "outputs": [
    {
     "name": "stdin",
     "output_type": "stream",
     "text": [
      "정수를 입력하세요:  55\n"
     ]
    },
    {
     "name": "stdout",
     "output_type": "stream",
     "text": [
      "55은(는) 홀수입니다.\n"
     ]
    }
   ],
   "source": [
    "number = int(input(\"정수를 입력하세요: \"))\n",
    "\n",
    "if number % 2 == 0:\n",
    "    print(f\"{number}은(는) 짝수입니다.\")\n",
    "else:\n",
    "    print(f\"{number}은(는) 홀수입니다.\")"
   ]
  },
  {
   "cell_type": "markdown",
   "id": "9486f9a1-783c-40d5-bb62-53a603545f22",
   "metadata": {},
   "source": [
    "## 1.2 성적에 따른 학점 출력"
   ]
  },
  {
   "cell_type": "code",
   "execution_count": 19,
   "id": "31199792-b6df-4b32-8617-e6e8e0f3e04a",
   "metadata": {},
   "outputs": [
    {
     "name": "stdin",
     "output_type": "stream",
     "text": [
      "점수를 입력하세요 (0 ~ 100):  45\n"
     ]
    },
    {
     "name": "stdout",
     "output_type": "stream",
     "text": [
      "F학점입니다.\n"
     ]
    }
   ],
   "source": [
    "# 점수를 입력받아 학점을 출력\n",
    "score = int(input(\"점수를 입력하세요 (0 ~ 100): \"))\n",
    "\n",
    "if score >= 90:\n",
    "    print(\"A학점입니다.\")\n",
    "elif score >= 80:\n",
    "    print(\"B학점입니다.\")\n",
    "elif score >= 70:\n",
    "    print(\"C학점입니다.\")\n",
    "elif score >= 60:\n",
    "    print(\"D학점입니다.\")\n",
    "else:\n",
    "    print(\"F학점입니다.\")"
   ]
  },
  {
   "cell_type": "markdown",
   "id": "ae5d078a-0dd9-4254-9dff-3b5746632655",
   "metadata": {},
   "source": [
    "# 1.3 로그인 시스템"
   ]
  },
  {
   "cell_type": "code",
   "execution_count": 29,
   "id": "d5e5e7bb-3aea-49e2-9863-39d5f390de1b",
   "metadata": {},
   "outputs": [
    {
     "name": "stdin",
     "output_type": "stream",
     "text": [
      "사용자 아이디를 입력하세요 admin\n",
      "사용자 비밀번호를 입력하세요 1234\n"
     ]
    },
    {
     "name": "stdout",
     "output_type": "stream",
     "text": [
      "로그인 성공!\n"
     ]
    }
   ],
   "source": [
    "# 간단한 로그인 시스템\n",
    "user_id = \"admin\"\n",
    "user_pw = \"1234\"\n",
    "\n",
    "input_id = input('사용자 아이디를 입력하세요')\n",
    "input_pw = input('사용자 비밀번호를 입력하세요')\n",
    "if user_id == input_id:\n",
    "    if user_pw == input_pw:\n",
    "        print('로그인 성공!')\n",
    "    else:\n",
    "        print('비밀번호가 틀립니다.')\n",
    "else:\n",
    "    print('등록된 사용자 아이디가 틀립니다.')"
   ]
  },
  {
   "cell_type": "code",
   "execution_count": 28,
   "id": "33200eaf-f801-443f-bae1-87da404229e7",
   "metadata": {},
   "outputs": [
    {
     "name": "stdin",
     "output_type": "stream",
     "text": [
      "사용자 아이디를 입력하세요 ㅁㅇ\n",
      "사용자 비밀번호를 입력하세요 ㅁㅇ\n"
     ]
    },
    {
     "name": "stdout",
     "output_type": "stream",
     "text": [
      "등록된 사용자 아이디나 비밀번호가 틀립니다.\n"
     ]
    }
   ],
   "source": [
    "# 간단한 로그인 시스템\n",
    "user_id = \"admin\"\n",
    "user_pw = \"1234\"\n",
    "\n",
    "input_id = input('사용자 아이디를 입력하세요')\n",
    "input_pw = input('사용자 비밀번호를 입력하세요')\n",
    "\n",
    "if user_id == input_id and user_pw == input_pw:\n",
    "    print('로그인 성공!')\n",
    "else:\n",
    "    print('등록된 사용자 아이디나 비밀번호가 틀립니다.')"
   ]
  },
  {
   "cell_type": "markdown",
   "id": "c4d723f9-dd1b-4aaa-8d7c-160f096ed504",
   "metadata": {},
   "source": [
    "# 2. 반복문 예제"
   ]
  },
  {
   "cell_type": "markdown",
   "id": "572d6c7d-2284-4c81-b47e-e87c0dc8601d",
   "metadata": {},
   "source": [
    "# 2.1 1부터 10까지 숫자 출력 (for문)"
   ]
  },
  {
   "cell_type": "code",
   "execution_count": 37,
   "id": "1f2ab741-326f-4b8a-bf59-b1258e392f33",
   "metadata": {},
   "outputs": [
    {
     "name": "stdout",
     "output_type": "stream",
     "text": [
      "1\n",
      "2\n",
      "3\n",
      "4\n",
      "5\n",
      "6\n",
      "7\n",
      "8\n",
      "9\n",
      "10\n"
     ]
    }
   ],
   "source": [
    "for i in range(1,11):  #(초기값, 목표값+1, 증가값)\n",
    "    print(i)"
   ]
  },
  {
   "cell_type": "code",
   "execution_count": 36,
   "id": "2231eb36-fcc1-4503-b427-f63bd15d4c7c",
   "metadata": {},
   "outputs": [
    {
     "name": "stdout",
     "output_type": "stream",
     "text": [
      "1\n",
      "3\n",
      "5\n",
      "7\n",
      "9\n"
     ]
    }
   ],
   "source": [
    "for i in range(1,11,2):  #(초기값, 목표값+1, 증가값)\n",
    "    print(i)"
   ]
  },
  {
   "cell_type": "code",
   "execution_count": 40,
   "id": "2a5d522d-9757-49a9-8fe2-627b5591438f",
   "metadata": {},
   "outputs": [
    {
     "name": "stdout",
     "output_type": "stream",
     "text": [
      "a\n",
      "b\n",
      "c\n",
      "d\n"
     ]
    }
   ],
   "source": [
    "text_list = ['a', 'b' , 'c', 'd']\n",
    "\n",
    "for txt in text_list:\n",
    "    print(txt)"
   ]
  },
  {
   "cell_type": "code",
   "execution_count": 42,
   "id": "068de186-b902-4d09-be01-8c6f3ba6fb71",
   "metadata": {},
   "outputs": [
    {
     "name": "stdout",
     "output_type": "stream",
     "text": [
      "a b c d "
     ]
    }
   ],
   "source": [
    "text_list = ['a', 'b' , 'c', 'd']\n",
    "\n",
    "for txt in text_list:\n",
    "    print(txt, end=\" \")"
   ]
  },
  {
   "cell_type": "markdown",
   "id": "a76c382b-6537-4a11-9942-27e43c4b67b7",
   "metadata": {},
   "source": [
    "## 2.2 특정 단 구구단 출력"
   ]
  },
  {
   "cell_type": "code",
   "execution_count": 44,
   "id": "369f0732-c177-474d-abf7-f4d8d1b1e0a6",
   "metadata": {},
   "outputs": [
    {
     "name": "stdin",
     "output_type": "stream",
     "text": [
      "출력할 구구단의 단수를 입력하세요:  5\n"
     ]
    },
    {
     "name": "stdout",
     "output_type": "stream",
     "text": [
      "5 X 1 = 5\n",
      "5 X 2 = 10\n",
      "5 X 3 = 15\n",
      "5 X 4 = 20\n",
      "5 X 5 = 25\n",
      "5 X 6 = 30\n",
      "5 X 7 = 35\n",
      "5 X 8 = 40\n",
      "5 X 9 = 45\n"
     ]
    }
   ],
   "source": [
    "# 사용자로부터 구구단 단수를 입력받아 출력\n",
    "dan = int(input(\"출력할 구구단의 단수를 입력하세요: \"))\n",
    "\n",
    "for i in range(1, 10):\n",
    "    print(f'{dan} X {i} = {dan *i}')"
   ]
  },
  {
   "cell_type": "markdown",
   "id": "f665bd48-f68a-491e-9809-014b90c699e1",
   "metadata": {},
   "source": [
    "## 2.3 리스트 요소 출력"
   ]
  },
  {
   "cell_type": "code",
   "execution_count": 45,
   "id": "8eb767bd-51a1-4bd5-87b7-605d39d012e0",
   "metadata": {},
   "outputs": [
    {
     "name": "stdout",
     "output_type": "stream",
     "text": [
      "사과\n",
      "바나나\n",
      "포도\n",
      "오렌지\n"
     ]
    }
   ],
   "source": [
    "#리스트에 저장된 과일 이름 출력\n",
    "fruits = [\"사과\", \"바나나\", \"포도\", \"오렌지\"]\n",
    "\n",
    "for fruit in fruits:\n",
    "    print(fruit)"
   ]
  },
  {
   "cell_type": "code",
   "execution_count": 48,
   "id": "9cdecb02-dca5-4aa7-a9d4-dcb11078004f",
   "metadata": {},
   "outputs": [
    {
     "name": "stdout",
     "output_type": "stream",
     "text": [
      "사과 바나나 포도 오렌지 "
     ]
    }
   ],
   "source": [
    "#리스트에 저장된 과일 이름 출력\n",
    "fruits = [\"사과\", \"바나나\", \"포도\", \"오렌지\"]\n",
    "\n",
    "for fruit in fruits:\n",
    "    print(fruit,end=\" \")"
   ]
  },
  {
   "cell_type": "markdown",
   "id": "cd0a19b2-8342-4c04-9a79-02a83d5f6b2c",
   "metadata": {},
   "source": [
    "## 2.4 for 문 사용해서 1 ~ 100까지 합계 구하기"
   ]
  },
  {
   "cell_type": "markdown",
   "id": "82df2329-142c-49a1-b4e3-08b368a361d4",
   "metadata": {},
   "source": [
    "tot = 0\n",
    "\n",
    "for i in range(1,101):\n",
    "    tot = tot + i\n",
    "print('합계 =', tot)"
   ]
  },
  {
   "cell_type": "markdown",
   "id": "b992fc04-49f9-454e-92e1-88c86aec664e",
   "metadata": {},
   "source": [
    "## 2.5 while 문 사용해서 1 ~ 100까지 합계 구하기\n"
   ]
  },
  {
   "cell_type": "code",
   "execution_count": 61,
   "id": "7d4af028-2a25-41cb-90c4-ce9c2cf163f5",
   "metadata": {},
   "outputs": [
    {
     "name": "stdout",
     "output_type": "stream",
     "text": [
      "합계 = 5050\n"
     ]
    }
   ],
   "source": [
    "# while문에서 break 사용 예제\n",
    "tot = 0\n",
    "cnt = 0\n",
    "\n",
    "while True:\n",
    "    if cnt > 99:\n",
    "        break\n",
    "        \n",
    "    cnt = cnt + 1\n",
    "    tot = tot + cnt\n",
    "print('합계 =', tot)"
   ]
  },
  {
   "cell_type": "code",
   "execution_count": 62,
   "id": "3427c66b-a92d-4878-8d5b-eebdcf3599fb",
   "metadata": {},
   "outputs": [
    {
     "name": "stdout",
     "output_type": "stream",
     "text": [
      "1부터 100까지의 합은 5050입니다.\n"
     ]
    }
   ],
   "source": [
    "tot = 0\n",
    "cnt = 0\n",
    "while cnt < 100:\n",
    "        \n",
    "    cnt = cnt + 1\n",
    "    tot = tot + cnt\n",
    "print(f\"1부터 {cnt}까지의 합은 {tot}입니다.\")"
   ]
  },
  {
   "cell_type": "markdown",
   "id": "c6af1872-1de8-4c18-ac08-b8db4ee1b8b5",
   "metadata": {},
   "source": [
    "## 2.6 continue 사용 예제"
   ]
  },
  {
   "cell_type": "code",
   "execution_count": 1,
   "id": "bb9cd6e2-d26c-480a-a2d9-92c1c08bb226",
   "metadata": {},
   "outputs": [
    {
     "name": "stdout",
     "output_type": "stream",
     "text": [
      "1\n",
      "3\n",
      "5\n",
      "7\n",
      "9\n"
     ]
    }
   ],
   "source": [
    "# 1 부터 10까지 출력하는데 홀수만 출력하시오.\n",
    "\n",
    "for i in range(1, 11):\n",
    "    if i % 2 == 0:\n",
    "        continue\n",
    "    print(i)\n",
    "    "
   ]
  },
  {
   "cell_type": "code",
   "execution_count": 2,
   "id": "04ccf198-3499-4546-b0f3-fa84baf47f3f",
   "metadata": {},
   "outputs": [
    {
     "name": "stdout",
     "output_type": "stream",
     "text": [
      "2\n",
      "4\n",
      "6\n",
      "8\n",
      "10\n"
     ]
    }
   ],
   "source": [
    "# 1 부터 10까지 출력하는데 짝수만 출력하시오.\n",
    "\n",
    "for i in range(1, 11):\n",
    "    if i % 2 == 1:\n",
    "        continue\n",
    "    print(i)"
   ]
  },
  {
   "cell_type": "markdown",
   "id": "71f2af84-b45e-4c92-a897-28d3523ef1b1",
   "metadata": {},
   "source": [
    "## 2.7 별 출력 프로그램"
   ]
  },
  {
   "cell_type": "code",
   "execution_count": 70,
   "id": "47278876-94cb-4ff1-ab62-5a3be248c401",
   "metadata": {},
   "outputs": [
    {
     "name": "stdin",
     "output_type": "stream",
     "text": [
      "출력할 줄 수를 입력하세요: 3\n"
     ]
    },
    {
     "name": "stdout",
     "output_type": "stream",
     "text": [
      "*\n",
      "**\n",
      "***\n"
     ]
    }
   ],
   "source": [
    "# 사용자로부터 숫자를 입력받아서 해당 숫자 만큼 별을 출력\n",
    "\n",
    "n = int(input('출력할 줄 수를 입력하세요:'))\n",
    "\n",
    "for i in range(1, n + 1):\n",
    "    print('*' * i)"
   ]
  },
  {
   "cell_type": "markdown",
   "id": "31fff48e-cf66-4ff7-b129-7780da5bb9a1",
   "metadata": {},
   "source": [
    "## 2.8 숫자 피라미드 (세모)"
   ]
  },
  {
   "cell_type": "code",
   "execution_count": 71,
   "id": "5e4c1706-07a4-4178-8eda-66601534becf",
   "metadata": {},
   "outputs": [
    {
     "ename": "SyntaxError",
     "evalue": "invalid syntax (41792825.py, line 2)",
     "output_type": "error",
     "traceback": [
      "\u001b[1;36m  Cell \u001b[1;32mIn[71], line 2\u001b[1;36m\u001b[0m\n\u001b[1;33m    for i = in range(1, ):\u001b[0m\n\u001b[1;37m          ^\u001b[0m\n\u001b[1;31mSyntaxError\u001b[0m\u001b[1;31m:\u001b[0m invalid syntax\n"
     ]
    }
   ],
   "source": [
    "n= int(input('피라미드의 높이를 입력하세요:'))\n",
    "\n",
    "for i = in range(1, n + 1 ):\n",
    "    for J in range(1, ):\n",
    "        print(, end=' ')\n",
    "    print()\n",
    "    "
   ]
  },
  {
   "cell_type": "code",
   "execution_count": 79,
   "id": "c6b79633-76f2-4908-8f89-f29e1505a21d",
   "metadata": {},
   "outputs": [
    {
     "name": "stdin",
     "output_type": "stream",
     "text": [
      "피라미드 높이: 5\n"
     ]
    },
    {
     "name": "stdout",
     "output_type": "stream",
     "text": [
      "1\n",
      "2\n",
      "3\n",
      "4\n",
      "5\n"
     ]
    }
   ],
   "source": [
    "n= int(input('피라미드 높이:'))\n",
    "\n",
    "for i in range(1, n+1):\n",
    "    print(i)"
   ]
  },
  {
   "cell_type": "code",
   "execution_count": 92,
   "id": "d9766a46-a454-4c65-9f4a-83a34b272b38",
   "metadata": {},
   "outputs": [
    {
     "name": "stdin",
     "output_type": "stream",
     "text": [
      "피라미드 높이: 5\n"
     ]
    },
    {
     "name": "stdout",
     "output_type": "stream",
     "text": [
      "1 \n",
      "2 2 \n",
      "3 3 3 \n",
      "4 4 4 4 \n",
      "5 5 5 5 5 \n"
     ]
    }
   ],
   "source": [
    "n= int(input('피라미드 높이:'))\n",
    "\n",
    "for i in range(1, n+1):\n",
    "    for J in range(1, i+1):\n",
    "        print(i, end=\" \")\n",
    "    print()"
   ]
  },
  {
   "cell_type": "code",
   "execution_count": 93,
   "id": "e715e73c-c50b-4890-91a9-a8f2e6b78002",
   "metadata": {},
   "outputs": [
    {
     "name": "stdin",
     "output_type": "stream",
     "text": [
      "피라미드 높이: 5\n"
     ]
    },
    {
     "name": "stdout",
     "output_type": "stream",
     "text": [
      "1 \n",
      "1 2 \n",
      "1 2 3 \n",
      "1 2 3 4 \n",
      "1 2 3 4 5 \n"
     ]
    }
   ],
   "source": [
    "n= int(input('피라미드 높이:'))\n",
    "\n",
    "for i in range(1, n+1):\n",
    "    for J in range(1, i+1):\n",
    "        print(J, end=\" \")\n",
    "    print()"
   ]
  },
  {
   "cell_type": "code",
   "execution_count": 108,
   "id": "5a140f84-51f1-42af-94fa-0df9dc13b075",
   "metadata": {},
   "outputs": [
    {
     "name": "stdin",
     "output_type": "stream",
     "text": [
      "피라미드 높이: 3\n"
     ]
    },
    {
     "name": "stdout",
     "output_type": "stream",
     "text": [
      "1\n",
      "2\n",
      "3\n"
     ]
    }
   ],
   "source": [
    "n= int(input('피라미드 높이:'))\n",
    "\n",
    "for i in range(1, n+1):\n",
    "    print(i)"
   ]
  },
  {
   "cell_type": "code",
   "execution_count": 112,
   "id": "39c5b2b3-b1ea-4840-8810-2aa301a713fb",
   "metadata": {},
   "outputs": [
    {
     "name": "stdout",
     "output_type": "stream",
     "text": [
      "\n",
      "    1 단\n",
      " 1 X 1 = 1\n",
      " 1 X 2 = 2\n",
      " 1 X 3 = 3\n",
      " 1 X 4 = 4\n",
      " 1 X 5 = 5\n",
      " 1 X 6 = 6\n",
      " 1 X 7 = 7\n",
      " 1 X 8 = 8\n",
      " 1 X 9 = 9\n",
      "\n",
      "    2 단\n",
      " 2 X 1 = 2\n",
      " 2 X 2 = 4\n",
      " 2 X 3 = 6\n",
      " 2 X 4 = 8\n",
      " 2 X 5 = 10\n",
      " 2 X 6 = 12\n",
      " 2 X 7 = 14\n",
      " 2 X 8 = 16\n",
      " 2 X 9 = 18\n",
      "\n",
      "    3 단\n",
      " 3 X 1 = 3\n",
      " 3 X 2 = 6\n",
      " 3 X 3 = 9\n",
      " 3 X 4 = 12\n",
      " 3 X 5 = 15\n",
      " 3 X 6 = 18\n",
      " 3 X 7 = 21\n",
      " 3 X 8 = 24\n",
      " 3 X 9 = 27\n",
      "\n",
      "    4 단\n",
      " 4 X 1 = 4\n",
      " 4 X 2 = 8\n",
      " 4 X 3 = 12\n",
      " 4 X 4 = 16\n",
      " 4 X 5 = 20\n",
      " 4 X 6 = 24\n",
      " 4 X 7 = 28\n",
      " 4 X 8 = 32\n",
      " 4 X 9 = 36\n",
      "\n",
      "    5 단\n",
      " 5 X 1 = 5\n",
      " 5 X 2 = 10\n",
      " 5 X 3 = 15\n",
      " 5 X 4 = 20\n",
      " 5 X 5 = 25\n",
      " 5 X 6 = 30\n",
      " 5 X 7 = 35\n",
      " 5 X 8 = 40\n",
      " 5 X 9 = 45\n",
      "\n",
      "    6 단\n",
      " 6 X 1 = 6\n",
      " 6 X 2 = 12\n",
      " 6 X 3 = 18\n",
      " 6 X 4 = 24\n",
      " 6 X 5 = 30\n",
      " 6 X 6 = 36\n",
      " 6 X 7 = 42\n",
      " 6 X 8 = 48\n",
      " 6 X 9 = 54\n",
      "\n",
      "    7 단\n",
      " 7 X 1 = 7\n",
      " 7 X 2 = 14\n",
      " 7 X 3 = 21\n",
      " 7 X 4 = 28\n",
      " 7 X 5 = 35\n",
      " 7 X 6 = 42\n",
      " 7 X 7 = 49\n",
      " 7 X 8 = 56\n",
      " 7 X 9 = 63\n",
      "\n",
      "    8 단\n",
      " 8 X 1 = 8\n",
      " 8 X 2 = 16\n",
      " 8 X 3 = 24\n",
      " 8 X 4 = 32\n",
      " 8 X 5 = 40\n",
      " 8 X 6 = 48\n",
      " 8 X 7 = 56\n",
      " 8 X 8 = 64\n",
      " 8 X 9 = 72\n",
      "\n",
      "    9 단\n",
      " 9 X 1 = 9\n",
      " 9 X 2 = 18\n",
      " 9 X 3 = 27\n",
      " 9 X 4 = 36\n",
      " 9 X 5 = 45\n",
      " 9 X 6 = 54\n",
      " 9 X 7 = 63\n",
      " 9 X 8 = 72\n",
      " 9 X 9 = 81\n"
     ]
    }
   ],
   "source": [
    "## 2.9 구구단 만들기\n",
    "for i in range(1,10):\n",
    "    print(f'\\n    {i} 단')\n",
    "    for j in range(1,10):\n",
    "        print(f' {i} X {j} = {i * j}')"
   ]
  },
  {
   "cell_type": "code",
   "execution_count": 135,
   "id": "e3295a01-f9d7-4c85-a11a-fbb4ee7ed3f6",
   "metadata": {},
   "outputs": [
    {
     "name": "stdout",
     "output_type": "stream",
     "text": [
      "\n",
      "    1 단\n",
      " 1 X 1 = 1\n",
      " 1 X 2 = 2\n",
      " 1 X 3 = 3\n",
      " 1 X 4 = 4\n",
      " 1 X 5 = 5\n",
      " 1 X 6 = 6\n",
      " 1 X 7 = 7\n",
      " 1 X 8 = 8\n",
      " 1 X 9 = 9\n",
      "\n",
      "\n",
      "    2 단\n",
      " 2 X 1 = 2\n",
      " 2 X 2 = 4\n",
      " 2 X 3 = 6\n",
      " 2 X 4 = 8\n",
      " 2 X 5 = 10\n",
      " 2 X 6 = 12\n",
      " 2 X 7 = 14\n",
      " 2 X 8 = 16\n",
      " 2 X 9 = 18\n",
      "\n",
      "\n",
      "    3 단\n",
      " 3 X 1 = 3\n",
      " 3 X 2 = 6\n",
      " 3 X 3 = 9\n",
      " 3 X 4 = 12\n",
      " 3 X 5 = 15\n",
      " 3 X 6 = 18\n",
      " 3 X 7 = 21\n",
      " 3 X 8 = 24\n",
      " 3 X 9 = 27\n",
      "\n"
     ]
    }
   ],
   "source": [
    "## 2.9 구구단 만들기\n",
    "for i in range(1,4):\n",
    "    print(f'\\n    {i} 단')\n",
    "    for j in range(1,10):\n",
    "        A = print(f' {i} X {j} = {i * j}')\n",
    "    print()"
   ]
  },
  {
   "cell_type": "code",
   "execution_count": 141,
   "id": "be4a7448-4d65-4aed-a2f9-c9abe07f748e",
   "metadata": {},
   "outputs": [
    {
     "name": "stdout",
     "output_type": "stream",
     "text": [
      "1 X 1 = 1\t2 X 1 = 2\t3 X 1 = 3\t\n",
      "1 X 2 = 2\t2 X 2 = 4\t3 X 2 = 6\t\n",
      "1 X 3 = 3\t2 X 3 = 6\t3 X 3 = 9\t\n",
      "1 X 4 = 4\t2 X 4 = 8\t3 X 4 = 12\t\n",
      "1 X 5 = 5\t2 X 5 = 10\t3 X 5 = 15\t\n",
      "1 X 6 = 6\t2 X 6 = 12\t3 X 6 = 18\t\n",
      "1 X 7 = 7\t2 X 7 = 14\t3 X 7 = 21\t\n",
      "1 X 8 = 8\t2 X 8 = 16\t3 X 8 = 24\t\n",
      "1 X 9 = 9\t2 X 9 = 18\t3 X 9 = 27\t\n"
     ]
    }
   ],
   "source": [
    "for j in range(1,10):\n",
    "    for i in range(1,4):\n",
    "        print(f'{i} X {j} = {i * j}', end='\\t')\n",
    "    print()"
   ]
  },
  {
   "cell_type": "code",
   "execution_count": 10,
   "id": "6df920b5-0715-4eaf-8634-48c04934e3d5",
   "metadata": {},
   "outputs": [
    {
     "name": "stdout",
     "output_type": "stream",
     "text": [
      "\n",
      "    1 단    2 단     3 단\n",
      "\n",
      " 1 x 1 = 1 2 x 1 = 2 3 x 1 = 3\n",
      "\n",
      " 1 x 2 = 2 2 x 2 = 4 3 x 2 = 6\n",
      "\n",
      " 1 x 3 = 3 2 x 3 = 6 3 x 3 = 9\n",
      "\n",
      " 1 x 4 = 4 2 x 4 = 8 3 x 4 = 12\n",
      "\n",
      " 1 x 5 = 5 2 x 5 = 10 3 x 5 = 15\n",
      "\n",
      " 1 x 6 = 6 2 x 6 = 12 3 x 6 = 18\n",
      "\n",
      " 1 x 7 = 7 2 x 7 = 14 3 x 7 = 21\n",
      "\n",
      " 1 x 8 = 8 2 x 8 = 16 3 x 8 = 24\n",
      "\n",
      " 1 x 9 = 9 2 x 9 = 18 3 x 9 = 27\n",
      "\n",
      "    4 단    5 단     6 단\n",
      "\n",
      " 4 x 1 = 4 5 x 1 = 5 6 x 1 = 6\n",
      "\n",
      " 4 x 2 = 8 5 x 2 = 10 6 x 2 = 12\n",
      "\n",
      " 4 x 3 = 12 5 x 3 = 15 6 x 3 = 18\n",
      "\n",
      " 4 x 4 = 16 5 x 4 = 20 6 x 4 = 24\n",
      "\n",
      " 4 x 5 = 20 5 x 5 = 25 6 x 5 = 30\n",
      "\n",
      " 4 x 6 = 24 5 x 6 = 30 6 x 6 = 36\n",
      "\n",
      " 4 x 7 = 28 5 x 7 = 35 6 x 7 = 42\n",
      "\n",
      " 4 x 8 = 32 5 x 8 = 40 6 x 8 = 48\n",
      "\n",
      " 4 x 9 = 36 5 x 9 = 45 6 x 9 = 54\n",
      "\n",
      "    7 단    8 단     9 단\n",
      "\n",
      " 7 x 1 = 7 8 x 1 = 8 9 x 1 = 9\n",
      "\n",
      " 7 x 2 = 14 8 x 2 = 16 9 x 2 = 18\n",
      "\n",
      " 7 x 3 = 21 8 x 3 = 24 9 x 3 = 27\n",
      "\n",
      " 7 x 4 = 28 8 x 4 = 32 9 x 4 = 36\n",
      "\n",
      " 7 x 5 = 35 8 x 5 = 40 9 x 5 = 45\n",
      "\n",
      " 7 x 6 = 42 8 x 6 = 48 9 x 6 = 54\n",
      "\n",
      " 7 x 7 = 49 8 x 7 = 56 9 x 7 = 63\n",
      "\n",
      " 7 x 8 = 56 8 x 8 = 64 9 x 8 = 72\n",
      "\n",
      " 7 x 9 = 63 8 x 9 = 72 9 x 9 = 81\n"
     ]
    }
   ],
   "source": [
    "for i in range(1,10,3):\n",
    "    print(f'\\n    {i} 단    {i+1} 단     {i+2} 단')\n",
    "    for j in range(1, 10):\n",
    "        print(f'\\n {i} x {j} = {i* j} {i+1} x {j} = {(i+1)* j } {i+2} x {j} = {(i+2)* j}')"
   ]
  },
  {
   "cell_type": "markdown",
   "id": "6c3f2676-a921-4599-b169-5638186ed3bb",
   "metadata": {},
   "source": [
    "# 원 6개 그리기"
   ]
  },
  {
   "cell_type": "code",
   "execution_count": 11,
   "id": "e2292716-edb4-4f98-b4d9-c4412a0d7339",
   "metadata": {},
   "outputs": [],
   "source": []
  },
  {
   "cell_type": "code",
   "execution_count": 8,
   "id": "67eebcf7-8271-46c5-9334-0b5f163d29a7",
   "metadata": {},
   "outputs": [
    {
     "ename": "Terminator",
     "evalue": "",
     "output_type": "error",
     "traceback": [
      "\u001b[1;31m---------------------------------------------------------------------------\u001b[0m",
      "\u001b[1;31mTerminator\u001b[0m                                Traceback (most recent call last)",
      "Cell \u001b[1;32mIn[8], line 10\u001b[0m\n\u001b[0;32m      8\u001b[0m t\u001b[38;5;241m.\u001b[39mcircle(\u001b[38;5;241m100\u001b[39m)\n\u001b[0;32m      9\u001b[0m t\u001b[38;5;241m.\u001b[39mleft(\u001b[38;5;241m60\u001b[39m) \n\u001b[1;32m---> 10\u001b[0m t\u001b[38;5;241m.\u001b[39mcircle(\u001b[38;5;241m100\u001b[39m)\n\u001b[0;32m     11\u001b[0m t\u001b[38;5;241m.\u001b[39mleft(\u001b[38;5;241m60\u001b[39m) \n\u001b[0;32m     12\u001b[0m t\u001b[38;5;241m.\u001b[39mcircle(\u001b[38;5;241m100\u001b[39m)\n",
      "File \u001b[1;32mC:\\anaconda3\\envs\\py312tf2\\Lib\\turtle.py:1991\u001b[0m, in \u001b[0;36mTNavigator.circle\u001b[1;34m(self, radius, extent, steps)\u001b[0m\n\u001b[0;32m   1989\u001b[0m     \u001b[38;5;28mself\u001b[39m\u001b[38;5;241m.\u001b[39mspeed(speed)\n\u001b[0;32m   1990\u001b[0m     \u001b[38;5;28mself\u001b[39m\u001b[38;5;241m.\u001b[39m_go(l)\n\u001b[1;32m-> 1991\u001b[0m     \u001b[38;5;28mself\u001b[39m\u001b[38;5;241m.\u001b[39mspeed(\u001b[38;5;241m0\u001b[39m)\n\u001b[0;32m   1992\u001b[0m     \u001b[38;5;28mself\u001b[39m\u001b[38;5;241m.\u001b[39m_rotate(w)\n\u001b[0;32m   1993\u001b[0m \u001b[38;5;28mself\u001b[39m\u001b[38;5;241m.\u001b[39m_rotate(\u001b[38;5;241m-\u001b[39mw2)\n",
      "File \u001b[1;32mC:\\anaconda3\\envs\\py312tf2\\Lib\\turtle.py:2173\u001b[0m, in \u001b[0;36mTPen.speed\u001b[1;34m(self, speed)\u001b[0m\n\u001b[0;32m   2171\u001b[0m \u001b[38;5;28;01melse\u001b[39;00m:\n\u001b[0;32m   2172\u001b[0m     speed \u001b[38;5;241m=\u001b[39m \u001b[38;5;241m0\u001b[39m\n\u001b[1;32m-> 2173\u001b[0m \u001b[38;5;28mself\u001b[39m\u001b[38;5;241m.\u001b[39mpen(speed\u001b[38;5;241m=\u001b[39mspeed)\n",
      "File \u001b[1;32mC:\\anaconda3\\envs\\py312tf2\\Lib\\turtle.py:2467\u001b[0m, in \u001b[0;36mTPen.pen\u001b[1;34m(self, pen, **pendict)\u001b[0m\n\u001b[0;32m   2464\u001b[0m     sa, ca \u001b[38;5;241m=\u001b[39m math\u001b[38;5;241m.\u001b[39msin(\u001b[38;5;28mself\u001b[39m\u001b[38;5;241m.\u001b[39m_tilt), math\u001b[38;5;241m.\u001b[39mcos(\u001b[38;5;28mself\u001b[39m\u001b[38;5;241m.\u001b[39m_tilt)\n\u001b[0;32m   2465\u001b[0m     \u001b[38;5;28mself\u001b[39m\u001b[38;5;241m.\u001b[39m_shapetrafo \u001b[38;5;241m=\u001b[39m ( scx\u001b[38;5;241m*\u001b[39mca, scy\u001b[38;5;241m*\u001b[39m(shf\u001b[38;5;241m*\u001b[39mca \u001b[38;5;241m+\u001b[39m sa),\n\u001b[0;32m   2466\u001b[0m                         \u001b[38;5;241m-\u001b[39mscx\u001b[38;5;241m*\u001b[39msa, scy\u001b[38;5;241m*\u001b[39m(ca \u001b[38;5;241m-\u001b[39m shf\u001b[38;5;241m*\u001b[39msa))\n\u001b[1;32m-> 2467\u001b[0m \u001b[38;5;28mself\u001b[39m\u001b[38;5;241m.\u001b[39m_update()\n",
      "File \u001b[1;32mC:\\anaconda3\\envs\\py312tf2\\Lib\\turtle.py:2668\u001b[0m, in \u001b[0;36mRawTurtle._update\u001b[1;34m(self)\u001b[0m\n\u001b[0;32m   2666\u001b[0m     \u001b[38;5;28;01mreturn\u001b[39;00m\n\u001b[0;32m   2667\u001b[0m \u001b[38;5;28;01melif\u001b[39;00m screen\u001b[38;5;241m.\u001b[39m_tracing \u001b[38;5;241m==\u001b[39m \u001b[38;5;241m1\u001b[39m:\n\u001b[1;32m-> 2668\u001b[0m     \u001b[38;5;28mself\u001b[39m\u001b[38;5;241m.\u001b[39m_update_data()\n\u001b[0;32m   2669\u001b[0m     \u001b[38;5;28mself\u001b[39m\u001b[38;5;241m.\u001b[39m_drawturtle()\n\u001b[0;32m   2670\u001b[0m     screen\u001b[38;5;241m.\u001b[39m_update()                  \u001b[38;5;66;03m# TurtleScreenBase\u001b[39;00m\n",
      "File \u001b[1;32mC:\\anaconda3\\envs\\py312tf2\\Lib\\turtle.py:2654\u001b[0m, in \u001b[0;36mRawTurtle._update_data\u001b[1;34m(self)\u001b[0m\n\u001b[0;32m   2653\u001b[0m \u001b[38;5;28;01mdef\u001b[39;00m \u001b[38;5;21m_update_data\u001b[39m(\u001b[38;5;28mself\u001b[39m):\n\u001b[1;32m-> 2654\u001b[0m     \u001b[38;5;28mself\u001b[39m\u001b[38;5;241m.\u001b[39mscreen\u001b[38;5;241m.\u001b[39m_incrementudc()\n\u001b[0;32m   2655\u001b[0m     \u001b[38;5;28;01mif\u001b[39;00m \u001b[38;5;28mself\u001b[39m\u001b[38;5;241m.\u001b[39mscreen\u001b[38;5;241m.\u001b[39m_updatecounter \u001b[38;5;241m!=\u001b[39m \u001b[38;5;241m0\u001b[39m:\n\u001b[0;32m   2656\u001b[0m         \u001b[38;5;28;01mreturn\u001b[39;00m\n",
      "File \u001b[1;32mC:\\anaconda3\\envs\\py312tf2\\Lib\\turtle.py:1284\u001b[0m, in \u001b[0;36mTurtleScreen._incrementudc\u001b[1;34m(self)\u001b[0m\n\u001b[0;32m   1282\u001b[0m \u001b[38;5;28;01mif\u001b[39;00m \u001b[38;5;129;01mnot\u001b[39;00m TurtleScreen\u001b[38;5;241m.\u001b[39m_RUNNING:\n\u001b[0;32m   1283\u001b[0m     TurtleScreen\u001b[38;5;241m.\u001b[39m_RUNNING \u001b[38;5;241m=\u001b[39m \u001b[38;5;28;01mTrue\u001b[39;00m\n\u001b[1;32m-> 1284\u001b[0m     \u001b[38;5;28;01mraise\u001b[39;00m Terminator\n\u001b[0;32m   1285\u001b[0m \u001b[38;5;28;01mif\u001b[39;00m \u001b[38;5;28mself\u001b[39m\u001b[38;5;241m.\u001b[39m_tracing \u001b[38;5;241m>\u001b[39m \u001b[38;5;241m0\u001b[39m:\n\u001b[0;32m   1286\u001b[0m     \u001b[38;5;28mself\u001b[39m\u001b[38;5;241m.\u001b[39m_updatecounter \u001b[38;5;241m+\u001b[39m\u001b[38;5;241m=\u001b[39m \u001b[38;5;241m1\u001b[39m\n",
      "\u001b[1;31mTerminator\u001b[0m: "
     ]
    }
   ],
   "source": [
    "import turtle\n",
    "\n",
    "t = turtle.Turtle()\n",
    "t.circle(100)  #반지름이 100인 원을 그려라\n",
    "t.left(60)      # 각도를 왼쪽으로 60도 만큼 회전\n",
    "t.circle(100)\n",
    "t.left(60) \n",
    "t.circle(100)\n",
    "t.left(60) \n",
    "t.circle(100)\n",
    "t.left(60) \n",
    "t.circle(100)\n",
    "t.left(60) \n",
    "t.circle(100)\n",
    "t.left(60) \n",
    "\n",
    "turtle.exitonclick()"
   ]
  },
  {
   "cell_type": "code",
   "execution_count": 9,
   "id": "418ec527-9841-46bf-a01e-e5c0f0bcd951",
   "metadata": {},
   "outputs": [
    {
     "ename": "Terminator",
     "evalue": "",
     "output_type": "error",
     "traceback": [
      "\u001b[1;31m---------------------------------------------------------------------------\u001b[0m",
      "\u001b[1;31mTerminator\u001b[0m                                Traceback (most recent call last)",
      "Cell \u001b[1;32mIn[9], line 6\u001b[0m\n\u001b[0;32m      4\u001b[0m \u001b[38;5;28;01mfor\u001b[39;00m _ \u001b[38;5;129;01min\u001b[39;00m \u001b[38;5;28mrange\u001b[39m(\u001b[38;5;241m6\u001b[39m):\n\u001b[0;32m      5\u001b[0m     t\u001b[38;5;241m.\u001b[39mcircle(\u001b[38;5;241m100\u001b[39m)\n\u001b[1;32m----> 6\u001b[0m     t\u001b[38;5;241m.\u001b[39mleft(\u001b[38;5;241m60\u001b[39m)\n\u001b[0;32m      8\u001b[0m turtle\u001b[38;5;241m.\u001b[39mexitonclick()\n",
      "File \u001b[1;32mC:\\anaconda3\\envs\\py312tf2\\Lib\\turtle.py:1698\u001b[0m, in \u001b[0;36mTNavigator.left\u001b[1;34m(self, angle)\u001b[0m\n\u001b[0;32m   1679\u001b[0m \u001b[38;5;28;01mdef\u001b[39;00m \u001b[38;5;21mleft\u001b[39m(\u001b[38;5;28mself\u001b[39m, angle):\n\u001b[0;32m   1680\u001b[0m \u001b[38;5;250m    \u001b[39m\u001b[38;5;124;03m\"\"\"Turn turtle left by angle units.\u001b[39;00m\n\u001b[0;32m   1681\u001b[0m \n\u001b[0;32m   1682\u001b[0m \u001b[38;5;124;03m    Aliases: left | lt\u001b[39;00m\n\u001b[1;32m   (...)\u001b[0m\n\u001b[0;32m   1696\u001b[0m \u001b[38;5;124;03m    67.0\u001b[39;00m\n\u001b[0;32m   1697\u001b[0m \u001b[38;5;124;03m    \"\"\"\u001b[39;00m\n\u001b[1;32m-> 1698\u001b[0m     \u001b[38;5;28mself\u001b[39m\u001b[38;5;241m.\u001b[39m_rotate(angle)\n",
      "File \u001b[1;32mC:\\anaconda3\\envs\\py312tf2\\Lib\\turtle.py:3348\u001b[0m, in \u001b[0;36mRawTurtle._rotate\u001b[1;34m(self, angle)\u001b[0m\n\u001b[0;32m   3346\u001b[0m     \u001b[38;5;28;01mfor\u001b[39;00m _ \u001b[38;5;129;01min\u001b[39;00m \u001b[38;5;28mrange\u001b[39m(steps):\n\u001b[0;32m   3347\u001b[0m         \u001b[38;5;28mself\u001b[39m\u001b[38;5;241m.\u001b[39m_orient \u001b[38;5;241m=\u001b[39m \u001b[38;5;28mself\u001b[39m\u001b[38;5;241m.\u001b[39m_orient\u001b[38;5;241m.\u001b[39mrotate(delta)\n\u001b[1;32m-> 3348\u001b[0m         \u001b[38;5;28mself\u001b[39m\u001b[38;5;241m.\u001b[39m_update()\n\u001b[0;32m   3349\u001b[0m \u001b[38;5;28mself\u001b[39m\u001b[38;5;241m.\u001b[39m_orient \u001b[38;5;241m=\u001b[39m neworient\n\u001b[0;32m   3350\u001b[0m \u001b[38;5;28mself\u001b[39m\u001b[38;5;241m.\u001b[39m_update()\n",
      "File \u001b[1;32mC:\\anaconda3\\envs\\py312tf2\\Lib\\turtle.py:2668\u001b[0m, in \u001b[0;36mRawTurtle._update\u001b[1;34m(self)\u001b[0m\n\u001b[0;32m   2666\u001b[0m     \u001b[38;5;28;01mreturn\u001b[39;00m\n\u001b[0;32m   2667\u001b[0m \u001b[38;5;28;01melif\u001b[39;00m screen\u001b[38;5;241m.\u001b[39m_tracing \u001b[38;5;241m==\u001b[39m \u001b[38;5;241m1\u001b[39m:\n\u001b[1;32m-> 2668\u001b[0m     \u001b[38;5;28mself\u001b[39m\u001b[38;5;241m.\u001b[39m_update_data()\n\u001b[0;32m   2669\u001b[0m     \u001b[38;5;28mself\u001b[39m\u001b[38;5;241m.\u001b[39m_drawturtle()\n\u001b[0;32m   2670\u001b[0m     screen\u001b[38;5;241m.\u001b[39m_update()                  \u001b[38;5;66;03m# TurtleScreenBase\u001b[39;00m\n",
      "File \u001b[1;32mC:\\anaconda3\\envs\\py312tf2\\Lib\\turtle.py:2654\u001b[0m, in \u001b[0;36mRawTurtle._update_data\u001b[1;34m(self)\u001b[0m\n\u001b[0;32m   2653\u001b[0m \u001b[38;5;28;01mdef\u001b[39;00m \u001b[38;5;21m_update_data\u001b[39m(\u001b[38;5;28mself\u001b[39m):\n\u001b[1;32m-> 2654\u001b[0m     \u001b[38;5;28mself\u001b[39m\u001b[38;5;241m.\u001b[39mscreen\u001b[38;5;241m.\u001b[39m_incrementudc()\n\u001b[0;32m   2655\u001b[0m     \u001b[38;5;28;01mif\u001b[39;00m \u001b[38;5;28mself\u001b[39m\u001b[38;5;241m.\u001b[39mscreen\u001b[38;5;241m.\u001b[39m_updatecounter \u001b[38;5;241m!=\u001b[39m \u001b[38;5;241m0\u001b[39m:\n\u001b[0;32m   2656\u001b[0m         \u001b[38;5;28;01mreturn\u001b[39;00m\n",
      "File \u001b[1;32mC:\\anaconda3\\envs\\py312tf2\\Lib\\turtle.py:1284\u001b[0m, in \u001b[0;36mTurtleScreen._incrementudc\u001b[1;34m(self)\u001b[0m\n\u001b[0;32m   1282\u001b[0m \u001b[38;5;28;01mif\u001b[39;00m \u001b[38;5;129;01mnot\u001b[39;00m TurtleScreen\u001b[38;5;241m.\u001b[39m_RUNNING:\n\u001b[0;32m   1283\u001b[0m     TurtleScreen\u001b[38;5;241m.\u001b[39m_RUNNING \u001b[38;5;241m=\u001b[39m \u001b[38;5;28;01mTrue\u001b[39;00m\n\u001b[1;32m-> 1284\u001b[0m     \u001b[38;5;28;01mraise\u001b[39;00m Terminator\n\u001b[0;32m   1285\u001b[0m \u001b[38;5;28;01mif\u001b[39;00m \u001b[38;5;28mself\u001b[39m\u001b[38;5;241m.\u001b[39m_tracing \u001b[38;5;241m>\u001b[39m \u001b[38;5;241m0\u001b[39m:\n\u001b[0;32m   1286\u001b[0m     \u001b[38;5;28mself\u001b[39m\u001b[38;5;241m.\u001b[39m_updatecounter \u001b[38;5;241m+\u001b[39m\u001b[38;5;241m=\u001b[39m \u001b[38;5;241m1\u001b[39m\n",
      "\u001b[1;31mTerminator\u001b[0m: "
     ]
    }
   ],
   "source": [
    "import turtle\n",
    "\n",
    "t=turtle.Turtle()\n",
    "for _ in range(6):\n",
    "    t.circle(100)\n",
    "    t.left(60)\n",
    "\n",
    "turtle.exitonclick()"
   ]
  },
  {
   "cell_type": "markdown",
   "id": "fb596135-d818-49ad-805c-1c2ec0807a71",
   "metadata": {},
   "source": [
    "# n각형을 그리기\n",
    "- 사용자로부터 정수 n (3 이상) 을 입력받아서 한변의 길이가 100인 정 n각형을 그려라"
   ]
  },
  {
   "cell_type": "code",
   "execution_count": 1,
   "id": "3fd80857-feba-4ad0-8d65-ef4e2d73e101",
   "metadata": {},
   "outputs": [
    {
     "name": "stdin",
     "output_type": "stream",
     "text": [
      "3 이상의 정수를 입력하시오 6\n"
     ]
    }
   ],
   "source": [
    "import turtle\n",
    "import time\n",
    "t = turtle.Turtle()\n",
    "\n",
    "n = int(input('3 이상의 정수를 입력하시오'))\n",
    "\n",
    "for _ in range(n):\n",
    "    time.sleep(1)\n",
    "    t.forward(100)\n",
    "    t.left(360 / n)\n",
    "\n",
    "turtle.exitonclick()\n",
    "\n",
    "del t # 객체 지우기\n",
    "try:\n",
    "    turtle.bye()\n",
    "except:\n",
    "    pass"
   ]
  },
  {
   "cell_type": "code",
   "execution_count": 7,
   "id": "5de7a31f-8a8e-4176-9a0c-65b92c459913",
   "metadata": {},
   "outputs": [],
   "source": [
    "# 별을 그리는 프로그램을 작성하시오\n",
    "\n",
    "import turtle\n",
    "import time\n",
    "\n",
    "t = turtle.Turtle()\n",
    "\n",
    "\n",
    "for _ in range(5):\n",
    "    time.sleep(1)\n",
    "    t.forward(200)\n",
    "    t.left((360 / 5)*2)\n",
    "\n",
    "t.right(72)\n",
    "t.circle(106)\n",
    "turtle.exitonclick()\n",
    "\n",
    "del t # 객체 지우기\n",
    "try:\n",
    "    turtle.bye()\n",
    "except:\n",
    "    pass"
   ]
  },
  {
   "cell_type": "code",
   "execution_count": null,
   "id": "c0909a6d-3803-4062-970f-a0d615a35eb5",
   "metadata": {},
   "outputs": [],
   "source": []
  }
 ],
 "metadata": {
  "kernelspec": {
   "display_name": "Python 3 (ipykernel)",
   "language": "python",
   "name": "python3"
  },
  "language_info": {
   "codemirror_mode": {
    "name": "ipython",
    "version": 3
   },
   "file_extension": ".py",
   "mimetype": "text/x-python",
   "name": "python",
   "nbconvert_exporter": "python",
   "pygments_lexer": "ipython3",
   "version": "3.12.8"
  }
 },
 "nbformat": 4,
 "nbformat_minor": 5
}
