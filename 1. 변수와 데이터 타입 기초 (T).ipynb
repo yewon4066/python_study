{
 "cells": [
  {
   "cell_type": "markdown",
   "id": "bbbf1ffa-1568-4131-aad9-1446ffd20091",
   "metadata": {},
   "source": [
    "# 1. 변수와 데이터 타입 기초\n",
    "## 1.1. 변수 선언과 값 할당\n",
    "변수는 데이터를 저장하는 공간을 나타냅니다. Python에서 변수는 특정 값에 이름을 붙여서 사용합니다."
   ]
  },
  {
   "cell_type": "code",
   "execution_count": 2,
   "id": "97a1a852-193b-48d5-9f23-f4b83f7b5d5d",
   "metadata": {},
   "outputs": [],
   "source": [
    "# 변수 선언과 값 할당\n",
    "x = 10           # 정수형\n",
    "name = \"Alice\"    # 문자열\n",
    "height = 1.75     # 실수형\n",
    "is_student = True # 불리언"
   ]
  },
  {
   "cell_type": "markdown",
   "id": "1eccd723-2d09-478c-9e20-da7c4c30a35b",
   "metadata": {},
   "source": [
    "## 1.2. 데이터 타입 확인하기\n",
    "Python에서는 type() 함수를 사용하여 변수의 데이터 타입을 확인할 수 있습니다."
   ]
  },
  {
   "cell_type": "code",
   "execution_count": 3,
   "id": "2afebdd1-c100-4833-8854-e353ddb7582b",
   "metadata": {},
   "outputs": [
    {
     "name": "stdout",
     "output_type": "stream",
     "text": [
      "<class 'int'>\n",
      "<class 'str'>\n",
      "<class 'float'>\n",
      "<class 'bool'>\n"
     ]
    }
   ],
   "source": [
    "print(type(x))        # <class 'int'>\n",
    "print(type(name))     # <class 'str'>\n",
    "print(type(height))   # <class 'float'>\n",
    "print(type(is_student)) # <class 'bool'>"
   ]
  },
  {
   "cell_type": "code",
   "execution_count": 15,
   "id": "cacdcb93-cf93-4247-a052-0b316866bd54",
   "metadata": {},
   "outputs": [
    {
     "name": "stdout",
     "output_type": "stream",
     "text": [
      "10\n",
      "철수\n"
     ]
    }
   ],
   "source": [
    "print(x)\n",
    "print(name)"
   ]
  },
  {
   "cell_type": "code",
   "execution_count": 5,
   "id": "51a34529-1d84-48a1-b7e3-6c77b68c1c82",
   "metadata": {
    "collapsed": true,
    "jupyter": {
     "outputs_hidden": true
    }
   },
   "outputs": [
    {
     "name": "stdout",
     "output_type": "stream",
     "text": [
      "x =  10\n",
      "name =  Alice\n",
      "height =  1.75\n",
      "is_student =  True\n"
     ]
    }
   ],
   "source": [
    "print('x = ', x)      \n",
    "print('name = ', name)     \n",
    "print('height = ', height)   \n",
    "print('is_student = ', is_student)"
   ]
  },
  {
   "cell_type": "markdown",
   "id": "bf8f53a6-da13-4927-a2a6-801f6837d378",
   "metadata": {},
   "source": [
    "## 1.3. 데이터 타입 변환하기\n",
    "Python에서는 데이터를 다른 타입으로 변환할 수 있습니다. 예를 들어, 정수를 실수로 변환하거나 문자열을 숫자로 변환할 수 있습니다."
   ]
  },
  {
   "cell_type": "code",
   "execution_count": 18,
   "id": "a1dcb37f-7582-42c9-9956-c027d5f53a83",
   "metadata": {},
   "outputs": [
    {
     "name": "stdout",
     "output_type": "stream",
     "text": [
      "101\n",
      "1.75\n"
     ]
    }
   ],
   "source": [
    "# 데이터 타입 변환 예제\n",
    "num_str = \"100\"     # 문자열\n",
    "num_int = int(num_str)  # 문자열을 정수로 변환\n",
    "print(num_int + 1)       # 100\n",
    "\n",
    "height_str = str(height)  # 실수를 문자열로 변환\n",
    "print(height_str)   # '1.75'\n"
   ]
  },
  {
   "cell_type": "markdown",
   "id": "d01efb18-7116-4a4b-9f70-e26803ea2384",
   "metadata": {},
   "source": [
    "# 2. 다양한 데이터 타입 실습\n",
    "## 2.1. 정수 (int)\n",
    "정수는 소수점이 없는 숫자를 나타냅니다."
   ]
  },
  {
   "cell_type": "code",
   "execution_count": 23,
   "id": "28385de8-73b0-4e89-a2d4-ad2972e47fdd",
   "metadata": {},
   "outputs": [
    {
     "name": "stdout",
     "output_type": "stream",
     "text": [
      "합: 43\n"
     ]
    }
   ],
   "source": [
    "# 정수 예제\n",
    "num1 = 50\n",
    "num2 = -7\n",
    "sum_result = num1 + num2\n",
    "print(\"합:\", sum_result)  # 43"
   ]
  },
  {
   "cell_type": "markdown",
   "id": "3e44fadc-20dc-4a48-82ef-09ebeb5020c7",
   "metadata": {},
   "source": [
    "## 2.2. 실수 (float)\n",
    "실수는 소수점이 있는 숫자를 나타냅니다."
   ]
  },
  {
   "cell_type": "code",
   "execution_count": 28,
   "id": "ef407abc-53d1-4b11-aa9a-2cdf016fc624",
   "metadata": {},
   "outputs": [
    {
     "name": "stdout",
     "output_type": "stream",
     "text": [
      "BMI: 23.020408163265305\n"
     ]
    }
   ],
   "source": [
    "# 실수 예제\n",
    "height = 1.75\n",
    "weight = 70.5\n",
    "bmi = weight / (height ** 2)  # BMI 계산\n",
    "print(\"BMI:\", bmi)  # 22.98 (대략적인 결과)"
   ]
  },
  {
   "cell_type": "markdown",
   "id": "053ce491-1dae-4290-b664-b9d2ecd39641",
   "metadata": {},
   "source": [
    "## 2.3. 문자열 (str)\n",
    "문자열은 작은따옴표(') 또는 큰따옴표(\")로 감싸서 만들 수 있습니다."
   ]
  },
  {
   "cell_type": "code",
   "execution_count": 32,
   "id": "3acaaad7-84aa-4d24-a4c8-405cb615f8ad",
   "metadata": {},
   "outputs": [
    {
     "name": "stdout",
     "output_type": "stream",
     "text": [
      "Hello, World!\n",
      "Hello Alice!\n"
     ]
    }
   ],
   "source": [
    "# 문자열 예제\n",
    "greeting = \"Hello, World!\"\n",
    "print(greeting)  # Hello, World!\n",
    "\n",
    "# 문자열 연결 (concatenation)\n",
    "full_greeting = \"Hello\" + \" \" + \"Alice!\"\n",
    "print(full_greeting)  # Hello Alice!"
   ]
  },
  {
   "cell_type": "markdown",
   "id": "335fb768-2d02-40f8-840e-d96ab5133002",
   "metadata": {},
   "source": [
    "## 2.4. 불리언 (bool)\n",
    "불리언은 True 또는 False 값만 가질 수 있는 데이터 타입입니다."
   ]
  },
  {
   "cell_type": "code",
   "execution_count": 39,
   "id": "377030cc-501b-405d-ab9e-65ba77d8d0b0",
   "metadata": {},
   "outputs": [
    {
     "name": "stdout",
     "output_type": "stream",
     "text": [
      "비가 오나요? True\n",
      "맑은 날인가요? False\n"
     ]
    }
   ],
   "source": [
    "# 불리언 예제\n",
    "is_raining = True\n",
    "is_sunny = False\n",
    "\n",
    "print(\"비가 오나요?\", is_raining)  # True\n",
    "print(\"맑은 날인가요?\", is_sunny)  # False"
   ]
  },
  {
   "cell_type": "code",
   "execution_count": 35,
   "id": "a183219b-5d38-4d2c-b2fa-c848e1630cc5",
   "metadata": {},
   "outputs": [
    {
     "name": "stdout",
     "output_type": "stream",
     "text": [
      "False\n"
     ]
    }
   ],
   "source": [
    "b_txt = False\n",
    "print(b_txt)"
   ]
  },
  {
   "cell_type": "code",
   "execution_count": 38,
   "id": "5350e375-8db0-4b67-9ba4-1bbedbb11d43",
   "metadata": {},
   "outputs": [
    {
     "name": "stdout",
     "output_type": "stream",
     "text": [
      "참\n"
     ]
    }
   ],
   "source": [
    "if 0 == False:\n",
    "    print('참')\n",
    "else:\n",
    "    print('거짓')"
   ]
  },
  {
   "cell_type": "markdown",
   "id": "8df05746-8ebb-45e1-a72d-5666dbe6ae37",
   "metadata": {},
   "source": [
    "# 3. 데이터 타입 연산\n",
    "\n",
    "## 3.1. 정수와 실수 연산\n",
    "정수와 실수는 서로 연산이 가능하며, 실수 결과를 반환합니다."
   ]
  },
  {
   "cell_type": "code",
   "execution_count": 40,
   "id": "840d6b30-b047-44be-9631-e3ae642557a9",
   "metadata": {},
   "outputs": [],
   "source": [
    "# 정수와 실수 연산\n",
    "num1 = 10\n",
    "num2 = 3"
   ]
  },
  {
   "cell_type": "code",
   "execution_count": 41,
   "id": "a90e2ed6-9b07-49ab-847c-6c3a28fec2b0",
   "metadata": {},
   "outputs": [
    {
     "name": "stdout",
     "output_type": "stream",
     "text": [
      "덧셈 결과: 13\n"
     ]
    }
   ],
   "source": [
    "# 덧셈\n",
    "sum_result = num1 + num2  # 10 + 3 = 13\n",
    "print(\"덧셈 결과:\", sum_result)"
   ]
  },
  {
   "cell_type": "code",
   "execution_count": 42,
   "id": "ff7795d0-162c-499b-a30b-cb5f6139d9a5",
   "metadata": {},
   "outputs": [
    {
     "name": "stdout",
     "output_type": "stream",
     "text": [
      "나눗셈 결과: 3.3333333333333335\n"
     ]
    }
   ],
   "source": [
    "# 나눗셈 (결과는 실수형)\n",
    "division_result = num1 / num2  # 10 / 3 = 3.333...\n",
    "print(\"나눗셈 결과:\", division_result)"
   ]
  },
  {
   "cell_type": "code",
   "execution_count": 43,
   "id": "13e4f597-501f-41ce-9299-b91a1e37d19a",
   "metadata": {},
   "outputs": [
    {
     "name": "stdout",
     "output_type": "stream",
     "text": [
      "나머지: 1\n"
     ]
    }
   ],
   "source": [
    "# 나머지 구하기 (정수형)\n",
    "mod_result = num1 % num2  # 10 % 3 = 1\n",
    "print(\"나머지:\", mod_result)"
   ]
  },
  {
   "cell_type": "code",
   "execution_count": null,
   "id": "9105df47-b07a-4dd6-9670-29df6550f403",
   "metadata": {},
   "outputs": [],
   "source": []
  }
 ],
 "metadata": {
  "kernelspec": {
   "display_name": "Python 3 (ipykernel)",
   "language": "python",
   "name": "python3"
  },
  "language_info": {
   "codemirror_mode": {
    "name": "ipython",
    "version": 3
   },
   "file_extension": ".py",
   "mimetype": "text/x-python",
   "name": "python",
   "nbconvert_exporter": "python",
   "pygments_lexer": "ipython3",
   "version": "3.12.8"
  }
 },
 "nbformat": 4,
 "nbformat_minor": 5
}
