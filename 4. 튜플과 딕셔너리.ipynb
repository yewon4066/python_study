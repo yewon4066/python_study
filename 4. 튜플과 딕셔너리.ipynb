{
 "cells": [
  {
   "cell_type": "code",
   "execution_count": 2,
   "id": "b6159b1b-a6fb-43f6-928a-67beedd2228a",
   "metadata": {},
   "outputs": [
    {
     "data": {
      "text/plain": [
       "('스쿼트', '런지', ' 레그컬')"
      ]
     },
     "execution_count": 2,
     "metadata": {},
     "output_type": "execute_result"
    }
   ],
   "source": [
    "#튜플은 프로그램이 시작되면 내용을 변경 할 수 없음\n",
    "#중요 데이터에 사용\n",
    "leg_day = ('스쿼트', '런지', ' 레그컬')\n",
    "leg_day\n"
   ]
  },
  {
   "cell_type": "code",
   "execution_count": 3,
   "id": "1975a091-f2b6-4521-af83-fef78c8d317e",
   "metadata": {},
   "outputs": [
    {
     "data": {
      "text/plain": [
       "'스쿼트'"
      ]
     },
     "execution_count": 3,
     "metadata": {},
     "output_type": "execute_result"
    }
   ],
   "source": [
    "leg_day[0]"
   ]
  },
  {
   "cell_type": "code",
   "execution_count": 4,
   "id": "b9db476b-3ab6-4493-a40c-367a7f6dc42b",
   "metadata": {},
   "outputs": [
    {
     "ename": "TypeError",
     "evalue": "'tuple' object does not support item assignment",
     "output_type": "error",
     "traceback": [
      "\u001b[1;31m---------------------------------------------------------------------------\u001b[0m",
      "\u001b[1;31mTypeError\u001b[0m                                 Traceback (most recent call last)",
      "Cell \u001b[1;32mIn[4], line 1\u001b[0m\n\u001b[1;32m----> 1\u001b[0m leg_day[\u001b[38;5;241m0\u001b[39m] \u001b[38;5;241m=\u001b[39m \u001b[38;5;124m'\u001b[39m\u001b[38;5;124m벤치프레스\u001b[39m\u001b[38;5;124m'\u001b[39m\n",
      "\u001b[1;31mTypeError\u001b[0m: 'tuple' object does not support item assignment"
     ]
    }
   ],
   "source": [
    "leg_day[0] = '벤치프레스'"
   ]
  },
  {
   "cell_type": "code",
   "execution_count": 5,
   "id": "76d981f3-3bfc-4c92-a6a8-1d6b858c527e",
   "metadata": {},
   "outputs": [
    {
     "ename": "AttributeError",
     "evalue": "'tuple' object has no attribute 'append'",
     "output_type": "error",
     "traceback": [
      "\u001b[1;31m---------------------------------------------------------------------------\u001b[0m",
      "\u001b[1;31mAttributeError\u001b[0m                            Traceback (most recent call last)",
      "Cell \u001b[1;32mIn[5], line 1\u001b[0m\n\u001b[1;32m----> 1\u001b[0m leg_day\u001b[38;5;241m.\u001b[39mappend(\u001b[38;5;124m'\u001b[39m\u001b[38;5;124m숄더프레스\u001b[39m\u001b[38;5;124m'\u001b[39m)\n",
      "\u001b[1;31mAttributeError\u001b[0m: 'tuple' object has no attribute 'append'"
     ]
    }
   ],
   "source": [
    "leg_day.append('숄더프레스')"
   ]
  },
  {
   "cell_type": "code",
   "execution_count": 6,
   "id": "fcef5320-1ff6-4594-8cdb-682040da0d4f",
   "metadata": {},
   "outputs": [
    {
     "ename": "TypeError",
     "evalue": "'tuple' object doesn't support item deletion",
     "output_type": "error",
     "traceback": [
      "\u001b[1;31m---------------------------------------------------------------------------\u001b[0m",
      "\u001b[1;31mTypeError\u001b[0m                                 Traceback (most recent call last)",
      "Cell \u001b[1;32mIn[6], line 1\u001b[0m\n\u001b[1;32m----> 1\u001b[0m \u001b[38;5;28;01mdel\u001b[39;00m leg_day[\u001b[38;5;241m0\u001b[39m]\n",
      "\u001b[1;31mTypeError\u001b[0m: 'tuple' object doesn't support item deletion"
     ]
    }
   ],
   "source": [
    "del leg_day[0]"
   ]
  },
  {
   "cell_type": "code",
   "execution_count": 7,
   "id": "e1c38fcc-8785-45d6-bb33-424d74865234",
   "metadata": {},
   "outputs": [
    {
     "data": {
      "text/plain": [
       "{'삼성전자': 60000, 'SK하이닉스': 140000, '네이버': 350000}"
      ]
     },
     "execution_count": 7,
     "metadata": {},
     "output_type": "execute_result"
    }
   ],
   "source": [
    "# 딕셔너리 { key : value }\n",
    "\n",
    "stock_prices = {  \n",
    "                    '삼성전자' : 60000, \n",
    "                    'SK하이닉스' : 140000, \n",
    "                    '네이버' : 350000\n",
    "}\n",
    "\n",
    "stock_prices\n",
    "    "
   ]
  },
  {
   "cell_type": "code",
   "execution_count": 8,
   "id": "dc4a3cb7-0fd9-47e9-9ecd-79662de2e55b",
   "metadata": {},
   "outputs": [
    {
     "data": {
      "text/plain": [
       "60000"
      ]
     },
     "execution_count": 8,
     "metadata": {},
     "output_type": "execute_result"
    }
   ],
   "source": [
    "stock_prices['삼성전자']"
   ]
  },
  {
   "cell_type": "code",
   "execution_count": 9,
   "id": "25750c56-76d9-4211-b24d-151ba23fb5f7",
   "metadata": {},
   "outputs": [
    {
     "ename": "KeyError",
     "evalue": "'카카오'",
     "output_type": "error",
     "traceback": [
      "\u001b[1;31m---------------------------------------------------------------------------\u001b[0m",
      "\u001b[1;31mKeyError\u001b[0m                                  Traceback (most recent call last)",
      "Cell \u001b[1;32mIn[9], line 1\u001b[0m\n\u001b[1;32m----> 1\u001b[0m stock_prices[\u001b[38;5;124m'\u001b[39m\u001b[38;5;124m카카오\u001b[39m\u001b[38;5;124m'\u001b[39m]\n",
      "\u001b[1;31mKeyError\u001b[0m: '카카오'"
     ]
    }
   ],
   "source": [
    "stock_prices['카카오']"
   ]
  },
  {
   "cell_type": "code",
   "execution_count": 10,
   "id": "912b0113-060a-4ba9-bc76-e8b3f54531cc",
   "metadata": {},
   "outputs": [
    {
     "name": "stdout",
     "output_type": "stream",
     "text": [
      "삼성전자\n",
      "SK하이닉스\n",
      "네이버\n"
     ]
    }
   ],
   "source": [
    "for key_value in stock_prices:\n",
    "    print(key_value)"
   ]
  },
  {
   "cell_type": "code",
   "execution_count": 14,
   "id": "b6b5d4f0-4009-4409-a977-8c2005e7fcbe",
   "metadata": {},
   "outputs": [
    {
     "name": "stdout",
     "output_type": "stream",
     "text": [
      "삼성전자\n",
      "SK하이닉스\n",
      "네이버\n"
     ]
    }
   ],
   "source": [
    "for key in stock_prices.keys():\n",
    "    print(key)"
   ]
  },
  {
   "cell_type": "code",
   "execution_count": 15,
   "id": "f77b5ecd-4c00-4605-ac9f-bc17f599e5f0",
   "metadata": {},
   "outputs": [
    {
     "name": "stdout",
     "output_type": "stream",
     "text": [
      "60000\n",
      "140000\n",
      "350000\n"
     ]
    }
   ],
   "source": [
    "for value in stock_prices.values():\n",
    "    print(value)"
   ]
  },
  {
   "cell_type": "code",
   "execution_count": 16,
   "id": "824b5536-dff6-4a82-b262-89fbeb4fdb9a",
   "metadata": {},
   "outputs": [
    {
     "name": "stdout",
     "output_type": "stream",
     "text": [
      "삼성전자 60000\n",
      "SK하이닉스 140000\n",
      "네이버 350000\n"
     ]
    }
   ],
   "source": [
    "for key, value in stock_prices.items():\n",
    "    print(key, value)"
   ]
  },
  {
   "cell_type": "code",
   "execution_count": 21,
   "id": "53969b85-188c-4aa2-8312-0ef4c2367736",
   "metadata": {},
   "outputs": [
    {
     "name": "stdout",
     "output_type": "stream",
     "text": [
      "삼성전자 [60000, 61000, 62000]\n",
      "SK하이닉스 [140000, 141000, 150000, 200000]\n",
      "네이버 [350000, 355000, 360000]\n"
     ]
    }
   ],
   "source": [
    "# key 별 주가를 더해서 평균 주가 프린트  sum(), len()\n",
    "\n",
    "stock_prices = {  \n",
    "                    '삼성전자' : [60000, 61000, 62000],\n",
    "                    'SK하이닉스' : [140000, 141000, 150000,200000], \n",
    "                    '네이버' : [350000, 355000,360000]\n",
    "}\n",
    "for key, value in stock_prices.items():\n",
    "    print(key, value)"
   ]
  },
  {
   "cell_type": "code",
   "execution_count": 27,
   "id": "e7c61384-153d-4d57-abb1-cdf7a4585e45",
   "metadata": {},
   "outputs": [
    {
     "name": "stdout",
     "output_type": "stream",
     "text": [
      "삼성전자 61000.0\n",
      " 삼성전자 평균 주가 61000\n",
      "SK하이닉스 157750.0\n",
      " SK하이닉스 평균 주가 157750\n",
      "네이버 355000.0\n",
      " 네이버 평균 주가 355000\n"
     ]
    }
   ],
   "source": [
    "for key, value in stock_prices.items():\n",
    "    print(key, sum(value)/len(value))  # len : 변수의 개수를 세어줌\n",
    "    avg = sum(value)/len(value) \n",
    "    print(f' {key} 평균 주가 {int(avg)}')"
   ]
  },
  {
   "cell_type": "code",
   "execution_count": 28,
   "id": "75032fc4-6c82-47af-9ee2-7a31a9e8bea2",
   "metadata": {},
   "outputs": [],
   "source": [
    "# 딕셔너리 안에 딕셔너리\n",
    "# 각 회사별로 주가의 최고가와 최저가를 구하시오.\n",
    "\n",
    "stock_prices = {  \n",
    "                    '삼성전자' : {'최고가' : 80000, '최저가' : 61000, '현재가' : 62000},\n",
    "                    'SK하이닉스' : {'최고가' : 140000, '최저가' : 141000, '현재가': 150000}, \n",
    "                    '네이버' : {'최고가' : 350000, '최저가' : 355000, '현재가': 360000}\n",
    "}"
   ]
  },
  {
   "cell_type": "code",
   "execution_count": 43,
   "id": "54c1315f-bb47-43b0-b141-ecd9d79f300a",
   "metadata": {},
   "outputs": [
    {
     "name": "stdout",
     "output_type": "stream",
     "text": [
      " 삼성전자 - 최고가80000, 최저가 61000\n",
      " SK하이닉스 - 최고가140000, 최저가 141000\n",
      " 네이버 - 최고가350000, 최저가 355000\n"
     ]
    }
   ],
   "source": [
    "for key, value in stock_prices.items():\n",
    "    print(f' {key} - 최고가{value[\"최고가\"]}, 최저가 {value[\"최저가\"]}')"
   ]
  },
  {
   "cell_type": "code",
   "execution_count": 44,
   "id": "7adcacf0-59f6-41f5-9852-0b75080389d9",
   "metadata": {},
   "outputs": [
    {
     "name": "stdout",
     "output_type": "stream",
     "text": [
      " 삼성전자 - 최고가 : 80000, 최저가 : 61000\n",
      " SK하이닉스 - 최고가 : 140000, 최저가 : 141000\n",
      " 네이버 - 최고가 : 350000, 최저가 : 355000\n"
     ]
    }
   ],
   "source": [
    "for key, value in stock_prices.items():\n",
    "    max_value = value[\"최고가\"]\n",
    "    min_value = value[\"최저가\"]\n",
    "    print(f' {key} - 최고가 : {max_value}, 최저가 : {min_value}')"
   ]
  },
  {
   "cell_type": "code",
   "execution_count": null,
   "id": "37526e3c-8415-42af-8981-ad0d93acb721",
   "metadata": {},
   "outputs": [],
   "source": []
  }
 ],
 "metadata": {
  "kernelspec": {
   "display_name": "Python 3 (ipykernel)",
   "language": "python",
   "name": "python3"
  },
  "language_info": {
   "codemirror_mode": {
    "name": "ipython",
    "version": 3
   },
   "file_extension": ".py",
   "mimetype": "text/x-python",
   "name": "python",
   "nbconvert_exporter": "python",
   "pygments_lexer": "ipython3",
   "version": "3.12.8"
  }
 },
 "nbformat": 4,
 "nbformat_minor": 5
}
