{
 "cells": [
  {
   "cell_type": "code",
   "execution_count": 11,
   "id": "de78270f-3161-4e43-adda-ce9d7645be6d",
   "metadata": {},
   "outputs": [],
   "source": [
    "# 함수는 def  함수명 ( 함수 안에서 사용할 변수들  ):\n",
    "\n",
    "def add(a, b):\n",
    "    return a + b\n",
    "\n",
    "def sub(a, b):\n",
    "    return a - b\n",
    "\n",
    "def mul(a, b):\n",
    "    return a * b\n",
    "\n",
    "def div(a, b):\n",
    "    if b == 0:\n",
    "        return \"b = 0\"\n",
    "    return a / b"
   ]
  },
  {
   "cell_type": "code",
   "execution_count": 5,
   "id": "25effbc0-4521-475a-8ce3-660828401c27",
   "metadata": {},
   "outputs": [
    {
     "data": {
      "text/plain": [
       "3"
      ]
     },
     "execution_count": 5,
     "metadata": {},
     "output_type": "execute_result"
    }
   ],
   "source": [
    "c = 1\n",
    "d = 2\n",
    "add(c, d)"
   ]
  },
  {
   "cell_type": "code",
   "execution_count": 6,
   "id": "0af7d0a4-1302-4229-8352-cc810ed9edf5",
   "metadata": {},
   "outputs": [
    {
     "data": {
      "text/plain": [
       "-1"
      ]
     },
     "execution_count": 6,
     "metadata": {},
     "output_type": "execute_result"
    }
   ],
   "source": [
    "sub(c, d)"
   ]
  },
  {
   "cell_type": "code",
   "execution_count": 7,
   "id": "a68de5f4-aef4-404c-85e4-847cd0f42b42",
   "metadata": {},
   "outputs": [
    {
     "data": {
      "text/plain": [
       "2"
      ]
     },
     "execution_count": 7,
     "metadata": {},
     "output_type": "execute_result"
    }
   ],
   "source": [
    "mul(c, d)"
   ]
  },
  {
   "cell_type": "code",
   "execution_count": 9,
   "id": "d18f09aa-8cd7-480b-b0f9-956003820acd",
   "metadata": {},
   "outputs": [
    {
     "data": {
      "text/plain": [
       "0.5"
      ]
     },
     "execution_count": 9,
     "metadata": {},
     "output_type": "execute_result"
    }
   ],
   "source": [
    "div(c, d)"
   ]
  },
  {
   "cell_type": "code",
   "execution_count": 12,
   "id": "677171b0-9bff-40e5-a19c-ec26c7c2c307",
   "metadata": {},
   "outputs": [
    {
     "data": {
      "text/plain": [
       "'b = 0'"
      ]
     },
     "execution_count": 12,
     "metadata": {},
     "output_type": "execute_result"
    }
   ],
   "source": [
    "c = 1\n",
    "d = 0\n",
    "div(c, d)"
   ]
  },
  {
   "cell_type": "code",
   "execution_count": 15,
   "id": "ba8d9ff6-6a63-4b50-ac4a-ede5039b574b",
   "metadata": {},
   "outputs": [],
   "source": [
    "def user_avg(a, b, c):\n",
    "    avg = (a + b + c) / 3\n",
    "    return avg"
   ]
  },
  {
   "cell_type": "code",
   "execution_count": 16,
   "id": "e708df32-7323-4a47-bb6b-20d026f445bb",
   "metadata": {},
   "outputs": [
    {
     "data": {
      "text/plain": [
       "2.0"
      ]
     },
     "execution_count": 16,
     "metadata": {},
     "output_type": "execute_result"
    }
   ],
   "source": [
    "result  = user_avg(1,2,3)\n",
    "result"
   ]
  },
  {
   "cell_type": "code",
   "execution_count": 17,
   "id": "c94006d6-90e3-4b92-960b-bc523dae2bd2",
   "metadata": {},
   "outputs": [
    {
     "data": {
      "text/plain": [
       "2.0"
      ]
     },
     "execution_count": 17,
     "metadata": {},
     "output_type": "execute_result"
    }
   ],
   "source": [
    "user_avg(1,2,3)"
   ]
  },
  {
   "cell_type": "markdown",
   "id": "254261f9-efc8-4e7e-82e5-e4a1c805d39e",
   "metadata": {},
   "source": [
    "# 전역 변수와 지역 변수 사용"
   ]
  },
  {
   "cell_type": "code",
   "execution_count": 18,
   "id": "47bca648-af05-4c75-969d-976a8a8a4281",
   "metadata": {},
   "outputs": [],
   "source": [
    "def user_avg(a, b, c):\n",
    "    avg = (a + b + c) / d\n",
    "    return avg"
   ]
  },
  {
   "cell_type": "code",
   "execution_count": 19,
   "id": "9a107c57-4e6a-4924-8c42-3d2090c65e49",
   "metadata": {},
   "outputs": [
    {
     "data": {
      "text/plain": [
       "0.6"
      ]
     },
     "execution_count": 19,
     "metadata": {},
     "output_type": "execute_result"
    }
   ],
   "source": [
    "d = 10              #  전역 변수 > 함수 안에서도 사용가능\n",
    "user_avg(1,2,3)"
   ]
  },
  {
   "cell_type": "code",
   "execution_count": 26,
   "id": "fa6ab620-46d1-421c-b78e-b946380545d2",
   "metadata": {},
   "outputs": [],
   "source": [
    "def user_avg(a, b, c):\n",
    "    global avg2             # global 은 지역 변수를 전역변수화 함.\n",
    "    avg2 = (a + b + c) / d"
   ]
  },
  {
   "cell_type": "code",
   "execution_count": 27,
   "id": "01f26d8b-202e-4ce5-a3da-cf3819bd65cc",
   "metadata": {},
   "outputs": [],
   "source": [
    "user_avg(1,2,3)"
   ]
  },
  {
   "cell_type": "code",
   "execution_count": 28,
   "id": "e77e2fa7-c824-453f-9344-98f7ed32d666",
   "metadata": {},
   "outputs": [
    {
     "name": "stdout",
     "output_type": "stream",
     "text": [
      "0.6\n"
     ]
    }
   ],
   "source": [
    "print(avg2)"
   ]
  },
  {
   "cell_type": "markdown",
   "id": "57e24cf8-7ce5-4a12-9068-e1dc6ba2dff9",
   "metadata": {},
   "source": [
    "# 변수값의 교환(swap)"
   ]
  },
  {
   "cell_type": "code",
   "execution_count": 30,
   "id": "637094e2-8007-4ec9-971c-cca1d88a292f",
   "metadata": {},
   "outputs": [
    {
     "name": "stdout",
     "output_type": "stream",
     "text": [
      "swap전 na 값:  10 swap전 nb 값:  20\n",
      "swap후 na 값:  20 swap전 nb 값:  20\n"
     ]
    }
   ],
   "source": [
    "na = 10\n",
    "nb = 20\n",
    "\n",
    "print('swap전 na 값: ', na, 'swap전 nb 값: ', nb)\n",
    "na = nb\n",
    "print('swap후 na 값: ', na, 'swap전 nb 값: ', nb)"
   ]
  },
  {
   "cell_type": "code",
   "execution_count": 32,
   "id": "f1cd7070-9ef2-40e1-9388-7ee9cee389ae",
   "metadata": {},
   "outputs": [
    {
     "name": "stdout",
     "output_type": "stream",
     "text": [
      "swap전 na 값:  10 swap전 nb 값:  20\n",
      "swap후 na 값:  20 swap전 nb 값:  10\n"
     ]
    }
   ],
   "source": [
    "na = 10\n",
    "nb = 20\n",
    "\n",
    "print('swap전 na 값: ', na, 'swap전 nb 값: ', nb)\n",
    "temp = na\n",
    "na = nb\n",
    "nb = temp\n",
    "print('swap후 na 값: ', na, 'swap후 nb 값: ', nb)"
   ]
  },
  {
   "cell_type": "code",
   "execution_count": 33,
   "id": "57689480-a9a6-489c-9717-60b58fb0909e",
   "metadata": {},
   "outputs": [
    {
     "name": "stdout",
     "output_type": "stream",
     "text": [
      "swap전 na 값:  10 swap전 nb 값:  20\n",
      "swap후 na 값:  10 swap후 nb 값:  20\n"
     ]
    }
   ],
   "source": [
    "def swapa(na, nb):\n",
    "    temp = na\n",
    "    na = nb\n",
    "    nb = temp\n",
    "\n",
    "na = 10\n",
    "nb = 20\n",
    "\n",
    "print('swap전 na 값: ', na, 'swap전 nb 값: ', nb)\n",
    "swapa(na, nb)\n",
    "print('swap후 na 값: ', na, 'swap후 nb 값: ', nb)"
   ]
  },
  {
   "cell_type": "code",
   "execution_count": 36,
   "id": "c358b979-98f6-4ae4-87c2-a27f3cf287c5",
   "metadata": {},
   "outputs": [
    {
     "name": "stdout",
     "output_type": "stream",
     "text": [
      "swap전 na 값:  10 swap전 nb 값:  20\n",
      "swap후 na 값:  20 swap후 nb 값:  10\n"
     ]
    }
   ],
   "source": [
    "def swapa(pa, pb):\n",
    "    temp = pa\n",
    "    pa = pb\n",
    "    pb = temp\n",
    "    return pa, pb\n",
    "    \n",
    "na = 10\n",
    "nb = 20\n",
    "\n",
    "print('swap전 na 값: ', na, 'swap전 nb 값: ', nb)\n",
    "na, nb = swapa(na, nb)\n",
    "print('swap후 na 값: ', na, 'swap후 nb 값: ', nb)"
   ]
  },
  {
   "cell_type": "code",
   "execution_count": 38,
   "id": "21684313-c2a3-411d-a229-64a9bc0f7c3d",
   "metadata": {},
   "outputs": [
    {
     "name": "stdout",
     "output_type": "stream",
     "text": [
      "swap전 na 값:  10 swap전 nb 값:  20\n",
      "swap후 na 값:  20 swap후 nb 값:  10\n"
     ]
    }
   ],
   "source": [
    "def swapa():\n",
    "    global na, nb\n",
    "    temp = na\n",
    "    na = nb\n",
    "    nb = temp\n",
    "\n",
    "na = 10\n",
    "nb = 20\n",
    "\n",
    "print('swap전 na 값: ', na, 'swap전 nb 값: ', nb)\n",
    "swapa()\n",
    "print('swap후 na 값: ', na, 'swap후 nb 값: ', nb)"
   ]
  },
  {
   "cell_type": "code",
   "execution_count": 39,
   "id": "a2915920-cda3-41e9-b574-a7b91677543d",
   "metadata": {},
   "outputs": [],
   "source": [
    "def persona(width, height):\n",
    "    print(\" 함수 디폴트 값 없음, width = \", width, \"  height = \", height)\n",
    "\n",
    "def personb(width=60, height=180):\n",
    "    print(\" 함수 디폴트 값 없음, width = \", width, \"  height = \", height)"
   ]
  },
  {
   "cell_type": "code",
   "execution_count": 40,
   "id": "444e1803-3329-4722-922c-19c983655885",
   "metadata": {},
   "outputs": [
    {
     "name": "stdout",
     "output_type": "stream",
     "text": [
      " 함수 디폴트 값 없음, width =  10   height =  20\n"
     ]
    }
   ],
   "source": [
    "persona(10, 20)"
   ]
  },
  {
   "cell_type": "code",
   "execution_count": 41,
   "id": "d6fa02e2-05d3-44f5-8a10-5ed47f73386b",
   "metadata": {},
   "outputs": [
    {
     "name": "stdout",
     "output_type": "stream",
     "text": [
      " 함수 디폴트 값 없음, width =  60   height =  180\n"
     ]
    }
   ],
   "source": [
    "personb()"
   ]
  },
  {
   "cell_type": "code",
   "execution_count": 42,
   "id": "bc81f7ea-8d36-41ee-844c-913a2377830d",
   "metadata": {},
   "outputs": [
    {
     "name": "stdout",
     "output_type": "stream",
     "text": [
      " 함수 디폴트 값 없음, width =  50   height =  180\n"
     ]
    }
   ],
   "source": [
    "personb(50)"
   ]
  },
  {
   "cell_type": "code",
   "execution_count": 43,
   "id": "6d0766db-7f08-4cbd-a949-6b5a4db52bae",
   "metadata": {},
   "outputs": [
    {
     "name": "stdout",
     "output_type": "stream",
     "text": [
      " 함수 디폴트 값 없음, width =  50   height =  190\n"
     ]
    }
   ],
   "source": [
    "personb(50, 190)"
   ]
  },
  {
   "cell_type": "code",
   "execution_count": 44,
   "id": "943334c9-940a-4657-9bab-f487e89ddc73",
   "metadata": {},
   "outputs": [
    {
     "ename": "SyntaxError",
     "evalue": "invalid syntax (2869365398.py, line 1)",
     "output_type": "error",
     "traceback": [
      "\u001b[1;36m  Cell \u001b[1;32mIn[44], line 1\u001b[1;36m\u001b[0m\n\u001b[1;33m    personb(, 190)\u001b[0m\n\u001b[1;37m            ^\u001b[0m\n\u001b[1;31mSyntaxError\u001b[0m\u001b[1;31m:\u001b[0m invalid syntax\n"
     ]
    }
   ],
   "source": [
    "personb(, 190)     # 파라미터는 순서데로 사용 할 수 있음."
   ]
  },
  {
   "cell_type": "code",
   "execution_count": 45,
   "id": "4072fec3-ce3b-49f7-96a5-838d96cea71c",
   "metadata": {},
   "outputs": [
    {
     "name": "stdout",
     "output_type": "stream",
     "text": [
      "[0]\n"
     ]
    }
   ],
   "source": [
    "def fget(nums=[0]):\n",
    "    return nums\n",
    "\n",
    "result1 = fget()\n",
    "print(result1)"
   ]
  },
  {
   "cell_type": "code",
   "execution_count": 46,
   "id": "c5bec9c9-97bc-425e-8c00-413de26dc646",
   "metadata": {},
   "outputs": [
    {
     "name": "stdout",
     "output_type": "stream",
     "text": [
      "[1, 2, 3, 4, 5]\n"
     ]
    }
   ],
   "source": [
    "result2 = fget([1,2,3,4,5])\n",
    "print(result2)"
   ]
  },
  {
   "cell_type": "code",
   "execution_count": 47,
   "id": "9606e66f-8db0-4fc3-a150-8e9b111bb5b7",
   "metadata": {},
   "outputs": [],
   "source": [
    "def fgets(nums=[0]):\n",
    "    for n in nums:\n",
    "        print(n)"
   ]
  },
  {
   "cell_type": "code",
   "execution_count": 48,
   "id": "5c09983f-4d63-4b0e-9875-0eda1a7b6c7a",
   "metadata": {},
   "outputs": [
    {
     "name": "stdout",
     "output_type": "stream",
     "text": [
      "0\n"
     ]
    }
   ],
   "source": [
    "fgets()"
   ]
  },
  {
   "cell_type": "code",
   "execution_count": 49,
   "id": "d756cd11-0d0b-4b92-9592-787578727e25",
   "metadata": {},
   "outputs": [
    {
     "name": "stdout",
     "output_type": "stream",
     "text": [
      "1\n",
      "2\n",
      "3\n",
      "4\n",
      "5\n"
     ]
    }
   ],
   "source": [
    "fgets([1,2,3,4,5])"
   ]
  },
  {
   "cell_type": "code",
   "execution_count": null,
   "id": "cd902f59-16f7-4c3f-9def-80bbd3134899",
   "metadata": {},
   "outputs": [],
   "source": []
  }
 ],
 "metadata": {
  "kernelspec": {
   "display_name": "Python 3 (ipykernel)",
   "language": "python",
   "name": "python3"
  },
  "language_info": {
   "codemirror_mode": {
    "name": "ipython",
    "version": 3
   },
   "file_extension": ".py",
   "mimetype": "text/x-python",
   "name": "python",
   "nbconvert_exporter": "python",
   "pygments_lexer": "ipython3",
   "version": "3.12.8"
  }
 },
 "nbformat": 4,
 "nbformat_minor": 5
}
