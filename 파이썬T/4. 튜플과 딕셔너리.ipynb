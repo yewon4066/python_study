{
 "cells": [
  {
   "cell_type": "code",
   "execution_count": 1,
   "id": "fd7fa24e-0cca-4c27-8fdb-5e5d782862ad",
   "metadata": {},
   "outputs": [
    {
     "data": {
      "text/plain": [
       "('스퀴트', '런지', '레그컬')"
      ]
     },
     "execution_count": 1,
     "metadata": {},
     "output_type": "execute_result"
    }
   ],
   "source": [
    "# 튜플은 프로그램이 시작되면 내용을 변경 할 수 없음\n",
    "# 중요 개인정보를 데이터 처리할 때 사용\n",
    "\n",
    "leg_day = ('스퀴트', '런지', '레그컬')\n",
    "leg_day"
   ]
  },
  {
   "cell_type": "code",
   "execution_count": 2,
   "id": "3188294c-0cd0-4e43-95c6-02eec0d98efb",
   "metadata": {},
   "outputs": [
    {
     "data": {
      "text/plain": [
       "'스퀴트'"
      ]
     },
     "execution_count": 2,
     "metadata": {},
     "output_type": "execute_result"
    }
   ],
   "source": [
    "leg_day[0]"
   ]
  },
  {
   "cell_type": "code",
   "execution_count": 3,
   "id": "ec17556c-a95e-49dd-a283-fcf4bb34eaee",
   "metadata": {},
   "outputs": [
    {
     "ename": "TypeError",
     "evalue": "'tuple' object does not support item assignment",
     "output_type": "error",
     "traceback": [
      "\u001b[1;31m---------------------------------------------------------------------------\u001b[0m",
      "\u001b[1;31mTypeError\u001b[0m                                 Traceback (most recent call last)",
      "Cell \u001b[1;32mIn[3], line 1\u001b[0m\n\u001b[1;32m----> 1\u001b[0m leg_day[\u001b[38;5;241m0\u001b[39m] \u001b[38;5;241m=\u001b[39m \u001b[38;5;124m'\u001b[39m\u001b[38;5;124m벤치프레스\u001b[39m\u001b[38;5;124m'\u001b[39m\n",
      "\u001b[1;31mTypeError\u001b[0m: 'tuple' object does not support item assignment"
     ]
    }
   ],
   "source": [
    "leg_day[0] = '벤치프레스'"
   ]
  },
  {
   "cell_type": "code",
   "execution_count": 4,
   "id": "a192bf1f-8c7b-4dab-9854-6044145a166d",
   "metadata": {},
   "outputs": [
    {
     "ename": "AttributeError",
     "evalue": "'tuple' object has no attribute 'append'",
     "output_type": "error",
     "traceback": [
      "\u001b[1;31m---------------------------------------------------------------------------\u001b[0m",
      "\u001b[1;31mAttributeError\u001b[0m                            Traceback (most recent call last)",
      "Cell \u001b[1;32mIn[4], line 1\u001b[0m\n\u001b[1;32m----> 1\u001b[0m leg_day\u001b[38;5;241m.\u001b[39mappend(\u001b[38;5;124m'\u001b[39m\u001b[38;5;124m숄더프레스\u001b[39m\u001b[38;5;124m'\u001b[39m)\n",
      "\u001b[1;31mAttributeError\u001b[0m: 'tuple' object has no attribute 'append'"
     ]
    }
   ],
   "source": [
    "leg_day.append('숄더프레스')"
   ]
  },
  {
   "cell_type": "code",
   "execution_count": 5,
   "id": "caf366f1-340a-42ce-95ef-6d3bf652b53e",
   "metadata": {},
   "outputs": [
    {
     "ename": "TypeError",
     "evalue": "'tuple' object doesn't support item deletion",
     "output_type": "error",
     "traceback": [
      "\u001b[1;31m---------------------------------------------------------------------------\u001b[0m",
      "\u001b[1;31mTypeError\u001b[0m                                 Traceback (most recent call last)",
      "Cell \u001b[1;32mIn[5], line 1\u001b[0m\n\u001b[1;32m----> 1\u001b[0m \u001b[38;5;28;01mdel\u001b[39;00m leg_day[\u001b[38;5;241m0\u001b[39m]\n",
      "\u001b[1;31mTypeError\u001b[0m: 'tuple' object doesn't support item deletion"
     ]
    }
   ],
   "source": [
    "del leg_day[0]"
   ]
  },
  {
   "cell_type": "code",
   "execution_count": 7,
   "id": "55850f49-e88c-4373-b45b-25190454c4a3",
   "metadata": {},
   "outputs": [
    {
     "data": {
      "text/plain": [
       "{'삼성전자': 60000, 'SK하이닉스': 140000, '네이버': 350000}"
      ]
     },
     "execution_count": 7,
     "metadata": {},
     "output_type": "execute_result"
    }
   ],
   "source": [
    "# 딕셔너리  { key : value }\n",
    "\n",
    "stock_prices = { \n",
    "    '삼성전자' : 60000,\n",
    "    'SK하이닉스' : 140000,\n",
    "    '네이버' : 350000\n",
    "}\n",
    "\n",
    "stock_prices"
   ]
  },
  {
   "cell_type": "code",
   "execution_count": 8,
   "id": "9d3546c8-1771-4dfa-a43f-ada7e059c955",
   "metadata": {},
   "outputs": [
    {
     "data": {
      "text/plain": [
       "60000"
      ]
     },
     "execution_count": 8,
     "metadata": {},
     "output_type": "execute_result"
    }
   ],
   "source": [
    "stock_prices['삼성전자']"
   ]
  },
  {
   "cell_type": "code",
   "execution_count": 9,
   "id": "ed7589b1-cc30-4d90-934d-b1fea158df35",
   "metadata": {},
   "outputs": [
    {
     "ename": "KeyError",
     "evalue": "'카카오'",
     "output_type": "error",
     "traceback": [
      "\u001b[1;31m---------------------------------------------------------------------------\u001b[0m",
      "\u001b[1;31mKeyError\u001b[0m                                  Traceback (most recent call last)",
      "Cell \u001b[1;32mIn[9], line 1\u001b[0m\n\u001b[1;32m----> 1\u001b[0m stock_prices[\u001b[38;5;124m'\u001b[39m\u001b[38;5;124m카카오\u001b[39m\u001b[38;5;124m'\u001b[39m]\n",
      "\u001b[1;31mKeyError\u001b[0m: '카카오'"
     ]
    }
   ],
   "source": [
    "stock_prices['카카오']"
   ]
  },
  {
   "cell_type": "code",
   "execution_count": 11,
   "id": "e74a9f12-ea38-4a20-a7ab-abe6619dd81b",
   "metadata": {},
   "outputs": [
    {
     "name": "stdout",
     "output_type": "stream",
     "text": [
      "삼성전자\n",
      "SK하이닉스\n",
      "네이버\n"
     ]
    }
   ],
   "source": [
    "for key in stock_prices.keys():\n",
    "    print(key)"
   ]
  },
  {
   "cell_type": "code",
   "execution_count": 12,
   "id": "f44ab265-641a-40d5-b2ba-f7d266c48e5e",
   "metadata": {},
   "outputs": [
    {
     "name": "stdout",
     "output_type": "stream",
     "text": [
      "60000\n",
      "140000\n",
      "350000\n"
     ]
    }
   ],
   "source": [
    "for value in stock_prices.values():\n",
    "    print(value)"
   ]
  },
  {
   "cell_type": "code",
   "execution_count": 13,
   "id": "c80b4725-3a1d-4d82-8f53-90a155e9e809",
   "metadata": {},
   "outputs": [
    {
     "name": "stdout",
     "output_type": "stream",
     "text": [
      "삼성전자 60000\n",
      "SK하이닉스 140000\n",
      "네이버 350000\n"
     ]
    }
   ],
   "source": [
    "for key, value in stock_prices.items():\n",
    "    print(key, value)"
   ]
  },
  {
   "cell_type": "code",
   "execution_count": 20,
   "id": "eb8360de-54b9-463a-b387-ddf0b2c08429",
   "metadata": {},
   "outputs": [
    {
     "name": "stdout",
     "output_type": "stream",
     "text": [
      " 삼성전자 평균 주가  61000\n",
      " SK하이닉스 평균 주가  157750\n",
      " 네이버 평균 주가  355000\n"
     ]
    }
   ],
   "source": [
    "# key 별 주가를 더해서 평균 주가 프린트 - sum(), len()\n",
    "\n",
    "stock_prices = { \n",
    "    '삼성전자' : [60000, 61000, 62000],\n",
    "    'SK하이닉스' : [140000, 141000, 150000, 200000],\n",
    "    '네이버' : [350000, 355000, 360000]\n",
    "}\n",
    "\n",
    "for key, value in stock_prices.items():\n",
    "    avg = sum(value) / len(value)\n",
    "    print(f' {key} 평균 주가  {int(avg)}')"
   ]
  },
  {
   "cell_type": "code",
   "execution_count": 24,
   "id": "6719dcd5-699e-4b12-9971-96de3dab5d34",
   "metadata": {},
   "outputs": [
    {
     "name": "stdout",
     "output_type": "stream",
     "text": [
      "삼성전자 - 최고가 : 80000, 최저가 : 61000\n",
      "SK하이닉스 - 최고가 : 160000, 최저가 : 141000\n",
      "네이버 - 최고가 : 400000, 최저가 : 305000\n"
     ]
    }
   ],
   "source": [
    "# 각 회사별로 주가의 최고가와 최저가를 구하시요.\n",
    "\n",
    "stock_prices = { \n",
    "    '삼성전자' : {'최고가' : 80000, '최저가': 61000, '현재가' : 62000 },\n",
    "    'SK하이닉스' : {'최고가' : 160000, '최저가': 141000, '현재가' : 150000 },\n",
    "    '네이버' : {'최고가' : 400000, '최저가': 305000, '현재가' : 360000}\n",
    "}\n",
    "\n",
    "for key, value in stock_prices.items():\n",
    "    print(f'{key} - 최고가 : {value[\"최고가\"]}, 최저가 : {value[\"최저가\"]}')"
   ]
  },
  {
   "cell_type": "code",
   "execution_count": 25,
   "id": "b1f62d41-ed1b-4892-a910-7b1af5582e3f",
   "metadata": {},
   "outputs": [
    {
     "name": "stdout",
     "output_type": "stream",
     "text": [
      "삼성전자 - 최고가 : 80000, 최저가 : 61000\n",
      "SK하이닉스 - 최고가 : 160000, 최저가 : 141000\n",
      "네이버 - 최고가 : 400000, 최저가 : 305000\n"
     ]
    }
   ],
   "source": [
    "for key, value in stock_prices.items():\n",
    "    max_value = value[\"최고가\"]\n",
    "    min_value = value[\"최저가\"]\n",
    "    print(f'{key} - 최고가 : {max_value}, 최저가 : {min_value}')"
   ]
  },
  {
   "cell_type": "code",
   "execution_count": null,
   "id": "849ca934-5597-4a76-9a02-f1006f8d3dd3",
   "metadata": {},
   "outputs": [],
   "source": []
  }
 ],
 "metadata": {
  "kernelspec": {
   "display_name": "Python 3 (ipykernel)",
   "language": "python",
   "name": "python3"
  },
  "language_info": {
   "codemirror_mode": {
    "name": "ipython",
    "version": 3
   },
   "file_extension": ".py",
   "mimetype": "text/x-python",
   "name": "python",
   "nbconvert_exporter": "python",
   "pygments_lexer": "ipython3",
   "version": "3.12.8"
  }
 },
 "nbformat": 4,
 "nbformat_minor": 5
}
