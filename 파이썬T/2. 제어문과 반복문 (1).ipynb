{
 "cells": [
  {
   "cell_type": "markdown",
   "id": "cd3336ed-29da-439b-b32d-bf2615dd0f4d",
   "metadata": {},
   "source": [
    "# 1. 조건문 예제\n",
    "\n",
    "## 1.1 짝수와 홀수 판별하기"
   ]
  },
  {
   "cell_type": "code",
   "execution_count": 16,
   "id": "0ddb5d39-441e-42ae-bf0a-6b5acdb56107",
   "metadata": {},
   "outputs": [
    {
     "name": "stdin",
     "output_type": "stream",
     "text": [
      "정수를 입력하세요:  55\n"
     ]
    },
    {
     "name": "stdout",
     "output_type": "stream",
     "text": [
      "55은(는) 홀수입니다.\n"
     ]
    }
   ],
   "source": [
    "number = int(input(\"정수를 입력하세요: \"))\n",
    "\n",
    "if number % 2 == 0:\n",
    "    print(f\"{number}은(는) 짝수입니다.\")\n",
    "else:\n",
    "    print(f\"{number}은(는) 홀수입니다.\")"
   ]
  },
  {
   "cell_type": "markdown",
   "id": "0e747f32-fd4d-4af2-8c83-bb3910112cc0",
   "metadata": {},
   "source": [
    "## 1.2 성적에 따른 학점 출력"
   ]
  },
  {
   "cell_type": "code",
   "execution_count": 15,
   "id": "f9210cf0-36bd-435d-bf8e-1d1b174544c3",
   "metadata": {},
   "outputs": [
    {
     "name": "stdin",
     "output_type": "stream",
     "text": [
      "점수를 입력하세요 (0 ~ 100):  55\n"
     ]
    },
    {
     "name": "stdout",
     "output_type": "stream",
     "text": [
      "F학점입니다.\n"
     ]
    }
   ],
   "source": [
    "# 점수를 입력받아 학점을 출력\n",
    "score = int(input(\"점수를 입력하세요 (0 ~ 100): \"))\n",
    "\n",
    "if score >= 90:\n",
    "    print(\"A학점입니다.\")\n",
    "elif score >= 80:\n",
    "    print(\"B학점입니다.\")\n",
    "elif score >= 70:\n",
    "    print(\"C학점입니다.\")\n",
    "elif score >= 60:\n",
    "    print(\"D학점입니다.\")\n",
    "else:\n",
    "    print(\"F학점입니다.\")"
   ]
  },
  {
   "cell_type": "markdown",
   "id": "54bf132f-2d11-4392-9275-0a292af26b82",
   "metadata": {},
   "source": [
    "## 1.3 로그인 시스템"
   ]
  },
  {
   "cell_type": "code",
   "execution_count": 20,
   "id": "816f4951-9b3c-4276-98d0-2bba4b5baa7e",
   "metadata": {},
   "outputs": [
    {
     "name": "stdin",
     "output_type": "stream",
     "text": [
      "사용자 아이디를 입력하세요 ad\n",
      "사용자 비밀번호를 입력하세요 11\n"
     ]
    },
    {
     "name": "stdout",
     "output_type": "stream",
     "text": [
      "등록된 사용자 아이디가 틀립니다.\n"
     ]
    }
   ],
   "source": [
    "# 간단한 로그인 시스템\n",
    "user_id = \"admin\"\n",
    "user_pw = \"1234\"\n",
    "\n",
    "input_id = input('사용자 아이디를 입력하세요')\n",
    "input_pw = input('사용자 비밀번호를 입력하세요')\n",
    "\n",
    "if user_id == input_id:\n",
    "    if user_pw == input_pw:\n",
    "        print('로그인 성공!')\n",
    "    else:\n",
    "        print('비밀번호가 틀립니다.')\n",
    "else:\n",
    "    print('등록된 사용자 아이디가 틀립니다.')"
   ]
  },
  {
   "cell_type": "code",
   "execution_count": 22,
   "id": "12419dad-475b-4838-ad58-83cd13f2115f",
   "metadata": {},
   "outputs": [
    {
     "name": "stdin",
     "output_type": "stream",
     "text": [
      "사용자 아이디를 입력하세요 bdmin\n",
      "사용자 비밀번호를 입력하세요 1234\n"
     ]
    },
    {
     "name": "stdout",
     "output_type": "stream",
     "text": [
      "등록된 사용자 아이디 또는 비밀번호가 틀립니다.\n"
     ]
    }
   ],
   "source": [
    "# 간단한 로그인 시스템\n",
    "user_id = \"admin\"\n",
    "user_pw = \"1234\"\n",
    "\n",
    "input_id = input('사용자 아이디를 입력하세요')\n",
    "input_pw = input('사용자 비밀번호를 입력하세요')\n",
    "\n",
    "if user_id == input_id and user_pw == input_pw:\n",
    "    print('로그인 성공!')\n",
    "else:\n",
    "    print('등록된 사용자 아이디 또는 비밀번호가 틀립니다.')"
   ]
  },
  {
   "cell_type": "markdown",
   "id": "409b1c05-e49a-4d33-a45c-fac6e3edcd15",
   "metadata": {},
   "source": [
    "# 2. 반복문 예제"
   ]
  },
  {
   "cell_type": "markdown",
   "id": "7b4e599a-7e86-449a-a777-cf3e330a9d5f",
   "metadata": {},
   "source": [
    "## 2.1 1부터 10까지 숫자 출력 (for문)"
   ]
  },
  {
   "cell_type": "code",
   "execution_count": 27,
   "id": "da9dd5a7-07e5-464e-9672-62449d41f566",
   "metadata": {},
   "outputs": [
    {
     "name": "stdout",
     "output_type": "stream",
     "text": [
      "1\n",
      "2\n",
      "3\n",
      "4\n",
      "5\n",
      "6\n",
      "7\n",
      "8\n",
      "9\n",
      "10\n"
     ]
    }
   ],
   "source": [
    "for i in range(1, 11, 1): # (초기값, 목표값 + 1, 증가값)\n",
    "    print(i)"
   ]
  },
  {
   "cell_type": "code",
   "execution_count": 34,
   "id": "1f65aa08-f9c5-4d70-a4b8-8aaf98cf4838",
   "metadata": {},
   "outputs": [
    {
     "name": "stdout",
     "output_type": "stream",
     "text": [
      "1 3 5 7 9 "
     ]
    }
   ],
   "source": [
    "for i in range(1, 11, 2): # (초기값, 목표값 + 1, 증가값)\n",
    "    print(i, end=\" \")"
   ]
  },
  {
   "cell_type": "code",
   "execution_count": 31,
   "id": "873fe89d-b99a-4eb9-8383-f30faa6bb510",
   "metadata": {},
   "outputs": [
    {
     "name": "stdout",
     "output_type": "stream",
     "text": [
      "a b c d "
     ]
    }
   ],
   "source": [
    "text_list = ['a', 'b', 'c', 'd']\n",
    "\n",
    "for txt in text_list:\n",
    "    print(txt, end=\" \")"
   ]
  },
  {
   "cell_type": "markdown",
   "id": "13485282-7a5e-4674-b310-576598ede5ba",
   "metadata": {},
   "source": [
    "## 2.2 특정 단 구구단 출력"
   ]
  },
  {
   "cell_type": "code",
   "execution_count": 36,
   "id": "dd0b8cbc-7b34-4916-98ad-b918311c59f8",
   "metadata": {},
   "outputs": [
    {
     "name": "stdin",
     "output_type": "stream",
     "text": [
      "출력할 구구단의 단수를 입력하세요:  5\n"
     ]
    },
    {
     "name": "stdout",
     "output_type": "stream",
     "text": [
      "5 X 1 = 5\n",
      "5 X 2 = 10\n",
      "5 X 3 = 15\n",
      "5 X 4 = 20\n",
      "5 X 5 = 25\n",
      "5 X 6 = 30\n",
      "5 X 7 = 35\n",
      "5 X 8 = 40\n",
      "5 X 9 = 45\n"
     ]
    }
   ],
   "source": [
    "# 사용자로부터 구구단 단수를 입력받아 출력\n",
    "dan = int(input(\"출력할 구구단의 단수를 입력하세요: \"))\n",
    "\n",
    "for i in range(1, 10):\n",
    "    print(f'{dan} X {i} = {dan * i}')"
   ]
  },
  {
   "cell_type": "markdown",
   "id": "b57935a7-52cd-43b2-91a2-9e3e91e0486d",
   "metadata": {},
   "source": [
    "## 2.3 리스트 요소 출력"
   ]
  },
  {
   "cell_type": "code",
   "execution_count": 37,
   "id": "84e4e98a-8028-43bc-9091-667ba95c45aa",
   "metadata": {},
   "outputs": [
    {
     "name": "stdout",
     "output_type": "stream",
     "text": [
      "사과\n",
      "바나나\n",
      "포도\n",
      "오렌지\n"
     ]
    }
   ],
   "source": [
    "# 리스트에 저장된 과일 이름 출력\n",
    "fruits = [\"사과\", \"바나나\", \"포도\", \"오렌지\"]\n",
    "\n",
    "for fruit in fruits:\n",
    "    print(fruit)"
   ]
  },
  {
   "cell_type": "markdown",
   "id": "b25589d2-785f-47f8-ab0a-0feb00e9ac5e",
   "metadata": {},
   "source": [
    "## 2.4 for 문 사용해서 1 ~ 100까지 합계 구하기"
   ]
  },
  {
   "cell_type": "code",
   "execution_count": 38,
   "id": "20aec764-356a-44d7-aa5e-0ee0c1c2ef97",
   "metadata": {},
   "outputs": [
    {
     "name": "stdout",
     "output_type": "stream",
     "text": [
      "합계 =  5050\n"
     ]
    }
   ],
   "source": [
    "tot = 0\n",
    "\n",
    "for i in range(1, 101):\n",
    "    tot = tot + i\n",
    "\n",
    "print('합계 = ', tot)"
   ]
  },
  {
   "cell_type": "markdown",
   "id": "bc9d02c4-31fb-4b0f-a86d-e01c958a100e",
   "metadata": {},
   "source": [
    "## 2.5 while 문 사용해서 1 ~ 100까지 합계 구하기"
   ]
  },
  {
   "cell_type": "code",
   "execution_count": 40,
   "id": "a8b56127-4a9c-49fc-bb82-7175abb03d7b",
   "metadata": {},
   "outputs": [
    {
     "name": "stdout",
     "output_type": "stream",
     "text": [
      "합계 =  5050\n"
     ]
    }
   ],
   "source": [
    "# while문에서 break 사용 예제\n",
    "tot = 0\n",
    "cnt = 0\n",
    "\n",
    "while True:\n",
    "    if cnt > 99:\n",
    "        break\n",
    "        \n",
    "    cnt = cnt + 1\n",
    "    tot = tot + cnt\n",
    "\n",
    "print('합계 = ', tot)"
   ]
  },
  {
   "cell_type": "code",
   "execution_count": 43,
   "id": "57c555b5-b54d-4a2a-97e3-e4410bf64447",
   "metadata": {},
   "outputs": [
    {
     "name": "stdout",
     "output_type": "stream",
     "text": [
      "1부터 100까지의 합은 5050입니다.\n"
     ]
    }
   ],
   "source": [
    "tot = 0\n",
    "cnt = 0\n",
    "\n",
    "while cnt < 100:        \n",
    "    cnt = cnt + 1\n",
    "    tot = tot + cnt\n",
    "\n",
    "print(f\"1부터 {cnt}까지의 합은 {tot}입니다.\")"
   ]
  },
  {
   "cell_type": "markdown",
   "id": "f80bb33f-7535-4b06-920a-ff25f9d65704",
   "metadata": {},
   "source": [
    "## 2.6 continue 사용 예제"
   ]
  },
  {
   "cell_type": "code",
   "execution_count": 45,
   "id": "510ade8d-6f13-4bba-84da-62d24af8c1ee",
   "metadata": {},
   "outputs": [
    {
     "name": "stdout",
     "output_type": "stream",
     "text": [
      "2\n",
      "4\n",
      "6\n",
      "8\n",
      "10\n"
     ]
    }
   ],
   "source": [
    "# 1 부터 10까지 출력하는데 짝수만 출력하시오.\n",
    "\n",
    "for i in range(1, 11):\n",
    "    if i % 2 == 1:\n",
    "        continue\n",
    "    print(i)"
   ]
  },
  {
   "cell_type": "markdown",
   "id": "5857c63f-3975-4046-b73b-3a8bac4926ac",
   "metadata": {},
   "source": [
    "## 2.7 별 출력 프로그램"
   ]
  },
  {
   "cell_type": "code",
   "execution_count": 49,
   "id": "816d98c4-a4cf-4119-84b0-5b3a010b97a5",
   "metadata": {},
   "outputs": [
    {
     "name": "stdout",
     "output_type": "stream",
     "text": [
      "**********\n"
     ]
    }
   ],
   "source": [
    "print('*' * 10)"
   ]
  },
  {
   "cell_type": "code",
   "execution_count": 47,
   "id": "3803bccf-7ff9-49b2-9ae4-63fd48f522af",
   "metadata": {},
   "outputs": [
    {
     "name": "stdin",
     "output_type": "stream",
     "text": [
      "출력할 줄 수를 입력하세요: 10\n"
     ]
    },
    {
     "name": "stdout",
     "output_type": "stream",
     "text": [
      "*\n",
      "**\n",
      "***\n",
      "****\n",
      "*****\n",
      "******\n",
      "*******\n",
      "********\n",
      "*********\n",
      "**********\n"
     ]
    }
   ],
   "source": [
    "# 사용자로 부터 숫자를 입력받아서 해당 숫자만큼 별을 출력\n",
    "\n",
    "n = int(input('출력할 줄 수를 입력하세요:'))\n",
    "\n",
    "for i in range(1, n + 1):\n",
    "    print('*' * i)"
   ]
  },
  {
   "cell_type": "markdown",
   "id": "cd3dbec7-80f9-48c4-bf26-0c9b1a2adb6e",
   "metadata": {},
   "source": [
    "## 2.8 숫자 피라미드 만들기"
   ]
  },
  {
   "cell_type": "code",
   "execution_count": 51,
   "id": "57f5459b-dd00-40de-8fc3-468d604d9106",
   "metadata": {},
   "outputs": [
    {
     "name": "stdin",
     "output_type": "stream",
     "text": [
      "피라미드의 높이를 입력하세요: 10\n"
     ]
    },
    {
     "name": "stdout",
     "output_type": "stream",
     "text": [
      "1 \n",
      "1 2 \n",
      "1 2 3 \n",
      "1 2 3 4 \n",
      "1 2 3 4 5 \n",
      "1 2 3 4 5 6 \n",
      "1 2 3 4 5 6 7 \n",
      "1 2 3 4 5 6 7 8 \n",
      "1 2 3 4 5 6 7 8 9 \n",
      "1 2 3 4 5 6 7 8 9 10 \n"
     ]
    }
   ],
   "source": [
    "n = int(input('피라미드의 높이를 입력하세요:'))\n",
    "\n",
    "for i in range(1, n + 1 ):\n",
    "    for j in range(1, i + 1):\n",
    "        print(j, end=' ')\n",
    "    print()"
   ]
  },
  {
   "cell_type": "markdown",
   "id": "4edf236a-028a-49c0-8731-803a75f2e74d",
   "metadata": {},
   "source": [
    "## 2.9 숫자 피라미드 만들기"
   ]
  },
  {
   "cell_type": "code",
   "execution_count": 54,
   "id": "fcb1c66f-d311-41f0-8de7-3b8efe48c384",
   "metadata": {},
   "outputs": [
    {
     "name": "stdout",
     "output_type": "stream",
     "text": [
      "\n",
      "    2 단\n",
      "2 X 1 = 2\n",
      "2 X 2 = 4\n",
      "2 X 3 = 6\n",
      "2 X 4 = 8\n",
      "2 X 5 = 10\n",
      "2 X 6 = 12\n",
      "2 X 7 = 14\n",
      "2 X 8 = 16\n",
      "2 X 9 = 18\n",
      "\n",
      "    3 단\n",
      "3 X 1 = 3\n",
      "3 X 2 = 6\n",
      "3 X 3 = 9\n",
      "3 X 4 = 12\n",
      "3 X 5 = 15\n",
      "3 X 6 = 18\n",
      "3 X 7 = 21\n",
      "3 X 8 = 24\n",
      "3 X 9 = 27\n",
      "\n",
      "    4 단\n",
      "4 X 1 = 4\n",
      "4 X 2 = 8\n",
      "4 X 3 = 12\n",
      "4 X 4 = 16\n",
      "4 X 5 = 20\n",
      "4 X 6 = 24\n",
      "4 X 7 = 28\n",
      "4 X 8 = 32\n",
      "4 X 9 = 36\n",
      "\n",
      "    5 단\n",
      "5 X 1 = 5\n",
      "5 X 2 = 10\n",
      "5 X 3 = 15\n",
      "5 X 4 = 20\n",
      "5 X 5 = 25\n",
      "5 X 6 = 30\n",
      "5 X 7 = 35\n",
      "5 X 8 = 40\n",
      "5 X 9 = 45\n",
      "\n",
      "    6 단\n",
      "6 X 1 = 6\n",
      "6 X 2 = 12\n",
      "6 X 3 = 18\n",
      "6 X 4 = 24\n",
      "6 X 5 = 30\n",
      "6 X 6 = 36\n",
      "6 X 7 = 42\n",
      "6 X 8 = 48\n",
      "6 X 9 = 54\n",
      "\n",
      "    7 단\n",
      "7 X 1 = 7\n",
      "7 X 2 = 14\n",
      "7 X 3 = 21\n",
      "7 X 4 = 28\n",
      "7 X 5 = 35\n",
      "7 X 6 = 42\n",
      "7 X 7 = 49\n",
      "7 X 8 = 56\n",
      "7 X 9 = 63\n",
      "\n",
      "    8 단\n",
      "8 X 1 = 8\n",
      "8 X 2 = 16\n",
      "8 X 3 = 24\n",
      "8 X 4 = 32\n",
      "8 X 5 = 40\n",
      "8 X 6 = 48\n",
      "8 X 7 = 56\n",
      "8 X 8 = 64\n",
      "8 X 9 = 72\n",
      "\n",
      "    9 단\n",
      "9 X 1 = 9\n",
      "9 X 2 = 18\n",
      "9 X 3 = 27\n",
      "9 X 4 = 36\n",
      "9 X 5 = 45\n",
      "9 X 6 = 54\n",
      "9 X 7 = 63\n",
      "9 X 8 = 72\n",
      "9 X 9 = 81\n"
     ]
    }
   ],
   "source": [
    "for i in range(2, 10):\n",
    "    print(f'\\n    {i} 단')\n",
    "    for j in range(1, 10):\n",
    "        print(f'{i} X {j} = {i * j}')"
   ]
  },
  {
   "cell_type": "code",
   "execution_count": null,
   "id": "738f3772-c4cc-49b6-84cc-51acf8ff2b91",
   "metadata": {},
   "outputs": [],
   "source": []
  }
 ],
 "metadata": {
  "kernelspec": {
   "display_name": "Python 3 (ipykernel)",
   "language": "python",
   "name": "python3"
  },
  "language_info": {
   "codemirror_mode": {
    "name": "ipython",
    "version": 3
   },
   "file_extension": ".py",
   "mimetype": "text/x-python",
   "name": "python",
   "nbconvert_exporter": "python",
   "pygments_lexer": "ipython3",
   "version": "3.12.8"
  }
 },
 "nbformat": 4,
 "nbformat_minor": 5
}
