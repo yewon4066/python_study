{
 "cells": [
  {
   "cell_type": "markdown",
   "id": "de8ab24f-fedf-4bd0-b6f3-e5a84bea99c2",
   "metadata": {},
   "source": [
    "# 최댓값 찾기 (if문)"
   ]
  },
  {
   "cell_type": "code",
   "execution_count": 1,
   "id": "6a021649-87db-4af3-bef1-044671826c4b",
   "metadata": {},
   "outputs": [
    {
     "name": "stdout",
     "output_type": "stream",
     "text": [
      "17\n"
     ]
    }
   ],
   "source": [
    "ca = [10, 17, 13, 11]\n",
    "\n",
    "max = ca[0]\n",
    "if max < ca[1]:\n",
    "    max = ca[1]\n",
    "    \n",
    "if max < ca[2]:\n",
    "    max = ca[2]\n",
    "\n",
    "if max < ca[3]:\n",
    "    max = ca[3]  \n",
    "\n",
    "print(max)"
   ]
  },
  {
   "cell_type": "markdown",
   "id": "6d8a13de-c991-4b3d-90d3-ee3c542063bc",
   "metadata": {},
   "source": [
    "# for 문을 사용해서 최댓값 찾기"
   ]
  },
  {
   "cell_type": "code",
   "execution_count": 11,
   "id": "39824397-35bf-46f5-83c9-b851f4fe9f67",
   "metadata": {},
   "outputs": [
    {
     "name": "stdout",
     "output_type": "stream",
     "text": [
      "17\n"
     ]
    }
   ],
   "source": [
    "ca = [10, 17, 13, 11]\n",
    "\n",
    "maxc = ca[0]\n",
    "for sb in range(1, 4):\n",
    "    if maxc < ca[sb]:\n",
    "        maxc = ca[sb]\n",
    "\n",
    "print(maxc)"
   ]
  },
  {
   "cell_type": "markdown",
   "id": "f3ac7154-eafb-4a46-8e1e-f55965ab67fa",
   "metadata": {},
   "source": [
    "# 원소의 갯수를 모를 경우"
   ]
  },
  {
   "cell_type": "code",
   "execution_count": 12,
   "id": "ac64a284-7840-4304-83ab-5b127fbb376f",
   "metadata": {},
   "outputs": [
    {
     "name": "stdout",
     "output_type": "stream",
     "text": [
      "17\n"
     ]
    }
   ],
   "source": [
    "ca = [10, 17, 13, 11]\n",
    "\n",
    "maxc = ca[0]\n",
    "for sb in ca:\n",
    "    if maxc < sb:\n",
    "        maxc = sb\n",
    "\n",
    "print(maxc)"
   ]
  },
  {
   "cell_type": "code",
   "execution_count": 13,
   "id": "0aeb84ee-ff7a-4f06-80f3-4e47d961221b",
   "metadata": {},
   "outputs": [
    {
     "name": "stdout",
     "output_type": "stream",
     "text": [
      "17\n"
     ]
    }
   ],
   "source": [
    "ca = [10, 17, 13, 11]\n",
    "\n",
    "maxc = ca[0]\n",
    "for sb in range(1, len(ca)):\n",
    "    if maxc < ca[sb]:\n",
    "        maxc = ca[sb]\n",
    "\n",
    "print(maxc)"
   ]
  },
  {
   "cell_type": "code",
   "execution_count": 14,
   "id": "f5d40be6-779b-4809-b8fb-8b19166eed8d",
   "metadata": {},
   "outputs": [
    {
     "data": {
      "text/plain": [
       "17"
      ]
     },
     "execution_count": 14,
     "metadata": {},
     "output_type": "execute_result"
    }
   ],
   "source": [
    "ca = [10, 17, 13, 11]\n",
    "max(ca)"
   ]
  },
  {
   "cell_type": "markdown",
   "id": "e4429cc7-98fc-4b1a-90cf-58feedd4d9e4",
   "metadata": {},
   "source": [
    "# 원소의 정렬(sort)"
   ]
  },
  {
   "cell_type": "code",
   "execution_count": 19,
   "id": "f6705413-f8b8-43ce-b476-d5198e1b5ef7",
   "metadata": {},
   "outputs": [
    {
     "name": "stdout",
     "output_type": "stream",
     "text": [
      "[10, 21, 11, 15, 13]\n"
     ]
    }
   ],
   "source": [
    "ca = [21, 10, 11, 15, 13]\n",
    "\n",
    "mina = ca[0]\n",
    "minix = 0\n",
    "\n",
    "for sb in range(1, len(ca)):\n",
    "    if mina > ca[sb]:\n",
    "        mina = ca[sb]\n",
    "        minix = sb\n",
    "\n",
    "temp = ca[0]\n",
    "ca[0] = ca[minix]\n",
    "ca[minix] = temp\n",
    "\n",
    "print(ca)"
   ]
  },
  {
   "cell_type": "code",
   "execution_count": 20,
   "id": "8f3d7f58-fad9-4660-946f-42a630590fba",
   "metadata": {},
   "outputs": [
    {
     "name": "stdout",
     "output_type": "stream",
     "text": [
      "[10, 11, 21, 15, 13]\n"
     ]
    }
   ],
   "source": [
    "mina = ca[1]\n",
    "minix = 1\n",
    "\n",
    "for sb in range(2, len(ca)):\n",
    "    if mina > ca[sb]:\n",
    "        mina = ca[sb]\n",
    "        minix = sb\n",
    "\n",
    "temp = ca[1]\n",
    "ca[1] = ca[minix]\n",
    "ca[minix] = temp\n",
    "\n",
    "print(ca)"
   ]
  },
  {
   "cell_type": "code",
   "execution_count": 22,
   "id": "e7cf8a2a-b66a-4645-b09d-83f02b35b0fb",
   "metadata": {},
   "outputs": [
    {
     "name": "stdout",
     "output_type": "stream",
     "text": [
      "[10, 21, 11, 15, 13]\n",
      "[10, 11, 21, 15, 13]\n",
      "[10, 11, 13, 15, 21]\n",
      "[10, 11, 13, 15, 21]\n"
     ]
    }
   ],
   "source": [
    "ca = [21, 10, 11, 15, 13]\n",
    "for sa in range(0, len(ca) -1):\n",
    "    mina = ca[sa]\n",
    "    minix = sa\n",
    "    \n",
    "    for sb in range(sa +1, len(ca)):\n",
    "        if mina > ca[sb]:\n",
    "            mina = ca[sb]\n",
    "            minix = sb\n",
    "    \n",
    "    temp = ca[sa]\n",
    "    ca[sa] = ca[minix]\n",
    "    ca[minix] = temp\n",
    "\n",
    "    print(ca)"
   ]
  },
  {
   "cell_type": "code",
   "execution_count": 23,
   "id": "d9ff1280-f75b-4765-81e1-d46374863721",
   "metadata": {},
   "outputs": [
    {
     "name": "stdout",
     "output_type": "stream",
     "text": [
      "[10, 11, 13, 15, 21]\n"
     ]
    }
   ],
   "source": [
    "def user_sort(ca):\n",
    "    for sa in range(0, len(ca) -1):\n",
    "        mina = ca[sa]\n",
    "        minix = sa\n",
    "        \n",
    "        for sb in range(sa +1, len(ca)):\n",
    "            if mina > ca[sb]:\n",
    "                mina = ca[sb]\n",
    "                minix = sb\n",
    "        \n",
    "        temp = ca[sa]\n",
    "        ca[sa] = ca[minix]\n",
    "        ca[minix] = temp\n",
    "\n",
    "ca = [21, 10, 11, 15, 13]\n",
    "user_sort(ca)\n",
    "print(ca)"
   ]
  },
  {
   "cell_type": "code",
   "execution_count": 24,
   "id": "ef47a58f-ef59-404d-95ad-49db7d939893",
   "metadata": {},
   "outputs": [
    {
     "name": "stdout",
     "output_type": "stream",
     "text": [
      "[10, 11, 13, 15, 21]\n"
     ]
    }
   ],
   "source": [
    "ca = [21, 10, 11, 15, 13]\n",
    "ca.sort()   # 오름차순\n",
    "print(ca)"
   ]
  },
  {
   "cell_type": "code",
   "execution_count": 25,
   "id": "f0cc6059-8353-4db8-babb-186c0894783c",
   "metadata": {},
   "outputs": [
    {
     "name": "stdout",
     "output_type": "stream",
     "text": [
      "[21, 15, 13, 11, 10]\n"
     ]
    }
   ],
   "source": [
    "ca = [21, 10, 11, 15, 13]\n",
    "ca.sort(reverse=True)   # 내림차순(reverse=True) \n",
    "print(ca)"
   ]
  },
  {
   "cell_type": "markdown",
   "id": "e92920c3-eb49-45fe-b4d0-6bc9f241223c",
   "metadata": {},
   "source": [
    "# 딕셔너리를 매개변수로 사용하는 방법 \n",
    "딕셔너리는 (key, value)"
   ]
  },
  {
   "cell_type": "code",
   "execution_count": 26,
   "id": "9f50d944-3d86-4ad3-9a71-be97a951e3e5",
   "metadata": {},
   "outputs": [
    {
     "name": "stdout",
     "output_type": "stream",
     "text": [
      "{'mon': '월', 'tue': '화', 'wed': '수'}\n"
     ]
    }
   ],
   "source": [
    "a = {'mon' : '월', 'tue' : '화', 'wed' : '수'}\n",
    "print(a)"
   ]
  },
  {
   "cell_type": "code",
   "execution_count": 27,
   "id": "ac39c4eb-1dfb-43b8-bc78-7b96d0fd51ae",
   "metadata": {},
   "outputs": [
    {
     "name": "stdout",
     "output_type": "stream",
     "text": [
      "{'mon': '월', 'tue': '화', 'wed': '수'}\n"
     ]
    }
   ],
   "source": [
    "x = a\n",
    "print(x)"
   ]
  },
  {
   "cell_type": "code",
   "execution_count": 28,
   "id": "778be7aa-58a3-428b-9ef6-fb69ec509258",
   "metadata": {},
   "outputs": [
    {
     "name": "stdout",
     "output_type": "stream",
     "text": [
      "{'mon': '일', 'tue': '화', 'wed': '수'}\n",
      "{'mon': '일', 'tue': '화', 'wed': '수'}\n"
     ]
    }
   ],
   "source": [
    "x['mon'] = '일'\n",
    "print(x)\n",
    "print(a)"
   ]
  },
  {
   "cell_type": "code",
   "execution_count": 30,
   "id": "d16cfaae-14ef-4d1e-9fa9-3e935f5a68d3",
   "metadata": {},
   "outputs": [
    {
     "name": "stdout",
     "output_type": "stream",
     "text": [
      "{'mon': '월', 'tue': '화', 'wed': '수'}\n"
     ]
    }
   ],
   "source": [
    "x = a\n",
    "print(x)"
   ]
  },
  {
   "cell_type": "code",
   "execution_count": 31,
   "id": "4b57d9e4-6a4f-4396-a896-f15fa0e742b4",
   "metadata": {},
   "outputs": [],
   "source": [
    "def fch(x):\n",
    "    x['mon'] = '일'"
   ]
  },
  {
   "cell_type": "code",
   "execution_count": 33,
   "id": "aa69f0e5-0814-4eba-b403-344d313f95f3",
   "metadata": {},
   "outputs": [
    {
     "name": "stdout",
     "output_type": "stream",
     "text": [
      "{'mon': '월', 'tue': '화', 'wed': '수'}\n",
      "{'mon': '월', 'tue': '화', 'wed': '수'}\n"
     ]
    }
   ],
   "source": [
    "a = {'mon' : '월', 'tue' : '화', 'wed' : '수'}\n",
    "print(a)\n",
    "x = a\n",
    "print(x)"
   ]
  },
  {
   "cell_type": "code",
   "execution_count": 34,
   "id": "617ce65b-ac52-4304-af8e-f5e0c3122d26",
   "metadata": {},
   "outputs": [
    {
     "name": "stdout",
     "output_type": "stream",
     "text": [
      "함수 실행 전 :  {'mon': '월', 'tue': '화', 'wed': '수'}\n",
      "함수 실행 후 :  {'mon': '일', 'tue': '화', 'wed': '수'}\n"
     ]
    }
   ],
   "source": [
    "print(\"함수 실행 전 : \", a)\n",
    "fch(a)\n",
    "print(\"함수 실행 후 : \", a)"
   ]
  },
  {
   "cell_type": "code",
   "execution_count": 35,
   "id": "491c868f-945c-44f8-a273-3324d009976b",
   "metadata": {},
   "outputs": [
    {
     "name": "stdout",
     "output_type": "stream",
     "text": [
      "함수 실행 후 :  {'mon': '일', 'tue': '화', 'wed': '수'}\n"
     ]
    }
   ],
   "source": [
    "print(\"함수 실행 후 : \", x)"
   ]
  },
  {
   "cell_type": "markdown",
   "id": "18e718ca-f0c1-4807-831d-e913bdc7a45a",
   "metadata": {},
   "source": [
    "## *args 에서 \"*\"의 의미 : 매개변수가 유동적일때 \"*\" 사용함."
   ]
  },
  {
   "cell_type": "code",
   "execution_count": 36,
   "id": "5dadece4-3b6e-4ccd-9601-928cba684116",
   "metadata": {},
   "outputs": [
    {
     "name": "stdout",
     "output_type": "stream",
     "text": [
      "1\n",
      "2\n",
      "3\n",
      "4\n",
      "5\n"
     ]
    }
   ],
   "source": [
    "def my_func(*args):\n",
    "    for arg in args:\n",
    "        print(arg)\n",
    "        \n",
    "my_func(1,2,3,4,5)"
   ]
  },
  {
   "cell_type": "code",
   "execution_count": 37,
   "id": "1588536e-7f74-4a8d-a636-b3c43f9f8503",
   "metadata": {},
   "outputs": [
    {
     "name": "stdout",
     "output_type": "stream",
     "text": [
      "1\n",
      "2\n",
      "3\n"
     ]
    }
   ],
   "source": [
    "my_func(1,2,3)"
   ]
  },
  {
   "cell_type": "code",
   "execution_count": 38,
   "id": "316d48bf-3f1d-4556-b367-4116a4253e7f",
   "metadata": {},
   "outputs": [
    {
     "name": "stdout",
     "output_type": "stream",
     "text": [
      "1\n",
      "2\n",
      "3\n",
      "4\n",
      "5\n"
     ]
    }
   ],
   "source": [
    "def my_func(*xch):\n",
    "    for arg in xch:\n",
    "        print(arg)\n",
    "        \n",
    "my_func(1,2,3,4,5)"
   ]
  },
  {
   "cell_type": "markdown",
   "id": "3a581d01-35ca-4a46-b81c-cf9525c4935a",
   "metadata": {},
   "source": [
    "## **kwargs에서 \"**\" 의미 : 디셕너리 데이터를 파라미터로 사용하는데 (유동적)"
   ]
  },
  {
   "cell_type": "code",
   "execution_count": 39,
   "id": "18509e26-e4f4-4fc0-a03e-fd42f810eeea",
   "metadata": {},
   "outputs": [],
   "source": [
    "def my_func(**kwargs):\n",
    "    for key, value in kwargs.items():\n",
    "        print('key : ', key, ' value : ', value)"
   ]
  },
  {
   "cell_type": "code",
   "execution_count": 40,
   "id": "83817965-d1c9-4a44-8fa1-893b3c33b1ea",
   "metadata": {},
   "outputs": [
    {
     "name": "stdout",
     "output_type": "stream",
     "text": [
      "key :  name  value :  john\n",
      "key :  age  value :  30\n",
      "key :  gender  value :  Male\n",
      "key :  loc  value :  서울시\n"
     ]
    }
   ],
   "source": [
    "my_func(name='john', age=30, gender='Male', loc='서울시')"
   ]
  },
  {
   "cell_type": "code",
   "execution_count": 41,
   "id": "f075b624-6d01-4db9-9be1-032b28456101",
   "metadata": {},
   "outputs": [
    {
     "name": "stdout",
     "output_type": "stream",
     "text": [
      "key :  name  value :  john\n",
      "key :  age  value :  30\n",
      "key :  gender  value :  Male\n"
     ]
    }
   ],
   "source": [
    "my_func(name='john', age=30, gender='Male')"
   ]
  },
  {
   "cell_type": "code",
   "execution_count": 42,
   "id": "1436e909-515b-472c-8686-3fa1d80786b2",
   "metadata": {},
   "outputs": [],
   "source": [
    "def my_func(*args, **kwargs):   # *, ** 는 순서가 바뀌 안됨\n",
    "    for arg in args:\n",
    "        print(arg)\n",
    "    for key, value in kwargs.items():\n",
    "        print('key : ', key, ' value : ', value)"
   ]
  },
  {
   "cell_type": "code",
   "execution_count": 43,
   "id": "dc0107cd-2dc6-4c6e-bee3-a8d1a5f02b43",
   "metadata": {},
   "outputs": [
    {
     "name": "stdout",
     "output_type": "stream",
     "text": [
      "1\n",
      "2\n",
      "3\n",
      "4\n",
      "5\n",
      "key :  name  value :  john\n",
      "key :  age  value :  30\n",
      "key :  gender  value :  Male\n"
     ]
    }
   ],
   "source": [
    "my_func(1,2,3,4,5, name='john', age=30, gender='Male')"
   ]
  },
  {
   "cell_type": "code",
   "execution_count": 45,
   "id": "ca023c4d-ec82-439d-a570-dc991d52ed82",
   "metadata": {},
   "outputs": [
    {
     "ename": "SyntaxError",
     "evalue": "arguments cannot follow var-keyword argument (60040778.py, line 1)",
     "output_type": "error",
     "traceback": [
      "\u001b[1;36m  Cell \u001b[1;32mIn[45], line 1\u001b[1;36m\u001b[0m\n\u001b[1;33m    def my_func(**kwargs, *args):   # *, ** 는 순서가 바뀌 안됨\u001b[0m\n\u001b[1;37m                          ^\u001b[0m\n\u001b[1;31mSyntaxError\u001b[0m\u001b[1;31m:\u001b[0m arguments cannot follow var-keyword argument\n"
     ]
    }
   ],
   "source": [
    "def my_func(**kwargs, *args):   # *, ** 는 순서가 바뀌 안됨\n",
    "    for arg in args:\n",
    "        print(arg)\n",
    "    for key, value in kwargs.items():\n",
    "        print('key : ', key, ' value : ', value)\n",
    "\n",
    "my_func(name='john', age=30, gender='Male', 1,2,3,4,5)"
   ]
  },
  {
   "cell_type": "code",
   "execution_count": 46,
   "id": "50ef58d2-91f3-4d89-b5d0-cca99e86dfcd",
   "metadata": {},
   "outputs": [],
   "source": [
    "def my_func(*a, **b):   # *, ** 는 순서가 바뀌 안됨\n",
    "    for arg in a:\n",
    "        print(arg)\n",
    "    for key, value in b.items():\n",
    "        print('key : ', key, ' value : ', value)"
   ]
  },
  {
   "cell_type": "code",
   "execution_count": 47,
   "id": "05002dc7-da8d-414e-bb99-1d3a9794cdb9",
   "metadata": {},
   "outputs": [
    {
     "name": "stdout",
     "output_type": "stream",
     "text": [
      "1\n",
      "2\n",
      "3\n",
      "4\n",
      "5\n",
      "key :  name  value :  john\n",
      "key :  age  value :  30\n",
      "key :  gender  value :  Male\n"
     ]
    }
   ],
   "source": [
    "my_func(1,2,3,4,5, name='john', age=30, gender='Male')"
   ]
  },
  {
   "cell_type": "code",
   "execution_count": null,
   "id": "6bf47790-e38c-4329-af62-83bd8dd783c4",
   "metadata": {},
   "outputs": [],
   "source": []
  }
 ],
 "metadata": {
  "kernelspec": {
   "display_name": "Python 3 (ipykernel)",
   "language": "python",
   "name": "python3"
  },
  "language_info": {
   "codemirror_mode": {
    "name": "ipython",
    "version": 3
   },
   "file_extension": ".py",
   "mimetype": "text/x-python",
   "name": "python",
   "nbconvert_exporter": "python",
   "pygments_lexer": "ipython3",
   "version": "3.12.8"
  }
 },
 "nbformat": 4,
 "nbformat_minor": 5
}
