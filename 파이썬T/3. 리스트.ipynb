{
 "cells": [
  {
   "cell_type": "code",
   "execution_count": 16,
   "id": "3f5f627e-36b2-4b95-bee7-cae0c483614f",
   "metadata": {},
   "outputs": [
    {
     "data": {
      "text/plain": [
       "'C:\\\\Users\\\\ITBANK NR 306_1\\\\보안과 해킹'"
      ]
     },
     "execution_count": 16,
     "metadata": {},
     "output_type": "execute_result"
    }
   ],
   "source": [
    "# 프로그램의 위치 찾기\n",
    "\n",
    "import os\n",
    "os.getcwd()      #  get Current Work Directory"
   ]
  },
  {
   "cell_type": "code",
   "execution_count": 1,
   "id": "55936a0c-92ea-40cd-a3bd-4972a924f3cf",
   "metadata": {},
   "outputs": [
    {
     "data": {
      "text/plain": [
       "['삼성전자', 'SK하이닉스', '네이버']"
      ]
     },
     "execution_count": 1,
     "metadata": {},
     "output_type": "execute_result"
    }
   ],
   "source": [
    "company_list = ['삼성전자', 'SK하이닉스', '네이버']\n",
    "company_list"
   ]
  },
  {
   "cell_type": "code",
   "execution_count": 2,
   "id": "873c63a7-74eb-486d-b3e9-6f02ef01bb0f",
   "metadata": {},
   "outputs": [
    {
     "name": "stdout",
     "output_type": "stream",
     "text": [
      "['삼성전자', 'SK하이닉스', '네이버']\n"
     ]
    }
   ],
   "source": [
    "print(company_list)"
   ]
  },
  {
   "cell_type": "code",
   "execution_count": 3,
   "id": "0c147711-584e-41a2-a7ee-6e436231b36e",
   "metadata": {},
   "outputs": [
    {
     "data": {
      "text/plain": [
       "list"
      ]
     },
     "execution_count": 3,
     "metadata": {},
     "output_type": "execute_result"
    }
   ],
   "source": [
    "type(company_list)"
   ]
  },
  {
   "cell_type": "code",
   "execution_count": 11,
   "id": "7683e8cb-d77f-419b-b34b-77d4e56adacb",
   "metadata": {},
   "outputs": [
    {
     "name": "stdout",
     "output_type": "stream",
     "text": [
      "삼성전자\n",
      "SK하이닉스\n",
      "SK하이닉스\n"
     ]
    }
   ],
   "source": [
    "print(company_list[0])\n",
    "print(company_list[1])\n",
    "print(company_list[-2])"
   ]
  },
  {
   "cell_type": "code",
   "execution_count": 12,
   "id": "a4d5042f-61a8-4773-b10b-9c743ed9204e",
   "metadata": {},
   "outputs": [
    {
     "data": {
      "text/plain": [
       "['애플', '구글', '테슬라']"
      ]
     },
     "execution_count": 12,
     "metadata": {},
     "output_type": "execute_result"
    }
   ],
   "source": [
    "company_list[0] = '애플'\n",
    "company_list[1] = '구글'\n",
    "company_list[2] = '테슬라'\n",
    "company_list"
   ]
  },
  {
   "cell_type": "code",
   "execution_count": 13,
   "id": "b00e3bd2-80fd-48cc-8334-7ba50be04266",
   "metadata": {},
   "outputs": [
    {
     "data": {
      "text/plain": [
       "['애플', '구글', '테슬라', '마이크소프트']"
      ]
     },
     "execution_count": 13,
     "metadata": {},
     "output_type": "execute_result"
    }
   ],
   "source": [
    "company_list.append('마이크소프트')\n",
    "company_list"
   ]
  },
  {
   "cell_type": "code",
   "execution_count": 14,
   "id": "af858f1c-fab2-4ed8-bdbe-de13a8f9ad19",
   "metadata": {},
   "outputs": [
    {
     "data": {
      "text/plain": [
       "['구글', '테슬라', '마이크소프트']"
      ]
     },
     "execution_count": 14,
     "metadata": {},
     "output_type": "execute_result"
    }
   ],
   "source": [
    "del company_list[0]    # 리스트의 0번째 요소를 삭제\n",
    "company_list"
   ]
  },
  {
   "cell_type": "code",
   "execution_count": 15,
   "id": "e7441a05-d5e2-41d9-8684-911ae46b40e1",
   "metadata": {},
   "outputs": [
    {
     "data": {
      "text/plain": [
       "3"
      ]
     },
     "execution_count": 15,
     "metadata": {},
     "output_type": "execute_result"
    }
   ],
   "source": [
    "len(company_list)   # 리스트 요소의 갯수 "
   ]
  },
  {
   "cell_type": "code",
   "execution_count": 17,
   "id": "cfd4065f-12ff-4425-9d11-de0548bcabd5",
   "metadata": {},
   "outputs": [
    {
     "data": {
      "text/plain": [
       "[1, 2, 3, 4, 5, 6, 7, 8, 9]"
      ]
     },
     "execution_count": 17,
     "metadata": {},
     "output_type": "execute_result"
    }
   ],
   "source": [
    "num_list = [1, 2, 3, 4, 5, 6, 7, 8, 9]\n",
    "num_list"
   ]
  },
  {
   "cell_type": "code",
   "execution_count": 18,
   "id": "ef391fa0-ad47-4e60-b092-d35f6a955a74",
   "metadata": {},
   "outputs": [
    {
     "data": {
      "text/plain": [
       "1"
      ]
     },
     "execution_count": 18,
     "metadata": {},
     "output_type": "execute_result"
    }
   ],
   "source": [
    "num_list[0]"
   ]
  },
  {
   "cell_type": "code",
   "execution_count": 19,
   "id": "d7698435-37e1-490b-8887-f9b1346de2d2",
   "metadata": {},
   "outputs": [
    {
     "data": {
      "text/plain": [
       "[1, 2, 3, 4]"
      ]
     },
     "execution_count": 19,
     "metadata": {},
     "output_type": "execute_result"
    }
   ],
   "source": [
    "num_list[0:4]"
   ]
  },
  {
   "cell_type": "code",
   "execution_count": 20,
   "id": "e690a01d-a0d5-4e9e-9ff7-b99fe67a7b29",
   "metadata": {},
   "outputs": [
    {
     "data": {
      "text/plain": [
       "[1, 2, 3, 4]"
      ]
     },
     "execution_count": 20,
     "metadata": {},
     "output_type": "execute_result"
    }
   ],
   "source": [
    "num_list[:4]"
   ]
  },
  {
   "cell_type": "code",
   "execution_count": 21,
   "id": "85229276-6178-46d2-af50-a6138ba7fc6f",
   "metadata": {},
   "outputs": [
    {
     "data": {
      "text/plain": [
       "[3, 4, 5]"
      ]
     },
     "execution_count": 21,
     "metadata": {},
     "output_type": "execute_result"
    }
   ],
   "source": [
    "num_list[2:5]"
   ]
  },
  {
   "cell_type": "code",
   "execution_count": 22,
   "id": "cd8f8025-4d4c-4939-b931-10f7d013256b",
   "metadata": {},
   "outputs": [
    {
     "data": {
      "text/plain": [
       "[6, 7, 8, 9]"
      ]
     },
     "execution_count": 22,
     "metadata": {},
     "output_type": "execute_result"
    }
   ],
   "source": [
    "num_list[5:]   # 증가치 생략"
   ]
  },
  {
   "cell_type": "code",
   "execution_count": 25,
   "id": "550e3f48-ab2f-44ec-ae40-083a2f3f6e2e",
   "metadata": {},
   "outputs": [
    {
     "data": {
      "text/plain": [
       "[1, 4, 7]"
      ]
     },
     "execution_count": 25,
     "metadata": {},
     "output_type": "execute_result"
    }
   ],
   "source": [
    "num_list[::3]    # 초기:목표-1:증가치"
   ]
  },
  {
   "cell_type": "code",
   "execution_count": 27,
   "id": "8425b613-2fc6-4876-b16a-dd95ae94fe58",
   "metadata": {},
   "outputs": [
    {
     "name": "stdout",
     "output_type": "stream",
     "text": [
      "대검을(를) 확인했습니다\n",
      "창닫기\n",
      "포션을(를) 확인했습니다\n",
      "창닫기\n",
      "마법서을(를) 확인했습니다\n",
      "창닫기\n"
     ]
    }
   ],
   "source": [
    "inventory = ['대검', '포션', '마법서']\n",
    "\n",
    "for item in inventory:\n",
    "    print(item + '을(를) 확인했습니다')\n",
    "    print('창닫기')"
   ]
  },
  {
   "cell_type": "code",
   "execution_count": 39,
   "id": "61290fe6-3899-4780-bc4d-a10a72937232",
   "metadata": {},
   "outputs": [],
   "source": [
    "game_map = [    # 리스트 [   리스트 [   ], [   ], [  ]     ]\n",
    "    ['대검', '포션', None],\n",
    "    [None, '보물상자', '포션'],\n",
    "    ['몬스터', '열쇠']  \n",
    "]"
   ]
  },
  {
   "cell_type": "code",
   "execution_count": 43,
   "id": "5f2f7d7c-e182-4029-92f8-51b86f2dc72b",
   "metadata": {},
   "outputs": [
    {
     "name": "stdout",
     "output_type": "stream",
     "text": [
      "['대검', '포션', None]\n",
      "item  대검\n",
      "item  포션\n",
      "item  None\n",
      "[None, '보물상자', '포션']\n",
      "item  None\n",
      "item  보물상자\n",
      "item  포션\n",
      "['몬스터', '열쇠']\n",
      "item  몬스터\n",
      "item  열쇠\n"
     ]
    }
   ],
   "source": [
    "for game in game_map:\n",
    "    print(game)\n",
    "    for item in game:\n",
    "        print('item ', item)"
   ]
  },
  {
   "cell_type": "code",
   "execution_count": 41,
   "id": "4b93bf6f-dc7e-4320-8f2c-aaeb1cd4d9aa",
   "metadata": {},
   "outputs": [
    {
     "data": {
      "text/plain": [
       "str"
      ]
     },
     "execution_count": 41,
     "metadata": {},
     "output_type": "execute_result"
    }
   ],
   "source": [
    "type(game_map[0][0])"
   ]
  },
  {
   "cell_type": "code",
   "execution_count": 45,
   "id": "7120a2d3-9af3-40c7-b171-d9475ce13ad0",
   "metadata": {},
   "outputs": [
    {
     "ename": "IndexError",
     "evalue": "list index out of range",
     "output_type": "error",
     "traceback": [
      "\u001b[1;31m---------------------------------------------------------------------------\u001b[0m",
      "\u001b[1;31mIndexError\u001b[0m                                Traceback (most recent call last)",
      "Cell \u001b[1;32mIn[45], line 1\u001b[0m\n\u001b[1;32m----> 1\u001b[0m game_map[\u001b[38;5;241m2\u001b[39m][\u001b[38;5;241m2\u001b[39m]\n",
      "\u001b[1;31mIndexError\u001b[0m: list index out of range"
     ]
    }
   ],
   "source": [
    "game_map[2][2]    # 주의해서 사용할 것"
   ]
  },
  {
   "cell_type": "code",
   "execution_count": 46,
   "id": "046feb3a-6c64-456b-9da8-c6ab6ccd9673",
   "metadata": {},
   "outputs": [
    {
     "name": "stdout",
     "output_type": "stream",
     "text": [
      "최고 점수 :  200\n"
     ]
    }
   ],
   "source": [
    "# 최고 점수 찾기\n",
    "scores = [120, 150, 180, 200, 170]\n",
    "max_score = 0\n",
    "\n",
    "for score in scores:\n",
    "    if score > max_score:\n",
    "        max_score = score\n",
    "        \n",
    "print('최고 점수 : ', max_score)"
   ]
  },
  {
   "cell_type": "code",
   "execution_count": 54,
   "id": "a7a51b46-fbba-4b88-ae04-b2ff7296c921",
   "metadata": {},
   "outputs": [],
   "source": [
    "def user_max(scores, max_score=0):\n",
    "    for score in scores:\n",
    "        if score > max_score:\n",
    "            max_score = score\n",
    "    return max_score"
   ]
  },
  {
   "cell_type": "code",
   "execution_count": 55,
   "id": "246049e9-6aa8-4999-96fe-a2855e1993ec",
   "metadata": {},
   "outputs": [
    {
     "data": {
      "text/plain": [
       "200"
      ]
     },
     "execution_count": 55,
     "metadata": {},
     "output_type": "execute_result"
    }
   ],
   "source": [
    "scores = [120, 150, 180, 200, 170]\n",
    "user_max(scores)"
   ]
  },
  {
   "cell_type": "code",
   "execution_count": 47,
   "id": "39d33ac3-db97-4344-80b6-7a7cb968a006",
   "metadata": {},
   "outputs": [
    {
     "data": {
      "text/plain": [
       "200"
      ]
     },
     "execution_count": 47,
     "metadata": {},
     "output_type": "execute_result"
    }
   ],
   "source": [
    "max(scores)"
   ]
  },
  {
   "cell_type": "code",
   "execution_count": 48,
   "id": "ecaeb900-7bed-43f5-86f1-af16e14f5867",
   "metadata": {},
   "outputs": [
    {
     "data": {
      "text/plain": [
       "120"
      ]
     },
     "execution_count": 48,
     "metadata": {},
     "output_type": "execute_result"
    }
   ],
   "source": [
    "min(scores)"
   ]
  },
  {
   "cell_type": "code",
   "execution_count": 49,
   "id": "7795b897-2a3c-49ac-8ae4-eeb9e4ef3520",
   "metadata": {},
   "outputs": [
    {
     "data": {
      "text/plain": [
       "820"
      ]
     },
     "execution_count": 49,
     "metadata": {},
     "output_type": "execute_result"
    }
   ],
   "source": [
    "sum(scores)"
   ]
  },
  {
   "cell_type": "code",
   "execution_count": 50,
   "id": "0431b78c-48a2-4722-aa6a-8ee61b7ba13e",
   "metadata": {},
   "outputs": [
    {
     "name": "stdout",
     "output_type": "stream",
     "text": [
      "17\n"
     ]
    }
   ],
   "source": [
    "# 실습 문제 : 합계 구기기\n",
    "\n",
    "rooms = [\n",
    "    [3, 1, 2],\n",
    "    [2, 0, 1],\n",
    "    [1, 3, 4]\n",
    "]\n",
    "\n",
    "total = 0\n",
    "\n",
    "for room in rooms:\n",
    "    total = total + sum(room)\n",
    "\n",
    "print(total)"
   ]
  },
  {
   "cell_type": "code",
   "execution_count": 51,
   "id": "4c16cc18-2e96-4eb4-8758-fef79f752702",
   "metadata": {},
   "outputs": [
    {
     "name": "stdout",
     "output_type": "stream",
     "text": [
      "17\n"
     ]
    }
   ],
   "source": [
    "total = 0\n",
    "\n",
    "for room in rooms:\n",
    "    for num in room:\n",
    "        total = total + num\n",
    "\n",
    "print(total)"
   ]
  },
  {
   "cell_type": "code",
   "execution_count": null,
   "id": "acb46400-5ee9-45f2-bf6e-3eaa82b0913e",
   "metadata": {},
   "outputs": [],
   "source": []
  }
 ],
 "metadata": {
  "kernelspec": {
   "display_name": "Python 3 (ipykernel)",
   "language": "python",
   "name": "python3"
  },
  "language_info": {
   "codemirror_mode": {
    "name": "ipython",
    "version": 3
   },
   "file_extension": ".py",
   "mimetype": "text/x-python",
   "name": "python",
   "nbconvert_exporter": "python",
   "pygments_lexer": "ipython3",
   "version": "3.12.8"
  }
 },
 "nbformat": 4,
 "nbformat_minor": 5
}
