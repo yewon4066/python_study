{
 "cells": [
  {
   "cell_type": "markdown",
   "id": "e9581bdf-083a-4b55-8c52-0a0a6cc8c374",
   "metadata": {},
   "source": [
    "# 클래스는 1개 이상 함수, 변수로 정의, 상속 가능"
   ]
  },
  {
   "cell_type": "code",
   "execution_count": 23,
   "id": "d9e7e66a-f284-46f1-8ef3-6dc17e803314",
   "metadata": {},
   "outputs": [],
   "source": [
    "class cexam:          # 클래스\n",
    "    def fsam(self):   # 멤버함수\n",
    "        self.text = '멥버 함수(메소드)'  #멤버 변수\n",
    "        print(self.text)"
   ]
  },
  {
   "cell_type": "code",
   "execution_count": 21,
   "id": "f2eaee9a-c4cf-4e62-a304-f5db79007fcb",
   "metadata": {},
   "outputs": [],
   "source": [
    "ca = cexam()  # 객체 생성"
   ]
  },
  {
   "cell_type": "code",
   "execution_count": 22,
   "id": "d00ec46a-bd49-4999-a71f-9b48f43d2287",
   "metadata": {},
   "outputs": [
    {
     "name": "stdout",
     "output_type": "stream",
     "text": [
      "<__main__.cexam object at 0x0000017F15869CA0>\n"
     ]
    }
   ],
   "source": [
    "print (ca)"
   ]
  },
  {
   "cell_type": "code",
   "execution_count": 13,
   "id": "633ecc9e-cced-4720-bea9-f122ff4ee793",
   "metadata": {},
   "outputs": [
    {
     "name": "stdout",
     "output_type": "stream",
     "text": [
      "멤버 함수(메소드)\n"
     ]
    }
   ],
   "source": [
    "ca.fsam()    #  생성된 객체. 멤버함수명()    - 함수를 실행"
   ]
  },
  {
   "cell_type": "code",
   "execution_count": 11,
   "id": "d8604f8a-371a-4f76-ba4e-cdad91043b05",
   "metadata": {},
   "outputs": [],
   "source": [
    "class cexam():\n",
    "    def fsama(self):\n",
    "        self.text = '멤버 함수(메소드)'\n",
    "        print(self.text)\n",
    "        \n",
    "    def fsamb(self, pa):\n",
    "        self.x = pa\n",
    "        print('멤버 변수 x는 ', self.x)\n",
    "    "
   ]
  },
  {
   "cell_type": "code",
   "execution_count": 34,
   "id": "a7f4dc7c-6b62-48ad-976c-babecc537cbe",
   "metadata": {},
   "outputs": [],
   "source": [
    "ca = cexam()  # 객체 생성"
   ]
  },
  {
   "cell_type": "code",
   "execution_count": 35,
   "id": "d80d2ece-8023-4555-b60a-0692b225229e",
   "metadata": {},
   "outputs": [
    {
     "name": "stdout",
     "output_type": "stream",
     "text": [
      "멤버 함수(메소드)\n"
     ]
    }
   ],
   "source": [
    "ca.fsama()"
   ]
  },
  {
   "cell_type": "code",
   "execution_count": 36,
   "id": "0f1c8f59-f67d-4891-8786-9b310b7f8039",
   "metadata": {},
   "outputs": [
    {
     "name": "stdout",
     "output_type": "stream",
     "text": [
      "멤버 변수 x는  10\n"
     ]
    }
   ],
   "source": [
    "ca.fsamb(10)  #매개변수를 주지 않아서 오류 괄호안에 숫자 넣기"
   ]
  },
  {
   "cell_type": "markdown",
   "id": "f8fe9d7b-4ecc-45dd-ac5c-fcbafcbfab90",
   "metadata": {},
   "source": [
    "## 초기메소드init\n"
   ]
  },
  {
   "cell_type": "code",
   "execution_count": 2,
   "id": "db9833e2-9e4a-47a8-960a-820ada03d1ff",
   "metadata": {},
   "outputs": [],
   "source": [
    "class cexam():\n",
    "    def __init__ (self, pa):   # 위와 차이, pa -> 파라미터\n",
    "        self.x=pa\n",
    "        print('멤버 변수 x는 ', self.x)\n",
    "    def fsam(self):\n",
    "        self.txt = '멤버 함수(메소드)'\n",
    "        print(self.txt)"
   ]
  },
  {
   "cell_type": "code",
   "execution_count": 3,
   "id": "dd01fda8-3ba6-41a7-b924-3fdccb9a4026",
   "metadata": {},
   "outputs": [
    {
     "name": "stdout",
     "output_type": "stream",
     "text": [
      "멤버 변수 x는  10\n"
     ]
    }
   ],
   "source": [
    "ca = cexam(10)  #객체 생성과 동시에 10값을 _init_(pa) 에 전달\\"
   ]
  },
  {
   "cell_type": "code",
   "execution_count": 4,
   "id": "22dc145f-d2d6-46f3-b1d4-60e0bc2ccc23",
   "metadata": {},
   "outputs": [
    {
     "name": "stdout",
     "output_type": "stream",
     "text": [
      "멤버 함수(메소드)\n"
     ]
    }
   ],
   "source": [
    "ca.fsam()"
   ]
  },
  {
   "cell_type": "code",
   "execution_count": 5,
   "id": "363b4905-d3e9-4928-91ef-5405ae737732",
   "metadata": {},
   "outputs": [
    {
     "data": {
      "text/plain": [
       "10"
      ]
     },
     "execution_count": 5,
     "metadata": {},
     "output_type": "execute_result"
    }
   ],
   "source": [
    "ca.x"
   ]
  },
  {
   "cell_type": "code",
   "execution_count": 6,
   "id": "a083a2f4-6fa0-4938-b935-783ca926b93f",
   "metadata": {},
   "outputs": [
    {
     "name": "stdout",
     "output_type": "stream",
     "text": [
      "멤버 변수 x는  30\n"
     ]
    }
   ],
   "source": [
    "cb=cexam(30)"
   ]
  },
  {
   "cell_type": "code",
   "execution_count": null,
   "id": "683bcba0-837d-494f-985e-887baf9f2119",
   "metadata": {},
   "outputs": [],
   "source": []
  },
  {
   "cell_type": "markdown",
   "id": "e5cda05d-5e3c-403e-bf8a-b227a456f6b7",
   "metadata": {},
   "source": [
    "## self의 의미"
   ]
  },
  {
   "cell_type": "code",
   "execution_count": null,
   "id": "761202ef-7d6a-4e0c-82d0-622b31c691f5",
   "metadata": {},
   "outputs": [],
   "source": [
    "class cexam:\n",
    "    def fsam(self):   # 클래스\n",
    "        self.text = '멥버 함수(메소드)'\n",
    "        print(self.text)\n",
    "    def fsam(self, pa):\n",
    "        self.text = pa\n",
    "        print('멥버 변수 x는 ', self.x)"
   ]
  },
  {
   "cell_type": "code",
   "execution_count": 22,
   "id": "ea052525-3e58-45a5-998f-60832e71c53d",
   "metadata": {},
   "outputs": [],
   "source": [
    "class cexam:\n",
    "    def __init__(self,pa,pb):   # 클래스\n",
    "        self.x = pa\n",
    "        y = pb\n",
    "        print('멤버 변수 x는 ',self.x)\n",
    "        print('변수 Y는 ', y)\n",
    "        \n",
    "    def fsam(self):\n",
    "        self.text = '멤버 함수 (메소드)'\n",
    "        print(self.text)\n",
    "        \n",
    "    def fsamb():  #self라는 멤버 변수 없는 것  <<tlfgod dksehlsek\n",
    "        print('멤버 함수 아니다.')"
   ]
  },
  {
   "cell_type": "code",
   "execution_count": 23,
   "id": "a61ca2fd-c2ad-4284-8be7-041d2bc49dde",
   "metadata": {},
   "outputs": [
    {
     "name": "stdout",
     "output_type": "stream",
     "text": [
      "멤버 변수 x는  10\n",
      "변수 Y는  20\n"
     ]
    }
   ],
   "source": [
    "ca = cexam(10,20)"
   ]
  },
  {
   "cell_type": "code",
   "execution_count": 24,
   "id": "a774230b-b80e-4048-b764-5c69cb32ff41",
   "metadata": {},
   "outputs": [
    {
     "ename": "TypeError",
     "evalue": "cexam.fsamb() takes 0 positional arguments but 1 was given",
     "output_type": "error",
     "traceback": [
      "\u001b[1;31m---------------------------------------------------------------------------\u001b[0m",
      "\u001b[1;31mTypeError\u001b[0m                                 Traceback (most recent call last)",
      "Cell \u001b[1;32mIn[24], line 1\u001b[0m\n\u001b[1;32m----> 1\u001b[0m ca\u001b[38;5;241m.\u001b[39mfsamb()\n",
      "\u001b[1;31mTypeError\u001b[0m: cexam.fsamb() takes 0 positional arguments but 1 was given"
     ]
    }
   ],
   "source": [
    "ca.fsamb()"
   ]
  },
  {
   "cell_type": "markdown",
   "id": "e2a2cc75-8042-4a0c-b3a7-b702d22aed4a",
   "metadata": {},
   "source": [
    "## 파이썬에서 변수와 기억장소(메모리) 할당"
   ]
  },
  {
   "cell_type": "code",
   "execution_count": 82,
   "id": "939b6714-ef75-4c5f-8d73-18f3092bf669",
   "metadata": {},
   "outputs": [],
   "source": [
    "class Calcurator: #클래스에 대해서는 첫번째는 대문자로 쓰자\n",
    "    def setinit(self):\n",
    "        self.result = 0\n",
    "    def adder (self, num):\n",
    "        self.result = self.result + num\n",
    "        return self.result"
   ]
  },
  {
   "cell_type": "code",
   "execution_count": 83,
   "id": "063b766a-a185-4332-a34b-5185f359afc9",
   "metadata": {},
   "outputs": [],
   "source": [
    "cal1 = Calcurator()"
   ]
  },
  {
   "cell_type": "code",
   "execution_count": 84,
   "id": "d12db2b8-3ecb-4ada-9d6a-670092e72c4e",
   "metadata": {},
   "outputs": [],
   "source": [
    "cal1.setinit()"
   ]
  },
  {
   "cell_type": "code",
   "execution_count": 85,
   "id": "16243cd3-ac6c-43ec-a1fe-e25cfa1f77e8",
   "metadata": {},
   "outputs": [
    {
     "name": "stdout",
     "output_type": "stream",
     "text": [
      "0\n"
     ]
    }
   ],
   "source": [
    "print(cal1.result)"
   ]
  },
  {
   "cell_type": "code",
   "execution_count": 86,
   "id": "7b17746e-c648-4e3b-89c4-f8cc54243a0b",
   "metadata": {},
   "outputs": [],
   "source": [
    "cal2 = Calcurator()  # 프로그램은 같이 썼는데 객체는 다르다\n",
    "cal2.setinit()"
   ]
  },
  {
   "cell_type": "code",
   "execution_count": 87,
   "id": "39bc171a-7bcc-41c6-9036-a0b476f6796c",
   "metadata": {},
   "outputs": [
    {
     "name": "stdout",
     "output_type": "stream",
     "text": [
      "0\n",
      "0\n"
     ]
    }
   ],
   "source": [
    "print(cal1.result)\n",
    "print(cal2.result)"
   ]
  },
  {
   "cell_type": "code",
   "execution_count": 88,
   "id": "e3ca2612-f9a9-498c-b7da-6959d8c050fc",
   "metadata": {},
   "outputs": [
    {
     "name": "stdout",
     "output_type": "stream",
     "text": [
      "3\n",
      "7\n"
     ]
    }
   ],
   "source": [
    "print(cal1.adder(3))\n",
    "print(cal2.adder(7))\n",
    "cal1.setinit()\n",
    "cal2.setinit()"
   ]
  },
  {
   "cell_type": "code",
   "execution_count": 89,
   "id": "2c0334ef-ab04-4602-9a73-5acd6ab13383",
   "metadata": {},
   "outputs": [
    {
     "name": "stdout",
     "output_type": "stream",
     "text": [
      "10\n",
      "20\n"
     ]
    }
   ],
   "source": [
    "cal3 = Calcurator()\n",
    "cal3.setinit()\n",
    "print(cal3.adder(10))\n",
    "print(cal3.adder(10))"
   ]
  },
  {
   "cell_type": "code",
   "execution_count": 90,
   "id": "03360a17-27af-4785-9230-15349959e55d",
   "metadata": {},
   "outputs": [
    {
     "ename": "AttributeError",
     "evalue": "'Calcurator' object has no attribute 'result'",
     "output_type": "error",
     "traceback": [
      "\u001b[1;31m---------------------------------------------------------------------------\u001b[0m",
      "\u001b[1;31mAttributeError\u001b[0m                            Traceback (most recent call last)",
      "Cell \u001b[1;32mIn[90], line 3\u001b[0m\n\u001b[0;32m      1\u001b[0m cal4\u001b[38;5;241m=\u001b[39mCalcurator()\n\u001b[0;32m      2\u001b[0m cal4\u001b[38;5;241m.\u001b[39msetinit\n\u001b[1;32m----> 3\u001b[0m cal4\u001b[38;5;241m.\u001b[39madder(\u001b[38;5;241m10\u001b[39m)\n",
      "Cell \u001b[1;32mIn[82], line 5\u001b[0m, in \u001b[0;36mCalcurator.adder\u001b[1;34m(self, num)\u001b[0m\n\u001b[0;32m      4\u001b[0m \u001b[38;5;28;01mdef\u001b[39;00m \u001b[38;5;21madder\u001b[39m (\u001b[38;5;28mself\u001b[39m, num):\n\u001b[1;32m----> 5\u001b[0m     \u001b[38;5;28mself\u001b[39m\u001b[38;5;241m.\u001b[39mresult \u001b[38;5;241m=\u001b[39m \u001b[38;5;28mself\u001b[39m\u001b[38;5;241m.\u001b[39mresult \u001b[38;5;241m+\u001b[39m num\n\u001b[0;32m      6\u001b[0m     \u001b[38;5;28;01mreturn\u001b[39;00m \u001b[38;5;28mself\u001b[39m\u001b[38;5;241m.\u001b[39mresult\n",
      "\u001b[1;31mAttributeError\u001b[0m: 'Calcurator' object has no attribute 'result'"
     ]
    }
   ],
   "source": [
    "cal4=Calcurator()\n",
    "cal4.setinit\n",
    "cal4.adder(10)"
   ]
  },
  {
   "cell_type": "markdown",
   "id": "f2c58d85-7449-4668-a27b-1c18efe0127a",
   "metadata": {},
   "source": [
    "## __init__ 메소드는 객체의 변수 값을 초기화"
   ]
  },
  {
   "cell_type": "code",
   "execution_count": 91,
   "id": "c770b33e-8ea2-421f-8516-3a34708ec45b",
   "metadata": {},
   "outputs": [],
   "source": [
    "class Calcurator:\n",
    "    def __init__(self):\n",
    "        self.result = 0\n",
    "    def adder (self, num):\n",
    "        self.result = self.result + num\n",
    "        return self.result"
   ]
  },
  {
   "cell_type": "code",
   "execution_count": 92,
   "id": "1ff0c45a-2bea-45ac-9736-7c56e6dcf798",
   "metadata": {},
   "outputs": [
    {
     "data": {
      "text/plain": [
       "10"
      ]
     },
     "execution_count": 92,
     "metadata": {},
     "output_type": "execute_result"
    }
   ],
   "source": [
    "cal5 = Calcurator()\n",
    "cal5.adder(10)"
   ]
  },
  {
   "cell_type": "markdown",
   "id": "d052fc03-8dbf-45a2-963f-032437936cc7",
   "metadata": {},
   "source": [
    "## 멤버 파라미터 값으로 변수 초기화"
   ]
  },
  {
   "cell_type": "code",
   "execution_count": 72,
   "id": "6ce4795e-e38a-4dc8-b86c-2b93dcd1f312",
   "metadata": {},
   "outputs": [],
   "source": [
    "class Car:\n",
    "    def __init__(self,pnum,pspeed):\n",
    "        self.num = pnum\n",
    "        self.speed = pspeed\n",
    "        "
   ]
  },
  {
   "cell_type": "code",
   "execution_count": 73,
   "id": "8af0d950-667e-4b3c-b97b-f6fdf5005d5c",
   "metadata": {},
   "outputs": [],
   "source": [
    "new_car = Car(2025, 90)"
   ]
  },
  {
   "cell_type": "code",
   "execution_count": 74,
   "id": "d6e6878c-3fd2-4b40-bfde-3347fe6052c4",
   "metadata": {},
   "outputs": [
    {
     "name": "stdout",
     "output_type": "stream",
     "text": [
      " 차량 번호 : 2025\n",
      " 속 도 는 : 90\n"
     ]
    }
   ],
   "source": [
    "print(' 차량 번호 :',new_car.num)\n",
    "print(' 속 도 는 :', new_car.speed)"
   ]
  },
  {
   "cell_type": "code",
   "execution_count": 77,
   "id": "46f9fdb3-371d-4f04-8133-5a39bf52fb56",
   "metadata": {},
   "outputs": [],
   "source": [
    "class Car:\n",
    "    def __init__(self,pnum,pspeed):\n",
    "        self.num = pnum\n",
    "        self.speed = pspeed\n",
    "    def fprint(self):\n",
    "        print(' 차량 번호 :',self.num)\n",
    "        print(' 속 도 는 :', self.speed)"
   ]
  },
  {
   "cell_type": "code",
   "execution_count": 79,
   "id": "08b1941a-85e2-4d24-8c86-4754030a36ad",
   "metadata": {},
   "outputs": [
    {
     "name": "stdout",
     "output_type": "stream",
     "text": [
      " 차량 번호 : 2025\n",
      " 속 도 는 : 90\n"
     ]
    }
   ],
   "source": [
    "new_car = Car(2025,90)\n",
    "new_car.fprint()"
   ]
  },
  {
   "cell_type": "code",
   "execution_count": 96,
   "id": "fa93c6ad-2698-4e45-8069-d47516ec269a",
   "metadata": {},
   "outputs": [
    {
     "name": "stdout",
     "output_type": "stream",
     "text": [
      "객체 obj 내의 인스턴스 변수 x의 값은  10\n",
      "객체 obj 내의 인스턴스 변수 y의 값은  20\n",
      "객체 obj 내의 인스턴스 변수 x의 값은  30\n"
     ]
    }
   ],
   "source": [
    "class Cadd:\n",
    "    def fadd(self,a,b):\n",
    "        self.x = a\n",
    "        self.y = b\n",
    "        self.hap=self.x+self.y\n",
    "\n",
    "obj = Cadd()\n",
    "obj.fadd(10,20)\n",
    "\n",
    "print ('객체 obj 내의 인스턴스 변수 x의 값은 ', obj.x)\n",
    "print ('객체 obj 내의 인스턴스 변수 y의 값은 ', obj.y)\n",
    "print ('객체 obj 내의 인스턴스 변수 x의 값은 ', obj.hap)"
   ]
  },
  {
   "cell_type": "code",
   "execution_count": 101,
   "id": "ad863b3c-d91b-45d4-add6-9e1836fdf0bb",
   "metadata": {},
   "outputs": [
    {
     "name": "stdout",
     "output_type": "stream",
     "text": [
      "ohap의 값은 ? 50\n"
     ]
    }
   ],
   "source": [
    "class Cadd:\n",
    "    def fadd(self,a,b):\n",
    "        x = a\n",
    "        y = b\n",
    "        hap= x + y\n",
    "        return hap\n",
    "\n",
    "obj = Cadd()\n",
    "ohap = obj.fadd(10,40)\n",
    "\n",
    "print('ohap의 값은 ?',ohap)"
   ]
  },
  {
   "cell_type": "code",
   "execution_count": 103,
   "id": "b1d76244-b123-4b03-8f10-0a053c592596",
   "metadata": {},
   "outputs": [
    {
     "name": "stdout",
     "output_type": "stream",
     "text": [
      "ohap의 값은 ? 30\n"
     ]
    }
   ],
   "source": [
    "class Cadd:\n",
    "    def fadd(self,a,b):\n",
    "        self.x = a\n",
    "        self.y = b\n",
    "        self.hap=self.x + self.y\n",
    "        return self.hap\n",
    "\n",
    "obj = Cadd()\n",
    "ohap = obj.fadd(10,20)\n",
    "\n",
    "print('ohap의 값은 ?',ohap)"
   ]
  },
  {
   "cell_type": "code",
   "execution_count": 104,
   "id": "95eaaae9-4c8a-4bb4-9d3f-4ae90adc686e",
   "metadata": {},
   "outputs": [],
   "source": [
    "# 객체 멤버함수의 파라미터에 초기값 설정"
   ]
  },
  {
   "cell_type": "code",
   "execution_count": 106,
   "id": "6c9fa6ed-fd18-4167-bb8b-9460b9c72695",
   "metadata": {},
   "outputs": [
    {
     "name": "stdout",
     "output_type": "stream",
     "text": [
      "ohap의 값은 ? 30\n"
     ]
    }
   ],
   "source": [
    "class Cadd:\n",
    "    def fadd(self,a=1,b=2):\n",
    "        self.x = a\n",
    "        self.y = b\n",
    "        self.hap=self.x+self.y\n",
    "        return self. hap\n",
    "\n",
    "obj = Cadd()\n",
    "obj.fadd()\n",
    "\n",
    "print('ohap의 값은 ?',ohap)"
   ]
  },
  {
   "cell_type": "code",
   "execution_count": 107,
   "id": "e0460cda-00f6-40f7-a319-07ea9e6b043d",
   "metadata": {},
   "outputs": [
    {
     "name": "stdout",
     "output_type": "stream",
     "text": [
      "ohap의 값은 ? 30\n"
     ]
    }
   ],
   "source": [
    "ohap = obj.fadd(10,20)\n",
    "print('ohap의 값은 ?' , ohap)"
   ]
  },
  {
   "cell_type": "code",
   "execution_count": 108,
   "id": "301b5e7d-2de9-4e97-a820-f26c18f8b237",
   "metadata": {},
   "outputs": [
    {
     "name": "stdout",
     "output_type": "stream",
     "text": [
      "ohap의 값은 ? 12\n"
     ]
    }
   ],
   "source": [
    "ohap = obj.fadd(10)\n",
    "print('ohap의 값은 ?' , ohap)"
   ]
  },
  {
   "cell_type": "code",
   "execution_count": 109,
   "id": "87885ede-0f0c-4056-8682-f156e3c71d5e",
   "metadata": {},
   "outputs": [
    {
     "ename": "SyntaxError",
     "evalue": "invalid syntax (2671879143.py, line 1)",
     "output_type": "error",
     "traceback": [
      "\u001b[1;36m  Cell \u001b[1;32mIn[109], line 1\u001b[1;36m\u001b[0m\n\u001b[1;33m    ohap = obj.fadd( ,10)\u001b[0m\n\u001b[1;37m                     ^\u001b[0m\n\u001b[1;31mSyntaxError\u001b[0m\u001b[1;31m:\u001b[0m invalid syntax\n"
     ]
    }
   ],
   "source": [
    "ohap = obj.fadd( ,10)\n",
    "print('ohap의 값은 ?' , ohap)"
   ]
  },
  {
   "cell_type": "code",
   "execution_count": 133,
   "id": "59c73ebb-695f-43a2-a6da-e14f393bab62",
   "metadata": {
    "scrolled": true
   },
   "outputs": [
    {
     "name": "stdout",
     "output_type": "stream",
     "text": [
      "ohap의 값은 ?  30\n"
     ]
    }
   ],
   "source": [
    "class Cadd:\n",
    "    def __init__(self,a=1,b=2):\n",
    "        self.x = a\n",
    "        self.y = b\n",
    "        self.hap=self.x+self.y\n",
    "        # return self.hap  # __init__ 에서는 Return 을 사용할 수 없다\n",
    "ohap = Cadd(10,20)\n",
    "print('ohap의 값은 ? ',ohap.hap)"
   ]
  },
  {
   "cell_type": "code",
   "execution_count": 138,
   "id": "7753b970-c197-475d-aba0-81c872ca5f98",
   "metadata": {},
   "outputs": [],
   "source": [
    "class Ccalc:\n",
    "\n",
    "    def fadd(self,a,b):\n",
    "        self.a = a\n",
    "        self.b = b\n",
    "        return self.a+self.b\n",
    "    def fsub(self,a,b):\n",
    "        self.a = a\n",
    "        self.b = b\n",
    "\n",
    "        return self.a-self.b\n",
    "    def fmul(self,a,b):\n",
    "        self.a = a\n",
    "        self.b = b\n",
    " \n",
    "        return self.a*self.b\n",
    "    def fdiv(self,a,b):\n",
    "        self.a = a\n",
    "        self.b = b\n",
    "\n",
    "        return self.a/self.b"
   ]
  },
  {
   "cell_type": "code",
   "execution_count": 139,
   "id": "604dc36d-f500-457d-8dce-a6776bd81404",
   "metadata": {},
   "outputs": [
    {
     "name": "stdout",
     "output_type": "stream",
     "text": [
      "30\n",
      "-10\n",
      "200\n",
      "0.5\n"
     ]
    }
   ],
   "source": [
    "cal1 = Ccalc()\n",
    "print(cal1.fadd(10,20))\n",
    "print(cal1.fsub(10,20))\n",
    "print(cal1.fmul(10,20))\n",
    "print(cal1.fdiv(10,20))"
   ]
  },
  {
   "cell_type": "code",
   "execution_count": 140,
   "id": "4d47201f-b8d0-4083-9d93-9f4508945c7e",
   "metadata": {},
   "outputs": [],
   "source": [
    "class Ccalc:\n",
    "\n",
    "    def fadd(self,a,b):\n",
    "        self.x = a\n",
    "        self.y = b\n",
    "        self.hap=self.x+self.y\n",
    "        return self. hap"
   ]
  },
  {
   "cell_type": "code",
   "execution_count": 127,
   "id": "352dbf7c-5eca-455f-b0ae-b9be8e05ec94",
   "metadata": {},
   "outputs": [
    {
     "name": "stdout",
     "output_type": "stream",
     "text": [
      "30\n"
     ]
    }
   ],
   "source": [
    "cal1 = Ccalc()\n",
    "print(cal1.fadd(10,20))"
   ]
  },
  {
   "cell_type": "code",
   "execution_count": 143,
   "id": "02084d2f-3975-4646-88ad-1c811c922844",
   "metadata": {},
   "outputs": [],
   "source": [
    "from fcal import Fcalc, Fcala  # fcal.py 존재하는 클래스 Fcalc, Fcala를 불러온다."
   ]
  },
  {
   "cell_type": "code",
   "execution_count": 144,
   "id": "89e7f0a5-de53-4197-8bd3-6b1a0390987b",
   "metadata": {},
   "outputs": [],
   "source": [
    "cal1 = Fcalc()"
   ]
  },
  {
   "cell_type": "code",
   "execution_count": 146,
   "id": "bb97d5b6-5450-4cb6-bb2a-1b818d926aa9",
   "metadata": {},
   "outputs": [
    {
     "name": "stdout",
     "output_type": "stream",
     "text": [
      "30\n",
      "-10\n",
      "200\n",
      "0.5\n"
     ]
    }
   ],
   "source": [
    "print(cal1.fadd(10,20))\n",
    "print(cal1.fsub(10,20))\n",
    "print(cal1.fmul(10,20))\n",
    "print(cal1.fdiv(10,20))"
   ]
  },
  {
   "cell_type": "code",
   "execution_count": 148,
   "id": "3f1a9eb5-00ce-4a7a-bba5-0e50de544a56",
   "metadata": {},
   "outputs": [],
   "source": [
    "cal2 = Fcala()  # 생성\n"
   ]
  },
  {
   "cell_type": "code",
   "execution_count": 150,
   "id": "4aa02465-36a8-43eb-beb0-7cd8ccdb8817",
   "metadata": {},
   "outputs": [
    {
     "data": {
      "text/plain": [
       "100"
      ]
     },
     "execution_count": 150,
     "metadata": {},
     "output_type": "execute_result"
    }
   ],
   "source": [
    "cal2.fsqrt(10,2)"
   ]
  },
  {
   "cell_type": "code",
   "execution_count": null,
   "id": "28461445-0842-40d7-9ae3-5f122c9289be",
   "metadata": {},
   "outputs": [],
   "source": []
  }
 ],
 "metadata": {
  "kernelspec": {
   "display_name": "Python 3 (ipykernel)",
   "language": "python",
   "name": "python3"
  },
  "language_info": {
   "codemirror_mode": {
    "name": "ipython",
    "version": 3
   },
   "file_extension": ".py",
   "mimetype": "text/x-python",
   "name": "python",
   "nbconvert_exporter": "python",
   "pygments_lexer": "ipython3",
   "version": "3.12.8"
  }
 },
 "nbformat": 4,
 "nbformat_minor": 5
}
