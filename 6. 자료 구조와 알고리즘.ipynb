{
 "cells": [
  {
   "cell_type": "code",
   "execution_count": 2,
   "id": "fdcdf10c-e361-47c6-9f20-46df47e93b4a",
   "metadata": {},
   "outputs": [
    {
     "name": "stdout",
     "output_type": "stream",
     "text": [
      "17\n"
     ]
    }
   ],
   "source": [
    "ca = [10, 17, 13, 11]  # max로 지정하는 경우 max 사용시 뒤에서 오류 발생\n",
    "\n",
    "max = ca [0]\n",
    "if max < ca [1]:\n",
    "    max=ca[1]\n",
    "if max < ca [2]:\n",
    "    max=ca[2]\n",
    "if max < ca [3]:\n",
    "    max=ca[3]\n",
    "\n",
    "print(max)"
   ]
  },
  {
   "cell_type": "markdown",
   "id": "a6afea5f-690c-4610-a31b-7ca84b39adb6",
   "metadata": {},
   "source": [
    "# for 문을 사용해서 최대값 찾기"
   ]
  },
  {
   "cell_type": "code",
   "execution_count": 3,
   "id": "b09ffda4-6dee-47bc-8e89-e9360ed97533",
   "metadata": {},
   "outputs": [
    {
     "name": "stdout",
     "output_type": "stream",
     "text": [
      "17\n"
     ]
    }
   ],
   "source": [
    "ca = [10, 17, 13, 11]\n",
    "\n",
    "max = ca [0]\n",
    "for sb in range(1,4):\n",
    "    if max < ca [sb]:\n",
    "        max=ca[sb]\n",
    "\n",
    "print (max)"
   ]
  },
  {
   "cell_type": "markdown",
   "id": "71805be1-31c7-4930-9a09-ab9025175de3",
   "metadata": {},
   "source": [
    "# 원소의 개수를 모를 경우"
   ]
  },
  {
   "cell_type": "code",
   "execution_count": 6,
   "id": "b34197f8-14b3-4401-863e-0ac4b52799d5",
   "metadata": {},
   "outputs": [
    {
     "name": "stdout",
     "output_type": "stream",
     "text": [
      "17\n"
     ]
    }
   ],
   "source": [
    "ca = [10, 17, 13, 11]\n",
    "\n",
    "max = ca [0]\n",
    "for sb in ca:\n",
    "    if max < sb:\n",
    "        max=sb\n",
    "print (max)"
   ]
  },
  {
   "cell_type": "code",
   "execution_count": 7,
   "id": "8772c39f-c0a7-408b-9608-4d2242e458c1",
   "metadata": {},
   "outputs": [
    {
     "name": "stdout",
     "output_type": "stream",
     "text": [
      "17\n"
     ]
    }
   ],
   "source": [
    "ca = [10, 17, 13, 11]\n",
    "\n",
    "max = ca [0]\n",
    "for sb in range(1,len(ca)):\n",
    "    if max < ca [sb]:\n",
    "        max=ca[sb]\n",
    "\n",
    "print (max)"
   ]
  },
  {
   "cell_type": "code",
   "execution_count": 16,
   "id": "f26f3c5b-a0a7-45a7-babf-48f99c9f2c08",
   "metadata": {},
   "outputs": [
    {
     "data": {
      "text/plain": [
       "17"
      ]
     },
     "execution_count": 16,
     "metadata": {},
     "output_type": "execute_result"
    }
   ],
   "source": [
    "ca = [10, 17, 13, 11]\n",
    "max(ca)"
   ]
  },
  {
   "cell_type": "markdown",
   "id": "64a7b19e-6976-4c08-86d8-3418daf24495",
   "metadata": {},
   "source": [
    "# 원소의 정렬(sort)"
   ]
  },
  {
   "cell_type": "code",
   "execution_count": 27,
   "id": "4d9b6721-bf37-4f56-aa39-6bc64adfe3c9",
   "metadata": {},
   "outputs": [
    {
     "name": "stdout",
     "output_type": "stream",
     "text": [
      "[10, 21, 11, 15, 13]\n"
     ]
    }
   ],
   "source": [
    "ca = [21,10,11,15,13]\n",
    "\n",
    "mina = ca[0]\n",
    "minix = 0\n",
    "\n",
    "for sb in range (1, len(ca)):  # 1이니까 10부터\n",
    "    if mina > ca[sb]:\n",
    "        mina = ca[sb]\n",
    "        minix = sb\n",
    "    \n",
    "temp = ca [0]\n",
    "ca[0] = ca [minix]\n",
    "ca [minix] = temp\n",
    "\n",
    "print(ca)"
   ]
  },
  {
   "cell_type": "code",
   "execution_count": 32,
   "id": "5c690b50-ab9e-4267-8245-5218e8477ad3",
   "metadata": {},
   "outputs": [
    {
     "name": "stdout",
     "output_type": "stream",
     "text": [
      "[10, 21, 11, 15, 13]\n",
      "[10, 11, 21, 15, 13]\n",
      "[10, 11, 13, 15, 21]\n",
      "[10, 11, 13, 15, 21]\n"
     ]
    }
   ],
   "source": [
    "ca = [21,10,11,15,13]\n",
    "for sa in range(0, len(ca)-1):\n",
    "    mina = ca[sa]\n",
    "    minix = sa\n",
    "\n",
    "    for sb in range (sa+1, len(ca)):  # 1이니까 10부터\n",
    "        if mina > ca[sb]:\n",
    "           mina = ca[sb]\n",
    "           minix = sb\n",
    "    \n",
    "    temp = ca [sa]\n",
    "    ca[sa] = ca [minix]\n",
    "    ca [minix] = temp\n",
    "\n",
    "    print(ca)"
   ]
  },
  {
   "cell_type": "code",
   "execution_count": 37,
   "id": "680c8d69-5fc6-43ef-b36a-2e7b22ada1c0",
   "metadata": {},
   "outputs": [
    {
     "name": "stdout",
     "output_type": "stream",
     "text": [
      "[10, 21, 11, 15, 13]\n",
      "[10, 11, 21, 15, 13]\n",
      "[10, 11, 13, 15, 21]\n",
      "[10, 11, 13, 15, 21]\n",
      "[10, 11, 13, 15, 21]\n"
     ]
    }
   ],
   "source": [
    "def user_sort(ca):\n",
    "   \n",
    "    for sa in range(0, len(ca)-1):\n",
    "        mina = ca[sa]\n",
    "        minix = sa\n",
    "\n",
    "        for sb in range (sa+1, len(ca)):  # 1이니까 10부터\n",
    "            if mina > ca[sb]:\n",
    "               mina = ca[sb]\n",
    "               minix = sb\n",
    "    \n",
    "        temp = ca [sa]\n",
    "        ca[sa] = ca [minix]\n",
    "        ca [minix] = temp\n",
    "    \n",
    "        print(ca)\n",
    "ca = [21,10,11,15,13]\n",
    "user_sort(ca)\n",
    "print(ca)"
   ]
  },
  {
   "cell_type": "code",
   "execution_count": 38,
   "id": "ef64224c-d96e-4410-aa68-3c16c454056d",
   "metadata": {},
   "outputs": [
    {
     "name": "stdout",
     "output_type": "stream",
     "text": [
      "[10, 11, 13, 15, 21]\n"
     ]
    }
   ],
   "source": [
    "ca= [21,10,11,15,13]  \n",
    "ca.sort()               # 오름차순\n",
    "print(ca)"
   ]
  },
  {
   "cell_type": "code",
   "execution_count": 40,
   "id": "fd8f6051-4c87-49bd-ac09-446000f0864e",
   "metadata": {},
   "outputs": [
    {
     "name": "stdout",
     "output_type": "stream",
     "text": [
      "[21, 15, 13, 11, 10]\n"
     ]
    }
   ],
   "source": [
    "ca= [21,10,11,15,13]\n",
    "ca.sort(reverse=True)   # 내림차순\n",
    "print(ca)"
   ]
  },
  {
   "cell_type": "markdown",
   "id": "31b22ca3-7b12-4933-9ce6-914351153ff5",
   "metadata": {},
   "source": [
    "# 딕셔너리를 매개변수로 사용하는 방법\n",
    "괄호안 (ca) :파라미터, 매개변수\n",
    "딕셔너리는 (Key, value)"
   ]
  },
  {
   "cell_type": "code",
   "execution_count": 42,
   "id": "2dbfa677-3ae5-4c7a-92c6-e5cce1081f07",
   "metadata": {},
   "outputs": [
    {
     "name": "stdout",
     "output_type": "stream",
     "text": [
      "{'mon': '월', 'tue': '화', 'wed': '수'}\n"
     ]
    }
   ],
   "source": [
    "a={'mon' : '월','tue' : '화', 'wed' : '수'}\n",
    "print(a)"
   ]
  },
  {
   "cell_type": "code",
   "execution_count": 43,
   "id": "f4368fe0-eebb-4b15-a00f-e6e7983d4352",
   "metadata": {},
   "outputs": [
    {
     "name": "stdout",
     "output_type": "stream",
     "text": [
      "{'mon': '월', 'tue': '화', 'wed': '수'}\n"
     ]
    }
   ],
   "source": [
    "x = a\n",
    "print(x)"
   ]
  },
  {
   "cell_type": "code",
   "execution_count": 45,
   "id": "7a87abdd-c7e5-4ab8-9bfa-e3a60bb136dc",
   "metadata": {},
   "outputs": [
    {
     "name": "stdout",
     "output_type": "stream",
     "text": [
      "{'mon': '일', 'tue': '화', 'wed': '수'}\n",
      "{'mon': '일', 'tue': '화', 'wed': '수'}\n"
     ]
    }
   ],
   "source": [
    "x['mon'] = '일'  # 값을  x에만 줬는데  a 도 변경됨\n",
    "print(x)\n",
    "print(a)"
   ]
  },
  {
   "cell_type": "code",
   "execution_count": 50,
   "id": "87c6b33d-484b-4827-a1ff-11a481204b3d",
   "metadata": {},
   "outputs": [],
   "source": [
    "def fch(x):  # function character change\n",
    "    x['mon'] = '일'"
   ]
  },
  {
   "cell_type": "code",
   "execution_count": 56,
   "id": "087021e0-50dd-40ab-aa86-302bb74df0e0",
   "metadata": {},
   "outputs": [
    {
     "name": "stdout",
     "output_type": "stream",
     "text": [
      "{'mon': '월', 'tue': '화', 'wed': '수'}\n",
      "{'mon': '월', 'tue': '화', 'wed': '수'}\n"
     ]
    }
   ],
   "source": [
    "a={'mon' : '월','tue' : '화', 'wed' : '수'}\n",
    "print(a)\n",
    "x = a\n",
    "print(x)"
   ]
  },
  {
   "cell_type": "code",
   "execution_count": 62,
   "id": "a149bcd6-18cb-4cb6-a255-d38ffa3f1d18",
   "metadata": {},
   "outputs": [
    {
     "name": "stdout",
     "output_type": "stream",
     "text": [
      "함수 실행 전 :  {'mon': '일', 'tue': '화', 'wed': '수'}\n",
      "함수 실행 후 :  {'mon': '일', 'tue': '화', 'wed': '수'}\n"
     ]
    }
   ],
   "source": [
    "print(\"함수 실행 전 : \",a)\n",
    "fch(a)\n",
    "print(\"함수 실행 후 : \",a)"
   ]
  },
  {
   "cell_type": "code",
   "execution_count": 58,
   "id": "ec2ce5c9-b0c2-4b5f-a5e2-f6395e0e65d7",
   "metadata": {},
   "outputs": [
    {
     "name": "stdout",
     "output_type": "stream",
     "text": [
      "함수 실행 전 :  {'mon': '일', 'tue': '화', 'wed': '수'}\n"
     ]
    }
   ],
   "source": [
    "print(\"함수 실행 전 : \",x)"
   ]
  },
  {
   "cell_type": "markdown",
   "id": "e0a11fa0-5746-4cb9-bfe9-e8909aba97c9",
   "metadata": {},
   "source": [
    "# *args 에서 \"*\"의 의미 : 매개변수가 유동적일 때 \"*\" 사용함"
   ]
  },
  {
   "cell_type": "code",
   "execution_count": 67,
   "id": "8a3c070e-68ff-4f25-a7ce-062aa8732754",
   "metadata": {},
   "outputs": [
    {
     "name": "stdout",
     "output_type": "stream",
     "text": [
      "1\n",
      "2\n",
      "3\n",
      "4\n",
      "5\n"
     ]
    }
   ],
   "source": [
    "def my_func(*args):  # 이름 상관 없음\n",
    "    for arg in args:\n",
    "        print(arg)\n",
    "        \n",
    "my_func(1,2,3,4,5)"
   ]
  },
  {
   "cell_type": "code",
   "execution_count": 66,
   "id": "c94ccb70-1d7d-465d-a4cd-5a0e23c51f7c",
   "metadata": {},
   "outputs": [
    {
     "name": "stdout",
     "output_type": "stream",
     "text": [
      "1\n",
      "2\n",
      "3\n"
     ]
    }
   ],
   "source": [
    "my_func(1,2,3)"
   ]
  },
  {
   "cell_type": "markdown",
   "id": "9ac37874-e138-4d25-b358-19bdd324b05c",
   "metadata": {},
   "source": [
    "## **kwargs 에서 \"**\" 의미 : 딕셔너리 데이터를 파라미터로 사용(유동적)"
   ]
  },
  {
   "cell_type": "code",
   "execution_count": 71,
   "id": "dafbbc15-7d75-46df-8310-483d448ea732",
   "metadata": {},
   "outputs": [
    {
     "ename": "SyntaxError",
     "evalue": "invalid syntax. Perhaps you forgot a comma? (1482575960.py, line 3)",
     "output_type": "error",
     "traceback": [
      "\u001b[1;36m  Cell \u001b[1;32mIn[71], line 3\u001b[1;36m\u001b[0m\n\u001b[1;33m    print('key : ',key, '.value : ' value)\u001b[0m\n\u001b[1;37m                        ^\u001b[0m\n\u001b[1;31mSyntaxError\u001b[0m\u001b[1;31m:\u001b[0m invalid syntax. Perhaps you forgot a comma?\n"
     ]
    }
   ],
   "source": [
    "def my_func(**kwargs):\n",
    "    for key, value in kwargs.items():  # 딕셔너리 개수만큼 모음\n",
    "        print('key : ',key, '.value : ' value)"
   ]
  },
  {
   "cell_type": "code",
   "execution_count": 77,
   "id": "8054ea3b-eb03-46e4-9fef-4afbce6f295e",
   "metadata": {},
   "outputs": [
    {
     "ename": "SyntaxError",
     "evalue": "positional argument follows keyword argument (2468795710.py, line 1)",
     "output_type": "error",
     "traceback": [
      "\u001b[1;36m  Cell \u001b[1;32mIn[77], line 1\u001b[1;36m\u001b[0m\n\u001b[1;33m    my_func(name='john',age =30, gender 'male' , loc ='서울시')\u001b[0m\n\u001b[1;37m                                                     ^\u001b[0m\n\u001b[1;31mSyntaxError\u001b[0m\u001b[1;31m:\u001b[0m positional argument follows keyword argument\n"
     ]
    }
   ],
   "source": [
    "my_func(name='john',age =30, gender 'male' , loc ='서울시')\n",
    "    "
   ]
  },
  {
   "cell_type": "code",
   "execution_count": 82,
   "id": "e743a07e-76c9-4c63-89d1-a6bf9a01dd1a",
   "metadata": {},
   "outputs": [],
   "source": [
    "def my_func(args, **kwargs):    # *, **는 순서가 바뀌면 안됨\n",
    "        for arg in args:\n",
    "            print(arg)\n",
    "        for key, value in kwargs.items():\n",
    "            print('key:/',key,'value:'.value)\n",
    "\n",
    "        "
   ]
  },
  {
   "cell_type": "code",
   "execution_count": null,
   "id": "dac0913c-33a8-4cd6-85ee-c9e773e1efde",
   "metadata": {},
   "outputs": [],
   "source": [
    "my_func(1,2,3,4,5, name "
   ]
  }
 ],
 "metadata": {
  "kernelspec": {
   "display_name": "Python 3 (ipykernel)",
   "language": "python",
   "name": "python3"
  },
  "language_info": {
   "codemirror_mode": {
    "name": "ipython",
    "version": 3
   },
   "file_extension": ".py",
   "mimetype": "text/x-python",
   "name": "python",
   "nbconvert_exporter": "python",
   "pygments_lexer": "ipython3",
   "version": "3.12.8"
  }
 },
 "nbformat": 4,
 "nbformat_minor": 5
}
